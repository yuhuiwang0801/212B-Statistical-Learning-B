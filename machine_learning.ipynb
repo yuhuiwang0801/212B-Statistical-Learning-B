{
  "cells": [
    {
      "cell_type": "markdown",
      "metadata": {
        "id": "jU8AlDWtVpK7"
      },
      "source": [
        "# Stupidbirds Project\n",
        "\n"
      ]
    },
    {
      "cell_type": "markdown",
      "metadata": {
        "id": "2TpANS3Hpgv2"
      },
      "source": [
        "## Indicators of Heart Disease EDA"
      ]
    },
    {
      "cell_type": "code",
      "execution_count": null,
      "metadata": {
        "colab": {
          "base_uri": "https://localhost:8080/"
        },
        "id": "cY2iurrHuRVI",
        "outputId": "0daa7092-bb37-4b91-c516-69a24e0c12aa"
      },
      "outputs": [
        {
          "output_type": "stream",
          "name": "stdout",
          "text": [
            "Collecting shap\n",
            "  Downloading shap-0.45.1-cp310-cp310-manylinux_2_12_x86_64.manylinux2010_x86_64.manylinux_2_17_x86_64.manylinux2014_x86_64.whl (540 kB)\n",
            "\u001b[2K     \u001b[90m━━━━━━━━━━━━━━━━━━━━━━━━━━━━━━━━━━━━━━━━\u001b[0m \u001b[32m540.5/540.5 kB\u001b[0m \u001b[31m7.8 MB/s\u001b[0m eta \u001b[36m0:00:00\u001b[0m\n",
            "\u001b[?25hRequirement already satisfied: numpy in /usr/local/lib/python3.10/dist-packages (from shap) (1.25.2)\n",
            "Requirement already satisfied: scipy in /usr/local/lib/python3.10/dist-packages (from shap) (1.11.4)\n",
            "Requirement already satisfied: scikit-learn in /usr/local/lib/python3.10/dist-packages (from shap) (1.2.2)\n",
            "Requirement already satisfied: pandas in /usr/local/lib/python3.10/dist-packages (from shap) (2.0.3)\n",
            "Requirement already satisfied: tqdm>=4.27.0 in /usr/local/lib/python3.10/dist-packages (from shap) (4.66.4)\n",
            "Requirement already satisfied: packaging>20.9 in /usr/local/lib/python3.10/dist-packages (from shap) (24.0)\n",
            "Collecting slicer==0.0.8 (from shap)\n",
            "  Downloading slicer-0.0.8-py3-none-any.whl (15 kB)\n",
            "Requirement already satisfied: numba in /usr/local/lib/python3.10/dist-packages (from shap) (0.58.1)\n",
            "Requirement already satisfied: cloudpickle in /usr/local/lib/python3.10/dist-packages (from shap) (2.2.1)\n",
            "Requirement already satisfied: llvmlite<0.42,>=0.41.0dev0 in /usr/local/lib/python3.10/dist-packages (from numba->shap) (0.41.1)\n",
            "Requirement already satisfied: python-dateutil>=2.8.2 in /usr/local/lib/python3.10/dist-packages (from pandas->shap) (2.8.2)\n",
            "Requirement already satisfied: pytz>=2020.1 in /usr/local/lib/python3.10/dist-packages (from pandas->shap) (2023.4)\n",
            "Requirement already satisfied: tzdata>=2022.1 in /usr/local/lib/python3.10/dist-packages (from pandas->shap) (2024.1)\n",
            "Requirement already satisfied: joblib>=1.1.1 in /usr/local/lib/python3.10/dist-packages (from scikit-learn->shap) (1.4.2)\n",
            "Requirement already satisfied: threadpoolctl>=2.0.0 in /usr/local/lib/python3.10/dist-packages (from scikit-learn->shap) (3.5.0)\n",
            "Requirement already satisfied: six>=1.5 in /usr/local/lib/python3.10/dist-packages (from python-dateutil>=2.8.2->pandas->shap) (1.16.0)\n",
            "Installing collected packages: slicer, shap\n",
            "Successfully installed shap-0.45.1 slicer-0.0.8\n",
            "Collecting pycaret\n",
            "  Downloading pycaret-3.3.2-py3-none-any.whl (486 kB)\n",
            "\u001b[2K     \u001b[90m━━━━━━━━━━━━━━━━━━━━━━━━━━━━━━━━━━━━━━━━\u001b[0m \u001b[32m486.1/486.1 kB\u001b[0m \u001b[31m7.3 MB/s\u001b[0m eta \u001b[36m0:00:00\u001b[0m\n",
            "\u001b[?25hRequirement already satisfied: ipython>=5.5.0 in /usr/local/lib/python3.10/dist-packages (from pycaret) (7.34.0)\n",
            "Requirement already satisfied: ipywidgets>=7.6.5 in /usr/local/lib/python3.10/dist-packages (from pycaret) (7.7.1)\n",
            "Requirement already satisfied: tqdm>=4.62.0 in /usr/local/lib/python3.10/dist-packages (from pycaret) (4.66.4)\n",
            "Requirement already satisfied: numpy<1.27,>=1.21 in /usr/local/lib/python3.10/dist-packages (from pycaret) (1.25.2)\n",
            "Requirement already satisfied: pandas<2.2.0 in /usr/local/lib/python3.10/dist-packages (from pycaret) (2.0.3)\n",
            "Requirement already satisfied: jinja2>=3 in /usr/local/lib/python3.10/dist-packages (from pycaret) (3.1.4)\n",
            "Requirement already satisfied: scipy<=1.11.4,>=1.6.1 in /usr/local/lib/python3.10/dist-packages (from pycaret) (1.11.4)\n",
            "Collecting joblib<1.4,>=1.2.0 (from pycaret)\n",
            "  Downloading joblib-1.3.2-py3-none-any.whl (302 kB)\n",
            "\u001b[2K     \u001b[90m━━━━━━━━━━━━━━━━━━━━━━━━━━━━━━━━━━━━━━━━\u001b[0m \u001b[32m302.2/302.2 kB\u001b[0m \u001b[31m15.3 MB/s\u001b[0m eta \u001b[36m0:00:00\u001b[0m\n",
            "\u001b[?25hCollecting scikit-learn>1.4.0 (from pycaret)\n",
            "  Downloading scikit_learn-1.5.0-cp310-cp310-manylinux_2_17_x86_64.manylinux2014_x86_64.whl (13.3 MB)\n",
            "\u001b[2K     \u001b[90m━━━━━━━━━━━━━━━━━━━━━━━━━━━━━━━━━━━━━━━━\u001b[0m \u001b[32m13.3/13.3 MB\u001b[0m \u001b[31m37.6 MB/s\u001b[0m eta \u001b[36m0:00:00\u001b[0m\n",
            "\u001b[?25hCollecting pyod>=1.1.3 (from pycaret)\n",
            "  Downloading pyod-1.1.3.tar.gz (160 kB)\n",
            "\u001b[2K     \u001b[90m━━━━━━━━━━━━━━━━━━━━━━━━━━━━━━━━━━━━━━━━\u001b[0m \u001b[32m160.5/160.5 kB\u001b[0m \u001b[31m16.0 MB/s\u001b[0m eta \u001b[36m0:00:00\u001b[0m\n",
            "\u001b[?25h  Preparing metadata (setup.py) ... \u001b[?25l\u001b[?25hdone\n",
            "Collecting imbalanced-learn>=0.12.0 (from pycaret)\n",
            "  Downloading imbalanced_learn-0.12.2-py3-none-any.whl (257 kB)\n",
            "\u001b[2K     \u001b[90m━━━━━━━━━━━━━━━━━━━━━━━━━━━━━━━━━━━━━━━━\u001b[0m \u001b[32m258.0/258.0 kB\u001b[0m \u001b[31m9.9 MB/s\u001b[0m eta \u001b[36m0:00:00\u001b[0m\n",
            "\u001b[?25hCollecting category-encoders>=2.4.0 (from pycaret)\n",
            "  Downloading category_encoders-2.6.3-py2.py3-none-any.whl (81 kB)\n",
            "\u001b[2K     \u001b[90m━━━━━━━━━━━━━━━━━━━━━━━━━━━━━━━━━━━━━━━━\u001b[0m \u001b[32m81.9/81.9 kB\u001b[0m \u001b[31m4.8 MB/s\u001b[0m eta \u001b[36m0:00:00\u001b[0m\n",
            "\u001b[?25hRequirement already satisfied: lightgbm>=3.0.0 in /usr/local/lib/python3.10/dist-packages (from pycaret) (4.1.0)\n",
            "Requirement already satisfied: numba>=0.55.0 in /usr/local/lib/python3.10/dist-packages (from pycaret) (0.58.1)\n",
            "Requirement already satisfied: requests>=2.27.1 in /usr/local/lib/python3.10/dist-packages (from pycaret) (2.31.0)\n",
            "Requirement already satisfied: psutil>=5.9.0 in /usr/local/lib/python3.10/dist-packages (from pycaret) (5.9.5)\n",
            "Requirement already satisfied: markupsafe>=2.0.1 in /usr/local/lib/python3.10/dist-packages (from pycaret) (2.1.5)\n",
            "Requirement already satisfied: importlib-metadata>=4.12.0 in /usr/local/lib/python3.10/dist-packages (from pycaret) (7.1.0)\n",
            "Requirement already satisfied: nbformat>=4.2.0 in /usr/local/lib/python3.10/dist-packages (from pycaret) (5.10.4)\n",
            "Requirement already satisfied: cloudpickle in /usr/local/lib/python3.10/dist-packages (from pycaret) (2.2.1)\n",
            "Collecting deprecation>=2.1.0 (from pycaret)\n",
            "  Downloading deprecation-2.1.0-py2.py3-none-any.whl (11 kB)\n",
            "Collecting xxhash (from pycaret)\n",
            "  Downloading xxhash-3.4.1-cp310-cp310-manylinux_2_17_x86_64.manylinux2014_x86_64.whl (194 kB)\n",
            "\u001b[2K     \u001b[90m━━━━━━━━━━━━━━━━━━━━━━━━━━━━━━━━━━━━━━━━\u001b[0m \u001b[32m194.1/194.1 kB\u001b[0m \u001b[31m5.3 MB/s\u001b[0m eta \u001b[36m0:00:00\u001b[0m\n",
            "\u001b[?25hRequirement already satisfied: matplotlib<3.8.0 in /usr/local/lib/python3.10/dist-packages (from pycaret) (3.7.1)\n",
            "Collecting scikit-plot>=0.3.7 (from pycaret)\n",
            "  Downloading scikit_plot-0.3.7-py3-none-any.whl (33 kB)\n",
            "Requirement already satisfied: yellowbrick>=1.4 in /usr/local/lib/python3.10/dist-packages (from pycaret) (1.5)\n",
            "Requirement already satisfied: plotly>=5.14.0 in /usr/local/lib/python3.10/dist-packages (from pycaret) (5.15.0)\n",
            "Collecting kaleido>=0.2.1 (from pycaret)\n",
            "  Downloading kaleido-0.2.1-py2.py3-none-manylinux1_x86_64.whl (79.9 MB)\n",
            "\u001b[2K     \u001b[90m━━━━━━━━━━━━━━━━━━━━━━━━━━━━━━━━━━━━━━━━\u001b[0m \u001b[32m79.9/79.9 MB\u001b[0m \u001b[31m7.0 MB/s\u001b[0m eta \u001b[36m0:00:00\u001b[0m\n",
            "\u001b[?25hCollecting schemdraw==0.15 (from pycaret)\n",
            "  Downloading schemdraw-0.15-py3-none-any.whl (106 kB)\n",
            "\u001b[2K     \u001b[90m━━━━━━━━━━━━━━━━━━━━━━━━━━━━━━━━━━━━━━━━\u001b[0m \u001b[32m106.8/106.8 kB\u001b[0m \u001b[31m11.3 MB/s\u001b[0m eta \u001b[36m0:00:00\u001b[0m\n",
            "\u001b[?25hCollecting plotly-resampler>=0.8.3.1 (from pycaret)\n",
            "  Downloading plotly_resampler-0.10.0-py3-none-any.whl (80 kB)\n",
            "\u001b[2K     \u001b[90m━━━━━━━━━━━━━━━━━━━━━━━━━━━━━━━━━━━━━━━━\u001b[0m \u001b[32m80.7/80.7 kB\u001b[0m \u001b[31m6.3 MB/s\u001b[0m eta \u001b[36m0:00:00\u001b[0m\n",
            "\u001b[?25hRequirement already satisfied: statsmodels>=0.12.1 in /usr/local/lib/python3.10/dist-packages (from pycaret) (0.14.2)\n",
            "Collecting sktime==0.26.0 (from pycaret)\n",
            "  Downloading sktime-0.26.0-py3-none-any.whl (21.8 MB)\n",
            "\u001b[2K     \u001b[90m━━━━━━━━━━━━━━━━━━━━━━━━━━━━━━━━━━━━━━━━\u001b[0m \u001b[32m21.8/21.8 MB\u001b[0m \u001b[31m16.5 MB/s\u001b[0m eta \u001b[36m0:00:00\u001b[0m\n",
            "\u001b[?25hCollecting tbats>=1.1.3 (from pycaret)\n",
            "  Downloading tbats-1.1.3-py3-none-any.whl (44 kB)\n",
            "\u001b[2K     \u001b[90m━━━━━━━━━━━━━━━━━━━━━━━━━━━━━━━━━━━━━━━━\u001b[0m \u001b[32m44.0/44.0 kB\u001b[0m \u001b[31m4.8 MB/s\u001b[0m eta \u001b[36m0:00:00\u001b[0m\n",
            "\u001b[?25hCollecting pmdarima>=2.0.4 (from pycaret)\n",
            "  Downloading pmdarima-2.0.4-cp310-cp310-manylinux_2_17_x86_64.manylinux2014_x86_64.manylinux_2_28_x86_64.whl (2.1 MB)\n",
            "\u001b[2K     \u001b[90m━━━━━━━━━━━━━━━━━━━━━━━━━━━━━━━━━━━━━━━━\u001b[0m \u001b[32m2.1/2.1 MB\u001b[0m \u001b[31m53.8 MB/s\u001b[0m eta \u001b[36m0:00:00\u001b[0m\n",
            "\u001b[?25hCollecting wurlitzer (from pycaret)\n",
            "  Downloading wurlitzer-3.1.0-py3-none-any.whl (8.4 kB)\n",
            "Requirement already satisfied: packaging in /usr/local/lib/python3.10/dist-packages (from sktime==0.26.0->pycaret) (24.0)\n",
            "Collecting scikit-base<0.8.0 (from sktime==0.26.0->pycaret)\n",
            "  Downloading scikit_base-0.7.8-py3-none-any.whl (130 kB)\n",
            "\u001b[2K     \u001b[90m━━━━━━━━━━━━━━━━━━━━━━━━━━━━━━━━━━━━━━━━\u001b[0m \u001b[32m130.1/130.1 kB\u001b[0m \u001b[31m13.7 MB/s\u001b[0m eta \u001b[36m0:00:00\u001b[0m\n",
            "\u001b[?25hCollecting scikit-learn>1.4.0 (from pycaret)\n",
            "  Downloading scikit_learn-1.4.2-cp310-cp310-manylinux_2_17_x86_64.manylinux2014_x86_64.whl (12.1 MB)\n",
            "\u001b[2K     \u001b[90m━━━━━━━━━━━━━━━━━━━━━━━━━━━━━━━━━━━━━━━━\u001b[0m \u001b[32m12.1/12.1 MB\u001b[0m \u001b[31m36.6 MB/s\u001b[0m eta \u001b[36m0:00:00\u001b[0m\n",
            "\u001b[?25hRequirement already satisfied: patsy>=0.5.1 in /usr/local/lib/python3.10/dist-packages (from category-encoders>=2.4.0->pycaret) (0.5.6)\n",
            "Requirement already satisfied: threadpoolctl>=2.0.0 in /usr/local/lib/python3.10/dist-packages (from imbalanced-learn>=0.12.0->pycaret) (3.5.0)\n",
            "Requirement already satisfied: zipp>=0.5 in /usr/local/lib/python3.10/dist-packages (from importlib-metadata>=4.12.0->pycaret) (3.18.2)\n",
            "Requirement already satisfied: setuptools>=18.5 in /usr/local/lib/python3.10/dist-packages (from ipython>=5.5.0->pycaret) (67.7.2)\n",
            "Collecting jedi>=0.16 (from ipython>=5.5.0->pycaret)\n",
            "  Downloading jedi-0.19.1-py2.py3-none-any.whl (1.6 MB)\n",
            "\u001b[2K     \u001b[90m━━━━━━━━━━━━━━━━━━━━━━━━━━━━━━━━━━━━━━━━\u001b[0m \u001b[32m1.6/1.6 MB\u001b[0m \u001b[31m43.7 MB/s\u001b[0m eta \u001b[36m0:00:00\u001b[0m\n",
            "\u001b[?25hRequirement already satisfied: decorator in /usr/local/lib/python3.10/dist-packages (from ipython>=5.5.0->pycaret) (4.4.2)\n",
            "Requirement already satisfied: pickleshare in /usr/local/lib/python3.10/dist-packages (from ipython>=5.5.0->pycaret) (0.7.5)\n",
            "Requirement already satisfied: traitlets>=4.2 in /usr/local/lib/python3.10/dist-packages (from ipython>=5.5.0->pycaret) (5.7.1)\n",
            "Requirement already satisfied: prompt-toolkit!=3.0.0,!=3.0.1,<3.1.0,>=2.0.0 in /usr/local/lib/python3.10/dist-packages (from ipython>=5.5.0->pycaret) (3.0.43)\n",
            "Requirement already satisfied: pygments in /usr/local/lib/python3.10/dist-packages (from ipython>=5.5.0->pycaret) (2.16.1)\n",
            "Requirement already satisfied: backcall in /usr/local/lib/python3.10/dist-packages (from ipython>=5.5.0->pycaret) (0.2.0)\n",
            "Requirement already satisfied: matplotlib-inline in /usr/local/lib/python3.10/dist-packages (from ipython>=5.5.0->pycaret) (0.1.7)\n",
            "Requirement already satisfied: pexpect>4.3 in /usr/local/lib/python3.10/dist-packages (from ipython>=5.5.0->pycaret) (4.9.0)\n",
            "Requirement already satisfied: ipykernel>=4.5.1 in /usr/local/lib/python3.10/dist-packages (from ipywidgets>=7.6.5->pycaret) (5.5.6)\n",
            "Requirement already satisfied: ipython-genutils~=0.2.0 in /usr/local/lib/python3.10/dist-packages (from ipywidgets>=7.6.5->pycaret) (0.2.0)\n",
            "Requirement already satisfied: widgetsnbextension~=3.6.0 in /usr/local/lib/python3.10/dist-packages (from ipywidgets>=7.6.5->pycaret) (3.6.6)\n",
            "Requirement already satisfied: jupyterlab-widgets>=1.0.0 in /usr/local/lib/python3.10/dist-packages (from ipywidgets>=7.6.5->pycaret) (3.0.10)\n",
            "Requirement already satisfied: contourpy>=1.0.1 in /usr/local/lib/python3.10/dist-packages (from matplotlib<3.8.0->pycaret) (1.2.1)\n",
            "Requirement already satisfied: cycler>=0.10 in /usr/local/lib/python3.10/dist-packages (from matplotlib<3.8.0->pycaret) (0.12.1)\n",
            "Requirement already satisfied: fonttools>=4.22.0 in /usr/local/lib/python3.10/dist-packages (from matplotlib<3.8.0->pycaret) (4.51.0)\n",
            "Requirement already satisfied: kiwisolver>=1.0.1 in /usr/local/lib/python3.10/dist-packages (from matplotlib<3.8.0->pycaret) (1.4.5)\n",
            "Requirement already satisfied: pillow>=6.2.0 in /usr/local/lib/python3.10/dist-packages (from matplotlib<3.8.0->pycaret) (9.4.0)\n",
            "Requirement already satisfied: pyparsing>=2.3.1 in /usr/local/lib/python3.10/dist-packages (from matplotlib<3.8.0->pycaret) (3.1.2)\n",
            "Requirement already satisfied: python-dateutil>=2.7 in /usr/local/lib/python3.10/dist-packages (from matplotlib<3.8.0->pycaret) (2.8.2)\n",
            "Requirement already satisfied: fastjsonschema>=2.15 in /usr/local/lib/python3.10/dist-packages (from nbformat>=4.2.0->pycaret) (2.19.1)\n",
            "Requirement already satisfied: jsonschema>=2.6 in /usr/local/lib/python3.10/dist-packages (from nbformat>=4.2.0->pycaret) (4.19.2)\n",
            "Requirement already satisfied: jupyter-core!=5.0.*,>=4.12 in /usr/local/lib/python3.10/dist-packages (from nbformat>=4.2.0->pycaret) (5.7.2)\n",
            "Requirement already satisfied: llvmlite<0.42,>=0.41.0dev0 in /usr/local/lib/python3.10/dist-packages (from numba>=0.55.0->pycaret) (0.41.1)\n",
            "Requirement already satisfied: pytz>=2020.1 in /usr/local/lib/python3.10/dist-packages (from pandas<2.2.0->pycaret) (2023.4)\n",
            "Requirement already satisfied: tzdata>=2022.1 in /usr/local/lib/python3.10/dist-packages (from pandas<2.2.0->pycaret) (2024.1)\n",
            "Requirement already satisfied: tenacity>=6.2.0 in /usr/local/lib/python3.10/dist-packages (from plotly>=5.14.0->pycaret) (8.3.0)\n",
            "Collecting dash>=2.9.0 (from plotly-resampler>=0.8.3.1->pycaret)\n",
            "  Downloading dash-2.17.0-py3-none-any.whl (7.5 MB)\n",
            "\u001b[2K     \u001b[90m━━━━━━━━━━━━━━━━━━━━━━━━━━━━━━━━━━━━━━━━\u001b[0m \u001b[32m7.5/7.5 MB\u001b[0m \u001b[31m54.1 MB/s\u001b[0m eta \u001b[36m0:00:00\u001b[0m\n",
            "\u001b[?25hCollecting orjson<4.0.0,>=3.8.0 (from plotly-resampler>=0.8.3.1->pycaret)\n",
            "  Downloading orjson-3.10.3-cp310-cp310-manylinux_2_17_x86_64.manylinux2014_x86_64.whl (142 kB)\n",
            "\u001b[2K     \u001b[90m━━━━━━━━━━━━━━━━━━━━━━━━━━━━━━━━━━━━━━━━\u001b[0m \u001b[32m142.5/142.5 kB\u001b[0m \u001b[31m9.2 MB/s\u001b[0m eta \u001b[36m0:00:00\u001b[0m\n",
            "\u001b[?25hCollecting tsdownsample>=0.1.3 (from plotly-resampler>=0.8.3.1->pycaret)\n",
            "  Downloading tsdownsample-0.1.3-cp310-cp310-manylinux_2_17_x86_64.manylinux2014_x86_64.whl (2.1 MB)\n",
            "\u001b[2K     \u001b[90m━━━━━━━━━━━━━━━━━━━━━━━━━━━━━━━━━━━━━━━━\u001b[0m \u001b[32m2.1/2.1 MB\u001b[0m \u001b[31m41.5 MB/s\u001b[0m eta \u001b[36m0:00:00\u001b[0m\n",
            "\u001b[?25hRequirement already satisfied: Cython!=0.29.18,!=0.29.31,>=0.29 in /usr/local/lib/python3.10/dist-packages (from pmdarima>=2.0.4->pycaret) (3.0.10)\n",
            "Requirement already satisfied: urllib3 in /usr/local/lib/python3.10/dist-packages (from pmdarima>=2.0.4->pycaret) (2.0.7)\n",
            "Requirement already satisfied: six in /usr/local/lib/python3.10/dist-packages (from pyod>=1.1.3->pycaret) (1.16.0)\n",
            "Requirement already satisfied: charset-normalizer<4,>=2 in /usr/local/lib/python3.10/dist-packages (from requests>=2.27.1->pycaret) (3.3.2)\n",
            "Requirement already satisfied: idna<4,>=2.5 in /usr/local/lib/python3.10/dist-packages (from requests>=2.27.1->pycaret) (3.7)\n",
            "Requirement already satisfied: certifi>=2017.4.17 in /usr/local/lib/python3.10/dist-packages (from requests>=2.27.1->pycaret) (2024.2.2)\n",
            "Requirement already satisfied: Flask<3.1,>=1.0.4 in /usr/local/lib/python3.10/dist-packages (from dash>=2.9.0->plotly-resampler>=0.8.3.1->pycaret) (2.2.5)\n",
            "Requirement already satisfied: Werkzeug<3.1 in /usr/local/lib/python3.10/dist-packages (from dash>=2.9.0->plotly-resampler>=0.8.3.1->pycaret) (3.0.3)\n",
            "Collecting dash-html-components==2.0.0 (from dash>=2.9.0->plotly-resampler>=0.8.3.1->pycaret)\n",
            "  Downloading dash_html_components-2.0.0-py3-none-any.whl (4.1 kB)\n",
            "Collecting dash-core-components==2.0.0 (from dash>=2.9.0->plotly-resampler>=0.8.3.1->pycaret)\n",
            "  Downloading dash_core_components-2.0.0-py3-none-any.whl (3.8 kB)\n",
            "Collecting dash-table==5.0.0 (from dash>=2.9.0->plotly-resampler>=0.8.3.1->pycaret)\n",
            "  Downloading dash_table-5.0.0-py3-none-any.whl (3.9 kB)\n",
            "Requirement already satisfied: typing-extensions>=4.1.1 in /usr/local/lib/python3.10/dist-packages (from dash>=2.9.0->plotly-resampler>=0.8.3.1->pycaret) (4.11.0)\n",
            "Collecting retrying (from dash>=2.9.0->plotly-resampler>=0.8.3.1->pycaret)\n",
            "  Downloading retrying-1.3.4-py3-none-any.whl (11 kB)\n",
            "Requirement already satisfied: nest-asyncio in /usr/local/lib/python3.10/dist-packages (from dash>=2.9.0->plotly-resampler>=0.8.3.1->pycaret) (1.6.0)\n",
            "Requirement already satisfied: jupyter-client in /usr/local/lib/python3.10/dist-packages (from ipykernel>=4.5.1->ipywidgets>=7.6.5->pycaret) (6.1.12)\n",
            "Requirement already satisfied: tornado>=4.2 in /usr/local/lib/python3.10/dist-packages (from ipykernel>=4.5.1->ipywidgets>=7.6.5->pycaret) (6.3.3)\n",
            "Requirement already satisfied: parso<0.9.0,>=0.8.3 in /usr/local/lib/python3.10/dist-packages (from jedi>=0.16->ipython>=5.5.0->pycaret) (0.8.4)\n",
            "Requirement already satisfied: attrs>=22.2.0 in /usr/local/lib/python3.10/dist-packages (from jsonschema>=2.6->nbformat>=4.2.0->pycaret) (23.2.0)\n",
            "Requirement already satisfied: jsonschema-specifications>=2023.03.6 in /usr/local/lib/python3.10/dist-packages (from jsonschema>=2.6->nbformat>=4.2.0->pycaret) (2023.12.1)\n",
            "Requirement already satisfied: referencing>=0.28.4 in /usr/local/lib/python3.10/dist-packages (from jsonschema>=2.6->nbformat>=4.2.0->pycaret) (0.35.1)\n",
            "Requirement already satisfied: rpds-py>=0.7.1 in /usr/local/lib/python3.10/dist-packages (from jsonschema>=2.6->nbformat>=4.2.0->pycaret) (0.18.1)\n",
            "Requirement already satisfied: platformdirs>=2.5 in /usr/local/lib/python3.10/dist-packages (from jupyter-core!=5.0.*,>=4.12->nbformat>=4.2.0->pycaret) (4.2.2)\n",
            "Requirement already satisfied: ptyprocess>=0.5 in /usr/local/lib/python3.10/dist-packages (from pexpect>4.3->ipython>=5.5.0->pycaret) (0.7.0)\n",
            "Requirement already satisfied: wcwidth in /usr/local/lib/python3.10/dist-packages (from prompt-toolkit!=3.0.0,!=3.0.1,<3.1.0,>=2.0.0->ipython>=5.5.0->pycaret) (0.2.13)\n",
            "Requirement already satisfied: notebook>=4.4.1 in /usr/local/lib/python3.10/dist-packages (from widgetsnbextension~=3.6.0->ipywidgets>=7.6.5->pycaret) (6.5.5)\n",
            "Requirement already satisfied: itsdangerous>=2.0 in /usr/local/lib/python3.10/dist-packages (from Flask<3.1,>=1.0.4->dash>=2.9.0->plotly-resampler>=0.8.3.1->pycaret) (2.2.0)\n",
            "Requirement already satisfied: click>=8.0 in /usr/local/lib/python3.10/dist-packages (from Flask<3.1,>=1.0.4->dash>=2.9.0->plotly-resampler>=0.8.3.1->pycaret) (8.1.7)\n",
            "Requirement already satisfied: pyzmq<25,>=17 in /usr/local/lib/python3.10/dist-packages (from notebook>=4.4.1->widgetsnbextension~=3.6.0->ipywidgets>=7.6.5->pycaret) (24.0.1)\n",
            "Requirement already satisfied: argon2-cffi in /usr/local/lib/python3.10/dist-packages (from notebook>=4.4.1->widgetsnbextension~=3.6.0->ipywidgets>=7.6.5->pycaret) (23.1.0)\n",
            "Requirement already satisfied: nbconvert>=5 in /usr/local/lib/python3.10/dist-packages (from notebook>=4.4.1->widgetsnbextension~=3.6.0->ipywidgets>=7.6.5->pycaret) (6.5.4)\n",
            "Requirement already satisfied: Send2Trash>=1.8.0 in /usr/local/lib/python3.10/dist-packages (from notebook>=4.4.1->widgetsnbextension~=3.6.0->ipywidgets>=7.6.5->pycaret) (1.8.3)\n",
            "Requirement already satisfied: terminado>=0.8.3 in /usr/local/lib/python3.10/dist-packages (from notebook>=4.4.1->widgetsnbextension~=3.6.0->ipywidgets>=7.6.5->pycaret) (0.18.1)\n",
            "Requirement already satisfied: prometheus-client in /usr/local/lib/python3.10/dist-packages (from notebook>=4.4.1->widgetsnbextension~=3.6.0->ipywidgets>=7.6.5->pycaret) (0.20.0)\n",
            "Requirement already satisfied: nbclassic>=0.4.7 in /usr/local/lib/python3.10/dist-packages (from notebook>=4.4.1->widgetsnbextension~=3.6.0->ipywidgets>=7.6.5->pycaret) (1.0.0)\n",
            "Requirement already satisfied: jupyter-server>=1.8 in /usr/local/lib/python3.10/dist-packages (from nbclassic>=0.4.7->notebook>=4.4.1->widgetsnbextension~=3.6.0->ipywidgets>=7.6.5->pycaret) (1.24.0)\n",
            "Requirement already satisfied: notebook-shim>=0.2.3 in /usr/local/lib/python3.10/dist-packages (from nbclassic>=0.4.7->notebook>=4.4.1->widgetsnbextension~=3.6.0->ipywidgets>=7.6.5->pycaret) (0.2.4)\n",
            "Requirement already satisfied: lxml in /usr/local/lib/python3.10/dist-packages (from nbconvert>=5->notebook>=4.4.1->widgetsnbextension~=3.6.0->ipywidgets>=7.6.5->pycaret) (4.9.4)\n",
            "Requirement already satisfied: beautifulsoup4 in /usr/local/lib/python3.10/dist-packages (from nbconvert>=5->notebook>=4.4.1->widgetsnbextension~=3.6.0->ipywidgets>=7.6.5->pycaret) (4.12.3)\n",
            "Requirement already satisfied: bleach in /usr/local/lib/python3.10/dist-packages (from nbconvert>=5->notebook>=4.4.1->widgetsnbextension~=3.6.0->ipywidgets>=7.6.5->pycaret) (6.1.0)\n",
            "Requirement already satisfied: defusedxml in /usr/local/lib/python3.10/dist-packages (from nbconvert>=5->notebook>=4.4.1->widgetsnbextension~=3.6.0->ipywidgets>=7.6.5->pycaret) (0.7.1)\n",
            "Requirement already satisfied: entrypoints>=0.2.2 in /usr/local/lib/python3.10/dist-packages (from nbconvert>=5->notebook>=4.4.1->widgetsnbextension~=3.6.0->ipywidgets>=7.6.5->pycaret) (0.4)\n",
            "Requirement already satisfied: jupyterlab-pygments in /usr/local/lib/python3.10/dist-packages (from nbconvert>=5->notebook>=4.4.1->widgetsnbextension~=3.6.0->ipywidgets>=7.6.5->pycaret) (0.3.0)\n",
            "Requirement already satisfied: mistune<2,>=0.8.1 in /usr/local/lib/python3.10/dist-packages (from nbconvert>=5->notebook>=4.4.1->widgetsnbextension~=3.6.0->ipywidgets>=7.6.5->pycaret) (0.8.4)\n",
            "Requirement already satisfied: nbclient>=0.5.0 in /usr/local/lib/python3.10/dist-packages (from nbconvert>=5->notebook>=4.4.1->widgetsnbextension~=3.6.0->ipywidgets>=7.6.5->pycaret) (0.10.0)\n",
            "Requirement already satisfied: pandocfilters>=1.4.1 in /usr/local/lib/python3.10/dist-packages (from nbconvert>=5->notebook>=4.4.1->widgetsnbextension~=3.6.0->ipywidgets>=7.6.5->pycaret) (1.5.1)\n",
            "Requirement already satisfied: tinycss2 in /usr/local/lib/python3.10/dist-packages (from nbconvert>=5->notebook>=4.4.1->widgetsnbextension~=3.6.0->ipywidgets>=7.6.5->pycaret) (1.3.0)\n",
            "Requirement already satisfied: argon2-cffi-bindings in /usr/local/lib/python3.10/dist-packages (from argon2-cffi->notebook>=4.4.1->widgetsnbextension~=3.6.0->ipywidgets>=7.6.5->pycaret) (21.2.0)\n",
            "Requirement already satisfied: anyio<4,>=3.1.0 in /usr/local/lib/python3.10/dist-packages (from jupyter-server>=1.8->nbclassic>=0.4.7->notebook>=4.4.1->widgetsnbextension~=3.6.0->ipywidgets>=7.6.5->pycaret) (3.7.1)\n",
            "Requirement already satisfied: websocket-client in /usr/local/lib/python3.10/dist-packages (from jupyter-server>=1.8->nbclassic>=0.4.7->notebook>=4.4.1->widgetsnbextension~=3.6.0->ipywidgets>=7.6.5->pycaret) (1.8.0)\n",
            "Requirement already satisfied: cffi>=1.0.1 in /usr/local/lib/python3.10/dist-packages (from argon2-cffi-bindings->argon2-cffi->notebook>=4.4.1->widgetsnbextension~=3.6.0->ipywidgets>=7.6.5->pycaret) (1.16.0)\n",
            "Requirement already satisfied: soupsieve>1.2 in /usr/local/lib/python3.10/dist-packages (from beautifulsoup4->nbconvert>=5->notebook>=4.4.1->widgetsnbextension~=3.6.0->ipywidgets>=7.6.5->pycaret) (2.5)\n",
            "Requirement already satisfied: webencodings in /usr/local/lib/python3.10/dist-packages (from bleach->nbconvert>=5->notebook>=4.4.1->widgetsnbextension~=3.6.0->ipywidgets>=7.6.5->pycaret) (0.5.1)\n",
            "Requirement already satisfied: sniffio>=1.1 in /usr/local/lib/python3.10/dist-packages (from anyio<4,>=3.1.0->jupyter-server>=1.8->nbclassic>=0.4.7->notebook>=4.4.1->widgetsnbextension~=3.6.0->ipywidgets>=7.6.5->pycaret) (1.3.1)\n",
            "Requirement already satisfied: exceptiongroup in /usr/local/lib/python3.10/dist-packages (from anyio<4,>=3.1.0->jupyter-server>=1.8->nbclassic>=0.4.7->notebook>=4.4.1->widgetsnbextension~=3.6.0->ipywidgets>=7.6.5->pycaret) (1.2.1)\n",
            "Requirement already satisfied: pycparser in /usr/local/lib/python3.10/dist-packages (from cffi>=1.0.1->argon2-cffi-bindings->argon2-cffi->notebook>=4.4.1->widgetsnbextension~=3.6.0->ipywidgets>=7.6.5->pycaret) (2.22)\n",
            "Building wheels for collected packages: pyod\n",
            "  Building wheel for pyod (setup.py) ... \u001b[?25l\u001b[?25hdone\n",
            "  Created wheel for pyod: filename=pyod-1.1.3-py3-none-any.whl size=190250 sha256=b7a6c47c6b1aa0cc03c815ce063acb9db7dcbccaea4adb526d65953b126f501c\n",
            "  Stored in directory: /root/.cache/pip/wheels/05/f8/db/124d43bec122d6ec0ab3713fadfe25ebed8af52ec561682b4e\n",
            "Successfully built pyod\n",
            "Installing collected packages: kaleido, dash-table, dash-html-components, dash-core-components, xxhash, wurlitzer, tsdownsample, scikit-base, schemdraw, retrying, orjson, joblib, jedi, deprecation, scikit-learn, sktime, scikit-plot, pyod, imbalanced-learn, dash, pmdarima, plotly-resampler, category-encoders, tbats, pycaret\n",
            "  Attempting uninstall: joblib\n",
            "    Found existing installation: joblib 1.4.2\n",
            "    Uninstalling joblib-1.4.2:\n",
            "      Successfully uninstalled joblib-1.4.2\n",
            "  Attempting uninstall: scikit-learn\n",
            "    Found existing installation: scikit-learn 1.2.2\n",
            "    Uninstalling scikit-learn-1.2.2:\n",
            "      Successfully uninstalled scikit-learn-1.2.2\n",
            "  Attempting uninstall: imbalanced-learn\n",
            "    Found existing installation: imbalanced-learn 0.10.1\n",
            "    Uninstalling imbalanced-learn-0.10.1:\n",
            "      Successfully uninstalled imbalanced-learn-0.10.1\n",
            "Successfully installed category-encoders-2.6.3 dash-2.17.0 dash-core-components-2.0.0 dash-html-components-2.0.0 dash-table-5.0.0 deprecation-2.1.0 imbalanced-learn-0.12.2 jedi-0.19.1 joblib-1.3.2 kaleido-0.2.1 orjson-3.10.3 plotly-resampler-0.10.0 pmdarima-2.0.4 pycaret-3.3.2 pyod-1.1.3 retrying-1.3.4 schemdraw-0.15 scikit-base-0.7.8 scikit-learn-1.4.2 scikit-plot-0.3.7 sktime-0.26.0 tbats-1.1.3 tsdownsample-0.1.3 wurlitzer-3.1.0 xxhash-3.4.1\n"
          ]
        }
      ],
      "source": [
        "!pip install shap\n",
        "!pip3 install pycaret"
      ]
    },
    {
      "cell_type": "code",
      "execution_count": null,
      "metadata": {
        "id": "bNsECQbdV21h"
      },
      "outputs": [],
      "source": [
        "#Library imports\n",
        "import numpy as np # for vector / matrix operations\n",
        "import pandas as pd # for data manipulation\n",
        "from matplotlib import pyplot as plt # for basic plots\n",
        "import seaborn as sns # for advanced plots\n",
        "import missingno as msno\n",
        "from sklearn.preprocessing import OneHotEncoder\n",
        "from sklearn.impute import SimpleImputer\n",
        "from sklearn.compose import ColumnTransformer\n",
        "from sklearn.pipeline import Pipeline\n",
        "from sklearn.preprocessing import OneHotEncoder"
      ]
    },
    {
      "cell_type": "code",
      "execution_count": null,
      "metadata": {
        "id": "OrG9gdUxV9iR",
        "colab": {
          "base_uri": "https://localhost:8080/"
        },
        "outputId": "880a0506-a137-4bbb-804c-eb3c1568a5be"
      },
      "outputs": [
        {
          "output_type": "stream",
          "name": "stdout",
          "text": [
            "Mounted at /content/gdrive\n"
          ]
        }
      ],
      "source": [
        "from google.colab import drive\n",
        "drive.mount('/content/gdrive', force_remount=True)\n",
        "\n",
        "#root_dir = \"/content/gdrive/MyDrive/\"\n",
        "indir = '/content/gdrive/MyDrive/stupidbirds/'\n",
        "infile = indir + 'heart_2022_with_nans.csv'"
      ]
    },
    {
      "cell_type": "markdown",
      "metadata": {
        "id": "EG_cpno0ZOxS"
      },
      "source": [
        "### Read in heart raw dataset (with NAs)"
      ]
    },
    {
      "cell_type": "code",
      "execution_count": null,
      "metadata": {
        "id": "serkIfsKXUO7"
      },
      "outputs": [],
      "source": [
        "df_heart = pd.read_csv(infile)\n",
        "df_heart = df_heart[['RaceEthnicityCategory', 'AgeCategory', 'GeneralHealth',\\\n",
        "                     'PhysicalHealthDays', 'PhysicalActivities','SmokerStatus',\\\n",
        "                     'BMI',\\\n",
        "                     'MentalHealthDays', 'HadSkinCancer', 'HadStroke',\\\n",
        "                     'Sex', 'DifficultyWalking', 'AlcoholDrinkers',\\\n",
        "                     'SleepHours','HadAsthma','HadDiabetes',\\\n",
        "                     'HadKidneyDisease','HadHeartAttack']]"
      ]
    },
    {
      "cell_type": "code",
      "execution_count": null,
      "metadata": {
        "id": "DX-s5U2cYLDa",
        "colab": {
          "base_uri": "https://localhost:8080/",
          "height": 296
        },
        "outputId": "576ef3b3-dc0a-430a-a662-e6f093a87ea9"
      },
      "outputs": [
        {
          "output_type": "execute_result",
          "data": {
            "text/plain": [
              "           RaceEthnicityCategory      AgeCategory GeneralHealth  \\\n",
              "402891  White only, Non-Hispanic     Age 55 to 59          Poor   \n",
              "26781   White only, Non-Hispanic  Age 80 or older          Poor   \n",
              "212300  White only, Non-Hispanic     Age 25 to 29     Very good   \n",
              "10244                        NaN     Age 40 to 44     Very good   \n",
              "264858                  Hispanic     Age 50 to 54     Excellent   \n",
              "\n",
              "        PhysicalHealthDays PhysicalActivities  \\\n",
              "402891                30.0                 No   \n",
              "26781                  NaN                 No   \n",
              "212300                 0.0                 No   \n",
              "10244                  3.0                Yes   \n",
              "264858                 0.0                Yes   \n",
              "\n",
              "                                 SmokerStatus    BMI  MentalHealthDays  \\\n",
              "402891  Current smoker - now smokes some days  33.91              30.0   \n",
              "26781   Current smoker - now smokes every day  23.78              30.0   \n",
              "212300                           Never smoked  25.51               3.0   \n",
              "10244                            Never smoked  23.01               2.0   \n",
              "264858                           Never smoked  25.77               0.0   \n",
              "\n",
              "       HadSkinCancer HadStroke     Sex DifficultyWalking AlcoholDrinkers  \\\n",
              "402891            No        No    Male               Yes             Yes   \n",
              "26781             No       Yes  Female               Yes             Yes   \n",
              "212300            No        No  Female                No             Yes   \n",
              "10244             No        No    Male                No             Yes   \n",
              "264858            No        No    Male                No              No   \n",
              "\n",
              "        SleepHours HadAsthma HadDiabetes HadKidneyDisease HadHeartAttack  \n",
              "402891         4.0       Yes          No               No             No  \n",
              "26781          7.0        No          No               No             No  \n",
              "212300         6.0        No          No               No             No  \n",
              "10244          7.0        No          No               No             No  \n",
              "264858         9.0        No          No               No             No  "
            ],
            "text/html": [
              "\n",
              "  <div id=\"df-32ccc060-1c29-4481-afa7-176cb4069177\" class=\"colab-df-container\">\n",
              "    <div>\n",
              "<style scoped>\n",
              "    .dataframe tbody tr th:only-of-type {\n",
              "        vertical-align: middle;\n",
              "    }\n",
              "\n",
              "    .dataframe tbody tr th {\n",
              "        vertical-align: top;\n",
              "    }\n",
              "\n",
              "    .dataframe thead th {\n",
              "        text-align: right;\n",
              "    }\n",
              "</style>\n",
              "<table border=\"1\" class=\"dataframe\">\n",
              "  <thead>\n",
              "    <tr style=\"text-align: right;\">\n",
              "      <th></th>\n",
              "      <th>RaceEthnicityCategory</th>\n",
              "      <th>AgeCategory</th>\n",
              "      <th>GeneralHealth</th>\n",
              "      <th>PhysicalHealthDays</th>\n",
              "      <th>PhysicalActivities</th>\n",
              "      <th>SmokerStatus</th>\n",
              "      <th>BMI</th>\n",
              "      <th>MentalHealthDays</th>\n",
              "      <th>HadSkinCancer</th>\n",
              "      <th>HadStroke</th>\n",
              "      <th>Sex</th>\n",
              "      <th>DifficultyWalking</th>\n",
              "      <th>AlcoholDrinkers</th>\n",
              "      <th>SleepHours</th>\n",
              "      <th>HadAsthma</th>\n",
              "      <th>HadDiabetes</th>\n",
              "      <th>HadKidneyDisease</th>\n",
              "      <th>HadHeartAttack</th>\n",
              "    </tr>\n",
              "  </thead>\n",
              "  <tbody>\n",
              "    <tr>\n",
              "      <th>402891</th>\n",
              "      <td>White only, Non-Hispanic</td>\n",
              "      <td>Age 55 to 59</td>\n",
              "      <td>Poor</td>\n",
              "      <td>30.0</td>\n",
              "      <td>No</td>\n",
              "      <td>Current smoker - now smokes some days</td>\n",
              "      <td>33.91</td>\n",
              "      <td>30.0</td>\n",
              "      <td>No</td>\n",
              "      <td>No</td>\n",
              "      <td>Male</td>\n",
              "      <td>Yes</td>\n",
              "      <td>Yes</td>\n",
              "      <td>4.0</td>\n",
              "      <td>Yes</td>\n",
              "      <td>No</td>\n",
              "      <td>No</td>\n",
              "      <td>No</td>\n",
              "    </tr>\n",
              "    <tr>\n",
              "      <th>26781</th>\n",
              "      <td>White only, Non-Hispanic</td>\n",
              "      <td>Age 80 or older</td>\n",
              "      <td>Poor</td>\n",
              "      <td>NaN</td>\n",
              "      <td>No</td>\n",
              "      <td>Current smoker - now smokes every day</td>\n",
              "      <td>23.78</td>\n",
              "      <td>30.0</td>\n",
              "      <td>No</td>\n",
              "      <td>Yes</td>\n",
              "      <td>Female</td>\n",
              "      <td>Yes</td>\n",
              "      <td>Yes</td>\n",
              "      <td>7.0</td>\n",
              "      <td>No</td>\n",
              "      <td>No</td>\n",
              "      <td>No</td>\n",
              "      <td>No</td>\n",
              "    </tr>\n",
              "    <tr>\n",
              "      <th>212300</th>\n",
              "      <td>White only, Non-Hispanic</td>\n",
              "      <td>Age 25 to 29</td>\n",
              "      <td>Very good</td>\n",
              "      <td>0.0</td>\n",
              "      <td>No</td>\n",
              "      <td>Never smoked</td>\n",
              "      <td>25.51</td>\n",
              "      <td>3.0</td>\n",
              "      <td>No</td>\n",
              "      <td>No</td>\n",
              "      <td>Female</td>\n",
              "      <td>No</td>\n",
              "      <td>Yes</td>\n",
              "      <td>6.0</td>\n",
              "      <td>No</td>\n",
              "      <td>No</td>\n",
              "      <td>No</td>\n",
              "      <td>No</td>\n",
              "    </tr>\n",
              "    <tr>\n",
              "      <th>10244</th>\n",
              "      <td>NaN</td>\n",
              "      <td>Age 40 to 44</td>\n",
              "      <td>Very good</td>\n",
              "      <td>3.0</td>\n",
              "      <td>Yes</td>\n",
              "      <td>Never smoked</td>\n",
              "      <td>23.01</td>\n",
              "      <td>2.0</td>\n",
              "      <td>No</td>\n",
              "      <td>No</td>\n",
              "      <td>Male</td>\n",
              "      <td>No</td>\n",
              "      <td>Yes</td>\n",
              "      <td>7.0</td>\n",
              "      <td>No</td>\n",
              "      <td>No</td>\n",
              "      <td>No</td>\n",
              "      <td>No</td>\n",
              "    </tr>\n",
              "    <tr>\n",
              "      <th>264858</th>\n",
              "      <td>Hispanic</td>\n",
              "      <td>Age 50 to 54</td>\n",
              "      <td>Excellent</td>\n",
              "      <td>0.0</td>\n",
              "      <td>Yes</td>\n",
              "      <td>Never smoked</td>\n",
              "      <td>25.77</td>\n",
              "      <td>0.0</td>\n",
              "      <td>No</td>\n",
              "      <td>No</td>\n",
              "      <td>Male</td>\n",
              "      <td>No</td>\n",
              "      <td>No</td>\n",
              "      <td>9.0</td>\n",
              "      <td>No</td>\n",
              "      <td>No</td>\n",
              "      <td>No</td>\n",
              "      <td>No</td>\n",
              "    </tr>\n",
              "  </tbody>\n",
              "</table>\n",
              "</div>\n",
              "    <div class=\"colab-df-buttons\">\n",
              "\n",
              "  <div class=\"colab-df-container\">\n",
              "    <button class=\"colab-df-convert\" onclick=\"convertToInteractive('df-32ccc060-1c29-4481-afa7-176cb4069177')\"\n",
              "            title=\"Convert this dataframe to an interactive table.\"\n",
              "            style=\"display:none;\">\n",
              "\n",
              "  <svg xmlns=\"http://www.w3.org/2000/svg\" height=\"24px\" viewBox=\"0 -960 960 960\">\n",
              "    <path d=\"M120-120v-720h720v720H120Zm60-500h600v-160H180v160Zm220 220h160v-160H400v160Zm0 220h160v-160H400v160ZM180-400h160v-160H180v160Zm440 0h160v-160H620v160ZM180-180h160v-160H180v160Zm440 0h160v-160H620v160Z\"/>\n",
              "  </svg>\n",
              "    </button>\n",
              "\n",
              "  <style>\n",
              "    .colab-df-container {\n",
              "      display:flex;\n",
              "      gap: 12px;\n",
              "    }\n",
              "\n",
              "    .colab-df-convert {\n",
              "      background-color: #E8F0FE;\n",
              "      border: none;\n",
              "      border-radius: 50%;\n",
              "      cursor: pointer;\n",
              "      display: none;\n",
              "      fill: #1967D2;\n",
              "      height: 32px;\n",
              "      padding: 0 0 0 0;\n",
              "      width: 32px;\n",
              "    }\n",
              "\n",
              "    .colab-df-convert:hover {\n",
              "      background-color: #E2EBFA;\n",
              "      box-shadow: 0px 1px 2px rgba(60, 64, 67, 0.3), 0px 1px 3px 1px rgba(60, 64, 67, 0.15);\n",
              "      fill: #174EA6;\n",
              "    }\n",
              "\n",
              "    .colab-df-buttons div {\n",
              "      margin-bottom: 4px;\n",
              "    }\n",
              "\n",
              "    [theme=dark] .colab-df-convert {\n",
              "      background-color: #3B4455;\n",
              "      fill: #D2E3FC;\n",
              "    }\n",
              "\n",
              "    [theme=dark] .colab-df-convert:hover {\n",
              "      background-color: #434B5C;\n",
              "      box-shadow: 0px 1px 3px 1px rgba(0, 0, 0, 0.15);\n",
              "      filter: drop-shadow(0px 1px 2px rgba(0, 0, 0, 0.3));\n",
              "      fill: #FFFFFF;\n",
              "    }\n",
              "  </style>\n",
              "\n",
              "    <script>\n",
              "      const buttonEl =\n",
              "        document.querySelector('#df-32ccc060-1c29-4481-afa7-176cb4069177 button.colab-df-convert');\n",
              "      buttonEl.style.display =\n",
              "        google.colab.kernel.accessAllowed ? 'block' : 'none';\n",
              "\n",
              "      async function convertToInteractive(key) {\n",
              "        const element = document.querySelector('#df-32ccc060-1c29-4481-afa7-176cb4069177');\n",
              "        const dataTable =\n",
              "          await google.colab.kernel.invokeFunction('convertToInteractive',\n",
              "                                                    [key], {});\n",
              "        if (!dataTable) return;\n",
              "\n",
              "        const docLinkHtml = 'Like what you see? Visit the ' +\n",
              "          '<a target=\"_blank\" href=https://colab.research.google.com/notebooks/data_table.ipynb>data table notebook</a>'\n",
              "          + ' to learn more about interactive tables.';\n",
              "        element.innerHTML = '';\n",
              "        dataTable['output_type'] = 'display_data';\n",
              "        await google.colab.output.renderOutput(dataTable, element);\n",
              "        const docLink = document.createElement('div');\n",
              "        docLink.innerHTML = docLinkHtml;\n",
              "        element.appendChild(docLink);\n",
              "      }\n",
              "    </script>\n",
              "  </div>\n",
              "\n",
              "\n",
              "<div id=\"df-da5281f2-b62a-4c64-a252-240803015a61\">\n",
              "  <button class=\"colab-df-quickchart\" onclick=\"quickchart('df-da5281f2-b62a-4c64-a252-240803015a61')\"\n",
              "            title=\"Suggest charts\"\n",
              "            style=\"display:none;\">\n",
              "\n",
              "<svg xmlns=\"http://www.w3.org/2000/svg\" height=\"24px\"viewBox=\"0 0 24 24\"\n",
              "     width=\"24px\">\n",
              "    <g>\n",
              "        <path d=\"M19 3H5c-1.1 0-2 .9-2 2v14c0 1.1.9 2 2 2h14c1.1 0 2-.9 2-2V5c0-1.1-.9-2-2-2zM9 17H7v-7h2v7zm4 0h-2V7h2v10zm4 0h-2v-4h2v4z\"/>\n",
              "    </g>\n",
              "</svg>\n",
              "  </button>\n",
              "\n",
              "<style>\n",
              "  .colab-df-quickchart {\n",
              "      --bg-color: #E8F0FE;\n",
              "      --fill-color: #1967D2;\n",
              "      --hover-bg-color: #E2EBFA;\n",
              "      --hover-fill-color: #174EA6;\n",
              "      --disabled-fill-color: #AAA;\n",
              "      --disabled-bg-color: #DDD;\n",
              "  }\n",
              "\n",
              "  [theme=dark] .colab-df-quickchart {\n",
              "      --bg-color: #3B4455;\n",
              "      --fill-color: #D2E3FC;\n",
              "      --hover-bg-color: #434B5C;\n",
              "      --hover-fill-color: #FFFFFF;\n",
              "      --disabled-bg-color: #3B4455;\n",
              "      --disabled-fill-color: #666;\n",
              "  }\n",
              "\n",
              "  .colab-df-quickchart {\n",
              "    background-color: var(--bg-color);\n",
              "    border: none;\n",
              "    border-radius: 50%;\n",
              "    cursor: pointer;\n",
              "    display: none;\n",
              "    fill: var(--fill-color);\n",
              "    height: 32px;\n",
              "    padding: 0;\n",
              "    width: 32px;\n",
              "  }\n",
              "\n",
              "  .colab-df-quickchart:hover {\n",
              "    background-color: var(--hover-bg-color);\n",
              "    box-shadow: 0 1px 2px rgba(60, 64, 67, 0.3), 0 1px 3px 1px rgba(60, 64, 67, 0.15);\n",
              "    fill: var(--button-hover-fill-color);\n",
              "  }\n",
              "\n",
              "  .colab-df-quickchart-complete:disabled,\n",
              "  .colab-df-quickchart-complete:disabled:hover {\n",
              "    background-color: var(--disabled-bg-color);\n",
              "    fill: var(--disabled-fill-color);\n",
              "    box-shadow: none;\n",
              "  }\n",
              "\n",
              "  .colab-df-spinner {\n",
              "    border: 2px solid var(--fill-color);\n",
              "    border-color: transparent;\n",
              "    border-bottom-color: var(--fill-color);\n",
              "    animation:\n",
              "      spin 1s steps(1) infinite;\n",
              "  }\n",
              "\n",
              "  @keyframes spin {\n",
              "    0% {\n",
              "      border-color: transparent;\n",
              "      border-bottom-color: var(--fill-color);\n",
              "      border-left-color: var(--fill-color);\n",
              "    }\n",
              "    20% {\n",
              "      border-color: transparent;\n",
              "      border-left-color: var(--fill-color);\n",
              "      border-top-color: var(--fill-color);\n",
              "    }\n",
              "    30% {\n",
              "      border-color: transparent;\n",
              "      border-left-color: var(--fill-color);\n",
              "      border-top-color: var(--fill-color);\n",
              "      border-right-color: var(--fill-color);\n",
              "    }\n",
              "    40% {\n",
              "      border-color: transparent;\n",
              "      border-right-color: var(--fill-color);\n",
              "      border-top-color: var(--fill-color);\n",
              "    }\n",
              "    60% {\n",
              "      border-color: transparent;\n",
              "      border-right-color: var(--fill-color);\n",
              "    }\n",
              "    80% {\n",
              "      border-color: transparent;\n",
              "      border-right-color: var(--fill-color);\n",
              "      border-bottom-color: var(--fill-color);\n",
              "    }\n",
              "    90% {\n",
              "      border-color: transparent;\n",
              "      border-bottom-color: var(--fill-color);\n",
              "    }\n",
              "  }\n",
              "</style>\n",
              "\n",
              "  <script>\n",
              "    async function quickchart(key) {\n",
              "      const quickchartButtonEl =\n",
              "        document.querySelector('#' + key + ' button');\n",
              "      quickchartButtonEl.disabled = true;  // To prevent multiple clicks.\n",
              "      quickchartButtonEl.classList.add('colab-df-spinner');\n",
              "      try {\n",
              "        const charts = await google.colab.kernel.invokeFunction(\n",
              "            'suggestCharts', [key], {});\n",
              "      } catch (error) {\n",
              "        console.error('Error during call to suggestCharts:', error);\n",
              "      }\n",
              "      quickchartButtonEl.classList.remove('colab-df-spinner');\n",
              "      quickchartButtonEl.classList.add('colab-df-quickchart-complete');\n",
              "    }\n",
              "    (() => {\n",
              "      let quickchartButtonEl =\n",
              "        document.querySelector('#df-da5281f2-b62a-4c64-a252-240803015a61 button');\n",
              "      quickchartButtonEl.style.display =\n",
              "        google.colab.kernel.accessAllowed ? 'block' : 'none';\n",
              "    })();\n",
              "  </script>\n",
              "</div>\n",
              "    </div>\n",
              "  </div>\n"
            ],
            "application/vnd.google.colaboratory.intrinsic+json": {
              "type": "dataframe",
              "summary": "{\n  \"name\": \"df_heart\",\n  \"rows\": 5,\n  \"fields\": [\n    {\n      \"column\": \"RaceEthnicityCategory\",\n      \"properties\": {\n        \"dtype\": \"category\",\n        \"num_unique_values\": 2,\n        \"samples\": [\n          \"Hispanic\",\n          \"White only, Non-Hispanic\"\n        ],\n        \"semantic_type\": \"\",\n        \"description\": \"\"\n      }\n    },\n    {\n      \"column\": \"AgeCategory\",\n      \"properties\": {\n        \"dtype\": \"string\",\n        \"num_unique_values\": 5,\n        \"samples\": [\n          \"Age 80 or older\",\n          \"Age 50 to 54\"\n        ],\n        \"semantic_type\": \"\",\n        \"description\": \"\"\n      }\n    },\n    {\n      \"column\": \"GeneralHealth\",\n      \"properties\": {\n        \"dtype\": \"string\",\n        \"num_unique_values\": 3,\n        \"samples\": [\n          \"Poor\",\n          \"Very good\"\n        ],\n        \"semantic_type\": \"\",\n        \"description\": \"\"\n      }\n    },\n    {\n      \"column\": \"PhysicalHealthDays\",\n      \"properties\": {\n        \"dtype\": \"number\",\n        \"std\": 14.568802284333465,\n        \"min\": 0.0,\n        \"max\": 30.0,\n        \"num_unique_values\": 3,\n        \"samples\": [\n          30.0,\n          0.0\n        ],\n        \"semantic_type\": \"\",\n        \"description\": \"\"\n      }\n    },\n    {\n      \"column\": \"PhysicalActivities\",\n      \"properties\": {\n        \"dtype\": \"category\",\n        \"num_unique_values\": 2,\n        \"samples\": [\n          \"Yes\",\n          \"No\"\n        ],\n        \"semantic_type\": \"\",\n        \"description\": \"\"\n      }\n    },\n    {\n      \"column\": \"SmokerStatus\",\n      \"properties\": {\n        \"dtype\": \"string\",\n        \"num_unique_values\": 3,\n        \"samples\": [\n          \"Current smoker - now smokes some days\",\n          \"Current smoker - now smokes every day\"\n        ],\n        \"semantic_type\": \"\",\n        \"description\": \"\"\n      }\n    },\n    {\n      \"column\": \"BMI\",\n      \"properties\": {\n        \"dtype\": \"number\",\n        \"std\": 4.357336342308221,\n        \"min\": 23.01,\n        \"max\": 33.91,\n        \"num_unique_values\": 5,\n        \"samples\": [\n          23.78,\n          25.77\n        ],\n        \"semantic_type\": \"\",\n        \"description\": \"\"\n      }\n    },\n    {\n      \"column\": \"MentalHealthDays\",\n      \"properties\": {\n        \"dtype\": \"number\",\n        \"std\": 15.556349186104045,\n        \"min\": 0.0,\n        \"max\": 30.0,\n        \"num_unique_values\": 4,\n        \"samples\": [\n          3.0,\n          0.0\n        ],\n        \"semantic_type\": \"\",\n        \"description\": \"\"\n      }\n    },\n    {\n      \"column\": \"HadSkinCancer\",\n      \"properties\": {\n        \"dtype\": \"category\",\n        \"num_unique_values\": 1,\n        \"samples\": [\n          \"No\"\n        ],\n        \"semantic_type\": \"\",\n        \"description\": \"\"\n      }\n    },\n    {\n      \"column\": \"HadStroke\",\n      \"properties\": {\n        \"dtype\": \"category\",\n        \"num_unique_values\": 2,\n        \"samples\": [\n          \"Yes\"\n        ],\n        \"semantic_type\": \"\",\n        \"description\": \"\"\n      }\n    },\n    {\n      \"column\": \"Sex\",\n      \"properties\": {\n        \"dtype\": \"category\",\n        \"num_unique_values\": 2,\n        \"samples\": [\n          \"Female\"\n        ],\n        \"semantic_type\": \"\",\n        \"description\": \"\"\n      }\n    },\n    {\n      \"column\": \"DifficultyWalking\",\n      \"properties\": {\n        \"dtype\": \"category\",\n        \"num_unique_values\": 2,\n        \"samples\": [\n          \"No\"\n        ],\n        \"semantic_type\": \"\",\n        \"description\": \"\"\n      }\n    },\n    {\n      \"column\": \"AlcoholDrinkers\",\n      \"properties\": {\n        \"dtype\": \"category\",\n        \"num_unique_values\": 2,\n        \"samples\": [\n          \"No\"\n        ],\n        \"semantic_type\": \"\",\n        \"description\": \"\"\n      }\n    },\n    {\n      \"column\": \"SleepHours\",\n      \"properties\": {\n        \"dtype\": \"number\",\n        \"std\": 1.816590212458495,\n        \"min\": 4.0,\n        \"max\": 9.0,\n        \"num_unique_values\": 4,\n        \"samples\": [\n          7.0\n        ],\n        \"semantic_type\": \"\",\n        \"description\": \"\"\n      }\n    },\n    {\n      \"column\": \"HadAsthma\",\n      \"properties\": {\n        \"dtype\": \"category\",\n        \"num_unique_values\": 2,\n        \"samples\": [\n          \"No\"\n        ],\n        \"semantic_type\": \"\",\n        \"description\": \"\"\n      }\n    },\n    {\n      \"column\": \"HadDiabetes\",\n      \"properties\": {\n        \"dtype\": \"category\",\n        \"num_unique_values\": 1,\n        \"samples\": [\n          \"No\"\n        ],\n        \"semantic_type\": \"\",\n        \"description\": \"\"\n      }\n    },\n    {\n      \"column\": \"HadKidneyDisease\",\n      \"properties\": {\n        \"dtype\": \"category\",\n        \"num_unique_values\": 1,\n        \"samples\": [\n          \"No\"\n        ],\n        \"semantic_type\": \"\",\n        \"description\": \"\"\n      }\n    },\n    {\n      \"column\": \"HadHeartAttack\",\n      \"properties\": {\n        \"dtype\": \"category\",\n        \"num_unique_values\": 1,\n        \"samples\": [\n          \"No\"\n        ],\n        \"semantic_type\": \"\",\n        \"description\": \"\"\n      }\n    }\n  ]\n}"
            }
          },
          "metadata": {},
          "execution_count": 5
        }
      ],
      "source": [
        "df_heart.sample(5)"
      ]
    },
    {
      "cell_type": "code",
      "execution_count": null,
      "metadata": {
        "id": "s8wyBO9Q7D06",
        "colab": {
          "base_uri": "https://localhost:8080/"
        },
        "outputId": "7885a522-9707-47a0-9673-63ff0cc01c5c"
      },
      "outputs": [
        {
          "output_type": "execute_result",
          "data": {
            "text/plain": [
              "(445132, 18)"
            ]
          },
          "metadata": {},
          "execution_count": 6
        }
      ],
      "source": [
        "df_heart.shape"
      ]
    },
    {
      "cell_type": "code",
      "execution_count": null,
      "metadata": {
        "id": "TkQA5XceZ2cQ",
        "colab": {
          "base_uri": "https://localhost:8080/"
        },
        "outputId": "67c6612f-fddc-441c-f8ec-cc2aaf473136"
      },
      "outputs": [
        {
          "output_type": "execute_result",
          "data": {
            "text/plain": [
              "Index(['RaceEthnicityCategory', 'AgeCategory', 'GeneralHealth',\n",
              "       'PhysicalHealthDays', 'PhysicalActivities', 'SmokerStatus', 'BMI',\n",
              "       'MentalHealthDays', 'HadSkinCancer', 'HadStroke', 'Sex',\n",
              "       'DifficultyWalking', 'AlcoholDrinkers', 'SleepHours', 'HadAsthma',\n",
              "       'HadDiabetes', 'HadKidneyDisease', 'HadHeartAttack'],\n",
              "      dtype='object')"
            ]
          },
          "metadata": {},
          "execution_count": 7
        }
      ],
      "source": [
        "df_heart.columns"
      ]
    },
    {
      "cell_type": "code",
      "execution_count": null,
      "metadata": {
        "id": "rgsDeWjqZ_BL",
        "colab": {
          "base_uri": "https://localhost:8080/"
        },
        "outputId": "2a2e346e-33b1-4733-d540-a99c1890ce2f"
      },
      "outputs": [
        {
          "output_type": "execute_result",
          "data": {
            "text/plain": [
              "RaceEthnicityCategory    14057\n",
              "AgeCategory               9079\n",
              "GeneralHealth             1198\n",
              "PhysicalHealthDays       10927\n",
              "PhysicalActivities        1093\n",
              "SmokerStatus             35462\n",
              "BMI                      48806\n",
              "MentalHealthDays          9067\n",
              "HadSkinCancer             3143\n",
              "HadStroke                 1557\n",
              "Sex                          0\n",
              "DifficultyWalking        24012\n",
              "AlcoholDrinkers          46574\n",
              "SleepHours                5453\n",
              "HadAsthma                 1773\n",
              "HadDiabetes               1087\n",
              "HadKidneyDisease          1926\n",
              "HadHeartAttack            3065\n",
              "dtype: int64"
            ]
          },
          "metadata": {},
          "execution_count": 8
        }
      ],
      "source": [
        "df_heart.isna().sum()"
      ]
    },
    {
      "cell_type": "code",
      "execution_count": null,
      "metadata": {
        "id": "Zh0TuSKZ1W6g",
        "colab": {
          "base_uri": "https://localhost:8080/",
          "height": 693
        },
        "outputId": "fe8cff1f-895b-400e-fd14-7f23f033001a"
      },
      "outputs": [
        {
          "output_type": "execute_result",
          "data": {
            "text/plain": [
              "<Axes: >"
            ]
          },
          "metadata": {},
          "execution_count": 9
        },
        {
          "output_type": "display_data",
          "data": {
            "text/plain": [
              "<Figure size 2500x1000 with 3 Axes>"
            ],
            "image/png": "[encoded data removed]"
          },
          "metadata": {}
        }
      ],
      "source": [
        "msno.bar(df_heart)"
      ]
    },
    {
      "cell_type": "code",
      "execution_count": null,
      "metadata": {
        "id": "N-t4Ab9K8ScF",
        "colab": {
          "base_uri": "https://localhost:8080/",
          "height": 300
        },
        "outputId": "a407e230-8635-49d6-ed18-bb2910c735f3"
      },
      "outputs": [
        {
          "output_type": "execute_result",
          "data": {
            "text/plain": [
              "       PhysicalHealthDays            BMI  MentalHealthDays     SleepHours\n",
              "count       434205.000000  396326.000000     436065.000000  439679.000000\n",
              "mean             4.347919      28.529842          4.382649       7.022983\n",
              "std              8.688912       6.554889          8.387475       1.502425\n",
              "min              0.000000      12.020000          0.000000       1.000000\n",
              "25%              0.000000      24.130000          0.000000       6.000000\n",
              "50%              0.000000      27.440000          0.000000       7.000000\n",
              "75%              3.000000      31.750000          5.000000       8.000000\n",
              "max             30.000000      99.640000         30.000000      24.000000"
            ],
            "text/html": [
              "\n",
              "  <div id=\"df-aaceb616-9f3e-472a-aca6-446843707302\" class=\"colab-df-container\">\n",
              "    <div>\n",
              "<style scoped>\n",
              "    .dataframe tbody tr th:only-of-type {\n",
              "        vertical-align: middle;\n",
              "    }\n",
              "\n",
              "    .dataframe tbody tr th {\n",
              "        vertical-align: top;\n",
              "    }\n",
              "\n",
              "    .dataframe thead th {\n",
              "        text-align: right;\n",
              "    }\n",
              "</style>\n",
              "<table border=\"1\" class=\"dataframe\">\n",
              "  <thead>\n",
              "    <tr style=\"text-align: right;\">\n",
              "      <th></th>\n",
              "      <th>PhysicalHealthDays</th>\n",
              "      <th>BMI</th>\n",
              "      <th>MentalHealthDays</th>\n",
              "      <th>SleepHours</th>\n",
              "    </tr>\n",
              "  </thead>\n",
              "  <tbody>\n",
              "    <tr>\n",
              "      <th>count</th>\n",
              "      <td>434205.000000</td>\n",
              "      <td>396326.000000</td>\n",
              "      <td>436065.000000</td>\n",
              "      <td>439679.000000</td>\n",
              "    </tr>\n",
              "    <tr>\n",
              "      <th>mean</th>\n",
              "      <td>4.347919</td>\n",
              "      <td>28.529842</td>\n",
              "      <td>4.382649</td>\n",
              "      <td>7.022983</td>\n",
              "    </tr>\n",
              "    <tr>\n",
              "      <th>std</th>\n",
              "      <td>8.688912</td>\n",
              "      <td>6.554889</td>\n",
              "      <td>8.387475</td>\n",
              "      <td>1.502425</td>\n",
              "    </tr>\n",
              "    <tr>\n",
              "      <th>min</th>\n",
              "      <td>0.000000</td>\n",
              "      <td>12.020000</td>\n",
              "      <td>0.000000</td>\n",
              "      <td>1.000000</td>\n",
              "    </tr>\n",
              "    <tr>\n",
              "      <th>25%</th>\n",
              "      <td>0.000000</td>\n",
              "      <td>24.130000</td>\n",
              "      <td>0.000000</td>\n",
              "      <td>6.000000</td>\n",
              "    </tr>\n",
              "    <tr>\n",
              "      <th>50%</th>\n",
              "      <td>0.000000</td>\n",
              "      <td>27.440000</td>\n",
              "      <td>0.000000</td>\n",
              "      <td>7.000000</td>\n",
              "    </tr>\n",
              "    <tr>\n",
              "      <th>75%</th>\n",
              "      <td>3.000000</td>\n",
              "      <td>31.750000</td>\n",
              "      <td>5.000000</td>\n",
              "      <td>8.000000</td>\n",
              "    </tr>\n",
              "    <tr>\n",
              "      <th>max</th>\n",
              "      <td>30.000000</td>\n",
              "      <td>99.640000</td>\n",
              "      <td>30.000000</td>\n",
              "      <td>24.000000</td>\n",
              "    </tr>\n",
              "  </tbody>\n",
              "</table>\n",
              "</div>\n",
              "    <div class=\"colab-df-buttons\">\n",
              "\n",
              "  <div class=\"colab-df-container\">\n",
              "    <button class=\"colab-df-convert\" onclick=\"convertToInteractive('df-aaceb616-9f3e-472a-aca6-446843707302')\"\n",
              "            title=\"Convert this dataframe to an interactive table.\"\n",
              "            style=\"display:none;\">\n",
              "\n",
              "  <svg xmlns=\"http://www.w3.org/2000/svg\" height=\"24px\" viewBox=\"0 -960 960 960\">\n",
              "    <path d=\"M120-120v-720h720v720H120Zm60-500h600v-160H180v160Zm220 220h160v-160H400v160Zm0 220h160v-160H400v160ZM180-400h160v-160H180v160Zm440 0h160v-160H620v160ZM180-180h160v-160H180v160Zm440 0h160v-160H620v160Z\"/>\n",
              "  </svg>\n",
              "    </button>\n",
              "\n",
              "  <style>\n",
              "    .colab-df-container {\n",
              "      display:flex;\n",
              "      gap: 12px;\n",
              "    }\n",
              "\n",
              "    .colab-df-convert {\n",
              "      background-color: #E8F0FE;\n",
              "      border: none;\n",
              "      border-radius: 50%;\n",
              "      cursor: pointer;\n",
              "      display: none;\n",
              "      fill: #1967D2;\n",
              "      height: 32px;\n",
              "      padding: 0 0 0 0;\n",
              "      width: 32px;\n",
              "    }\n",
              "\n",
              "    .colab-df-convert:hover {\n",
              "      background-color: #E2EBFA;\n",
              "      box-shadow: 0px 1px 2px rgba(60, 64, 67, 0.3), 0px 1px 3px 1px rgba(60, 64, 67, 0.15);\n",
              "      fill: #174EA6;\n",
              "    }\n",
              "\n",
              "    .colab-df-buttons div {\n",
              "      margin-bottom: 4px;\n",
              "    }\n",
              "\n",
              "    [theme=dark] .colab-df-convert {\n",
              "      background-color: #3B4455;\n",
              "      fill: #D2E3FC;\n",
              "    }\n",
              "\n",
              "    [theme=dark] .colab-df-convert:hover {\n",
              "      background-color: #434B5C;\n",
              "      box-shadow: 0px 1px 3px 1px rgba(0, 0, 0, 0.15);\n",
              "      filter: drop-shadow(0px 1px 2px rgba(0, 0, 0, 0.3));\n",
              "      fill: #FFFFFF;\n",
              "    }\n",
              "  </style>\n",
              "\n",
              "    <script>\n",
              "      const buttonEl =\n",
              "        document.querySelector('#df-aaceb616-9f3e-472a-aca6-446843707302 button.colab-df-convert');\n",
              "      buttonEl.style.display =\n",
              "        google.colab.kernel.accessAllowed ? 'block' : 'none';\n",
              "\n",
              "      async function convertToInteractive(key) {\n",
              "        const element = document.querySelector('#df-aaceb616-9f3e-472a-aca6-446843707302');\n",
              "        const dataTable =\n",
              "          await google.colab.kernel.invokeFunction('convertToInteractive',\n",
              "                                                    [key], {});\n",
              "        if (!dataTable) return;\n",
              "\n",
              "        const docLinkHtml = 'Like what you see? Visit the ' +\n",
              "          '<a target=\"_blank\" href=https://colab.research.google.com/notebooks/data_table.ipynb>data table notebook</a>'\n",
              "          + ' to learn more about interactive tables.';\n",
              "        element.innerHTML = '';\n",
              "        dataTable['output_type'] = 'display_data';\n",
              "        await google.colab.output.renderOutput(dataTable, element);\n",
              "        const docLink = document.createElement('div');\n",
              "        docLink.innerHTML = docLinkHtml;\n",
              "        element.appendChild(docLink);\n",
              "      }\n",
              "    </script>\n",
              "  </div>\n",
              "\n",
              "\n",
              "<div id=\"df-8e05a8bc-5e32-4868-b102-6d6b0b7e633e\">\n",
              "  <button class=\"colab-df-quickchart\" onclick=\"quickchart('df-8e05a8bc-5e32-4868-b102-6d6b0b7e633e')\"\n",
              "            title=\"Suggest charts\"\n",
              "            style=\"display:none;\">\n",
              "\n",
              "<svg xmlns=\"http://www.w3.org/2000/svg\" height=\"24px\"viewBox=\"0 0 24 24\"\n",
              "     width=\"24px\">\n",
              "    <g>\n",
              "        <path d=\"M19 3H5c-1.1 0-2 .9-2 2v14c0 1.1.9 2 2 2h14c1.1 0 2-.9 2-2V5c0-1.1-.9-2-2-2zM9 17H7v-7h2v7zm4 0h-2V7h2v10zm4 0h-2v-4h2v4z\"/>\n",
              "    </g>\n",
              "</svg>\n",
              "  </button>\n",
              "\n",
              "<style>\n",
              "  .colab-df-quickchart {\n",
              "      --bg-color: #E8F0FE;\n",
              "      --fill-color: #1967D2;\n",
              "      --hover-bg-color: #E2EBFA;\n",
              "      --hover-fill-color: #174EA6;\n",
              "      --disabled-fill-color: #AAA;\n",
              "      --disabled-bg-color: #DDD;\n",
              "  }\n",
              "\n",
              "  [theme=dark] .colab-df-quickchart {\n",
              "      --bg-color: #3B4455;\n",
              "      --fill-color: #D2E3FC;\n",
              "      --hover-bg-color: #434B5C;\n",
              "      --hover-fill-color: #FFFFFF;\n",
              "      --disabled-bg-color: #3B4455;\n",
              "      --disabled-fill-color: #666;\n",
              "  }\n",
              "\n",
              "  .colab-df-quickchart {\n",
              "    background-color: var(--bg-color);\n",
              "    border: none;\n",
              "    border-radius: 50%;\n",
              "    cursor: pointer;\n",
              "    display: none;\n",
              "    fill: var(--fill-color);\n",
              "    height: 32px;\n",
              "    padding: 0;\n",
              "    width: 32px;\n",
              "  }\n",
              "\n",
              "  .colab-df-quickchart:hover {\n",
              "    background-color: var(--hover-bg-color);\n",
              "    box-shadow: 0 1px 2px rgba(60, 64, 67, 0.3), 0 1px 3px 1px rgba(60, 64, 67, 0.15);\n",
              "    fill: var(--button-hover-fill-color);\n",
              "  }\n",
              "\n",
              "  .colab-df-quickchart-complete:disabled,\n",
              "  .colab-df-quickchart-complete:disabled:hover {\n",
              "    background-color: var(--disabled-bg-color);\n",
              "    fill: var(--disabled-fill-color);\n",
              "    box-shadow: none;\n",
              "  }\n",
              "\n",
              "  .colab-df-spinner {\n",
              "    border: 2px solid var(--fill-color);\n",
              "    border-color: transparent;\n",
              "    border-bottom-color: var(--fill-color);\n",
              "    animation:\n",
              "      spin 1s steps(1) infinite;\n",
              "  }\n",
              "\n",
              "  @keyframes spin {\n",
              "    0% {\n",
              "      border-color: transparent;\n",
              "      border-bottom-color: var(--fill-color);\n",
              "      border-left-color: var(--fill-color);\n",
              "    }\n",
              "    20% {\n",
              "      border-color: transparent;\n",
              "      border-left-color: var(--fill-color);\n",
              "      border-top-color: var(--fill-color);\n",
              "    }\n",
              "    30% {\n",
              "      border-color: transparent;\n",
              "      border-left-color: var(--fill-color);\n",
              "      border-top-color: var(--fill-color);\n",
              "      border-right-color: var(--fill-color);\n",
              "    }\n",
              "    40% {\n",
              "      border-color: transparent;\n",
              "      border-right-color: var(--fill-color);\n",
              "      border-top-color: var(--fill-color);\n",
              "    }\n",
              "    60% {\n",
              "      border-color: transparent;\n",
              "      border-right-color: var(--fill-color);\n",
              "    }\n",
              "    80% {\n",
              "      border-color: transparent;\n",
              "      border-right-color: var(--fill-color);\n",
              "      border-bottom-color: var(--fill-color);\n",
              "    }\n",
              "    90% {\n",
              "      border-color: transparent;\n",
              "      border-bottom-color: var(--fill-color);\n",
              "    }\n",
              "  }\n",
              "</style>\n",
              "\n",
              "  <script>\n",
              "    async function quickchart(key) {\n",
              "      const quickchartButtonEl =\n",
              "        document.querySelector('#' + key + ' button');\n",
              "      quickchartButtonEl.disabled = true;  // To prevent multiple clicks.\n",
              "      quickchartButtonEl.classList.add('colab-df-spinner');\n",
              "      try {\n",
              "        const charts = await google.colab.kernel.invokeFunction(\n",
              "            'suggestCharts', [key], {});\n",
              "      } catch (error) {\n",
              "        console.error('Error during call to suggestCharts:', error);\n",
              "      }\n",
              "      quickchartButtonEl.classList.remove('colab-df-spinner');\n",
              "      quickchartButtonEl.classList.add('colab-df-quickchart-complete');\n",
              "    }\n",
              "    (() => {\n",
              "      let quickchartButtonEl =\n",
              "        document.querySelector('#df-8e05a8bc-5e32-4868-b102-6d6b0b7e633e button');\n",
              "      quickchartButtonEl.style.display =\n",
              "        google.colab.kernel.accessAllowed ? 'block' : 'none';\n",
              "    })();\n",
              "  </script>\n",
              "</div>\n",
              "    </div>\n",
              "  </div>\n"
            ],
            "application/vnd.google.colaboratory.intrinsic+json": {
              "type": "dataframe",
              "summary": "{\n  \"name\": \"df_heart\",\n  \"rows\": 8,\n  \"fields\": [\n    {\n      \"column\": \"PhysicalHealthDays\",\n      \"properties\": {\n        \"dtype\": \"number\",\n        \"std\": 153512.32507747397,\n        \"min\": 0.0,\n        \"max\": 434205.0,\n        \"num_unique_values\": 6,\n        \"samples\": [\n          434205.0,\n          4.347918609873217,\n          30.0\n        ],\n        \"semantic_type\": \"\",\n        \"description\": \"\"\n      }\n    },\n    {\n      \"column\": \"BMI\",\n      \"properties\": {\n        \"dtype\": \"number\",\n        \"std\": 140110.78396830178,\n        \"min\": 6.554888667165121,\n        \"max\": 396326.0,\n        \"num_unique_values\": 8,\n        \"samples\": [\n          28.529841822136316,\n          27.44,\n          396326.0\n        ],\n        \"semantic_type\": \"\",\n        \"description\": \"\"\n      }\n    },\n    {\n      \"column\": \"MentalHealthDays\",\n      \"properties\": {\n        \"dtype\": \"number\",\n        \"std\": 154169.846832456,\n        \"min\": 0.0,\n        \"max\": 436065.0,\n        \"num_unique_values\": 6,\n        \"samples\": [\n          436065.0,\n          4.382649375666472,\n          30.0\n        ],\n        \"semantic_type\": \"\",\n        \"description\": \"\"\n      }\n    },\n    {\n      \"column\": \"SleepHours\",\n      \"properties\": {\n        \"dtype\": \"number\",\n        \"std\": 155447.2474358356,\n        \"min\": 1.0,\n        \"max\": 439679.0,\n        \"num_unique_values\": 8,\n        \"samples\": [\n          7.022982675997716,\n          7.0,\n          439679.0\n        ],\n        \"semantic_type\": \"\",\n        \"description\": \"\"\n      }\n    }\n  ]\n}"
            }
          },
          "metadata": {},
          "execution_count": 10
        }
      ],
      "source": [
        "df_heart.describe()"
      ]
    },
    {
      "cell_type": "code",
      "execution_count": null,
      "metadata": {
        "id": "EKxS5fOVg7YI",
        "colab": {
          "base_uri": "https://localhost:8080/"
        },
        "outputId": "8f734381-35dd-4c92-8859-123c37a1eb36"
      },
      "outputs": [
        {
          "output_type": "execute_result",
          "data": {
            "text/plain": [
              "HadHeartAttack\n",
              "No     416959\n",
              "Yes     25108\n",
              "Name: count, dtype: int64"
            ]
          },
          "metadata": {},
          "execution_count": 11
        }
      ],
      "source": [
        "df_heart['HadHeartAttack'].value_counts()"
      ]
    },
    {
      "cell_type": "code",
      "execution_count": null,
      "metadata": {
        "id": "ksQ2dO2-8kCQ",
        "colab": {
          "base_uri": "https://localhost:8080/"
        },
        "outputId": "64b15525-d612-4e65-d115-591fffd56926"
      },
      "outputs": [
        {
          "output_type": "stream",
          "name": "stdout",
          "text": [
            "RaceEthnicityCategory: 6 distinct values\n",
            "AgeCategory: 14 distinct values\n",
            "GeneralHealth: 6 distinct values\n",
            "PhysicalHealthDays: 32 distinct values\n",
            "PhysicalActivities: 3 distinct values\n",
            "SmokerStatus: 5 distinct values\n",
            "BMI: 3986 distinct values\n",
            "MentalHealthDays: 32 distinct values\n",
            "HadSkinCancer: 3 distinct values\n",
            "HadStroke: 3 distinct values\n",
            "Sex: 2 distinct values\n",
            "DifficultyWalking: 3 distinct values\n",
            "AlcoholDrinkers: 3 distinct values\n",
            "SleepHours: 25 distinct values\n",
            "HadAsthma: 3 distinct values\n",
            "HadDiabetes: 5 distinct values\n",
            "HadKidneyDisease: 3 distinct values\n",
            "HadHeartAttack: 3 distinct values\n"
          ]
        }
      ],
      "source": [
        "for column in df_heart:\n",
        "    num_distinct_values = len(df_heart[column].unique())\n",
        "    print(f\"{column}: {num_distinct_values} distinct values\")"
      ]
    },
    {
      "cell_type": "code",
      "execution_count": null,
      "metadata": {
        "id": "0WolBZVu9B7K",
        "colab": {
          "base_uri": "https://localhost:8080/",
          "height": 516
        },
        "outputId": "7c539123-f034-4341-addf-c44134cfe3a3"
      },
      "outputs": [
        {
          "output_type": "stream",
          "name": "stderr",
          "text": [
            "<ipython-input-13-9b09561a6a7b>:3: UserWarning: Ignoring `palette` because no `hue` variable has been assigned.\n",
            "  histplot = sns.histplot(data = df_heart, x='HadHeartAttack',\\\n"
          ]
        },
        {
          "output_type": "display_data",
          "data": {
            "text/plain": [
              "<Figure size 640x480 with 1 Axes>"
            ],
            "image/png": "[encoded data removed]"
          },
          "metadata": {}
        }
      ],
      "source": [
        "sns.set_theme(style=\"white\")\n",
        "# Histogram by groups\n",
        "histplot = sns.histplot(data = df_heart, x='HadHeartAttack',\\\n",
        "                        alpha=.5, palette=\"muted\")\n",
        "histplot.set( ylabel='Frequency', xlabel='HadHeartAttack',\n",
        "           title= 'Histogram of HadHeartAttack')\n",
        "plt.show()"
      ]
    },
    {
      "cell_type": "code",
      "execution_count": null,
      "metadata": {
        "id": "lg2LOSlm_bcc",
        "colab": {
          "base_uri": "https://localhost:8080/",
          "height": 480
        },
        "outputId": "c0279a8f-494e-40d3-d12f-866b6fe693b3"
      },
      "outputs": [
        {
          "output_type": "display_data",
          "data": {
            "text/plain": [
              "<Figure size 640x480 with 1 Axes>"
            ],
            "image/png": "[encoded data removed]"
          },
          "metadata": {}
        }
      ],
      "source": [
        "#Histogram by groups\n",
        "sns.set_theme(style=\"white\")\n",
        "# Histogram by groups\n",
        "histplot = sns.histplot(data = df_heart, x='HadHeartAttack', hue = 'Sex',\n",
        "                        alpha=.5, palette=\"muted\")\n",
        "histplot.set( ylabel='Frequency', xlabel='HadHeartAttack',\n",
        "           title= 'Histogram of AgeCategory')\n",
        "plt.show()"
      ]
    },
    {
      "cell_type": "code",
      "execution_count": null,
      "metadata": {
        "id": "VIQTGJsChppY",
        "colab": {
          "base_uri": "https://localhost:8080/",
          "height": 476
        },
        "outputId": "7830359e-20ee-42e6-d67f-9bd008e7a628"
      },
      "outputs": [
        {
          "output_type": "execute_result",
          "data": {
            "text/plain": [
              "<Axes: xlabel='count', ylabel='GeneralHealth'>"
            ]
          },
          "metadata": {},
          "execution_count": 15
        },
        {
          "output_type": "display_data",
          "data": {
            "text/plain": [
              "<Figure size 640x480 with 1 Axes>"
            ],
            "image/png": "[encoded data removed]"
          },
          "metadata": {}
        }
      ],
      "source": [
        "sns.countplot(data=df_heart,y=df_heart['GeneralHealth'])"
      ]
    },
    {
      "cell_type": "code",
      "execution_count": null,
      "metadata": {
        "id": "ksEvgvmoNRW_",
        "colab": {
          "base_uri": "https://localhost:8080/",
          "height": 573
        },
        "outputId": "17fa68fa-dd8f-42d7-9fee-3b85f3a87563"
      },
      "outputs": [
        {
          "output_type": "display_data",
          "data": {
            "text/plain": [
              "<Figure size 1000x600 with 1 Axes>"
            ],
            "image/png": "[encoded data removed]"
          },
          "metadata": {}
        }
      ],
      "source": [
        "\n",
        "# Calculate the counts for each category\n",
        "counts = df_heart.groupby('DifficultyWalking')['HadHeartAttack'].value_counts().unstack()\n",
        "\n",
        "# Calculate the percentages\n",
        "percentages = (counts.T / counts.T.sum()).T * 100\n",
        "\n",
        "# Create a wider bar chart\n",
        "fig, ax = plt.subplots(figsize=(10, 6))  # Adjust the figure size as needed\n",
        "\n",
        "# Set the width of the bars\n",
        "bar_width = 0.4\n",
        "\n",
        "# Plot the 'No' bars\n",
        "no_bars = ax.bar(counts.index, counts['No'], width=bar_width, color='#87CEEB', label='No')\n",
        "\n",
        "# Plot the 'Yes' bars on top of the 'No' bars\n",
        "yes_bars = ax.bar(counts.index, counts['Yes'], width=bar_width, bottom=counts['No'], color='#DC143C', label='Yes')\n",
        "\n",
        "# Annotate the percentages on the bars\n",
        "for bars, percent_values in zip([no_bars, yes_bars], [percentages['No'], percentages['Yes']]):\n",
        "    for bar, percentage in zip(bars, percent_values):\n",
        "        height = bar.get_height()\n",
        "        ax.annotate(f'{percentage:.1f}%',\n",
        "                    xy=(bar.get_x() + bar.get_width() / 2, bar.get_y() + height / 2),\n",
        "                    xytext=(0, 3),  # 3 points vertical offset\n",
        "                    textcoords=\"offset points\",\n",
        "                    ha='center', va='bottom', color='black')\n",
        "\n",
        "# Set labels and title\n",
        "ax.set_xlabel('HadStroke')\n",
        "ax.set_ylabel('Count')\n",
        "ax.set_title('Heart Attack Incidence by DifficultyWalking Status')\n",
        "\n",
        "# Include the legend\n",
        "ax.legend(title='Had Heart Attack')\n",
        "\n",
        "plt.show()"
      ]
    },
    {
      "cell_type": "code",
      "execution_count": null,
      "metadata": {
        "id": "uLWAcKjBh1bt",
        "colab": {
          "base_uri": "https://localhost:8080/",
          "height": 573
        },
        "outputId": "1db05f3d-e6f4-42b1-d958-1c642619bad9"
      },
      "outputs": [
        {
          "output_type": "display_data",
          "data": {
            "text/plain": [
              "<Figure size 1000x600 with 1 Axes>"
            ],
            "image/png": "[encoded data removed]"
          },
          "metadata": {}
        }
      ],
      "source": [
        "counts = df_heart.groupby('GeneralHealth')['HadHeartAttack'].value_counts().unstack()\n",
        "\n",
        "# Calculate the percentages\n",
        "percentages = (counts.T / counts.T.sum()).T * 100\n",
        "\n",
        "# Create a wider bar chart\n",
        "fig, ax = plt.subplots(figsize=(10, 6))  # Adjust the figure size as needed\n",
        "\n",
        "# Set the width of the bars\n",
        "bar_width = 0.4\n",
        "\n",
        "# Plot the 'No' bars\n",
        "no_bars = ax.bar(counts.index, counts['No'], width=bar_width, color='#87CEEB', label='No')\n",
        "\n",
        "# Plot the 'Yes' bars on top of the 'No' bars\n",
        "yes_bars = ax.bar(counts.index, counts['Yes'], width=bar_width, bottom=counts['No'], color='#DC143C', label='Yes')\n",
        "\n",
        "# Annotate the percentages on the bars\n",
        "for bars, percent_values in zip([no_bars, yes_bars], [percentages['No'], percentages['Yes']]):\n",
        "    for bar, percentage in zip(bars, percent_values):\n",
        "        height = bar.get_height()\n",
        "        ax.annotate(f'{percentage:.1f}%',\n",
        "                    xy=(bar.get_x() + bar.get_width() / 2, bar.get_y() + height / 2),\n",
        "                    xytext=(0, 3),  # 3 points vertical offset\n",
        "                    textcoords=\"offset points\",\n",
        "                    ha='center', va='bottom', color='black')\n",
        "\n",
        "# Set labels and title\n",
        "ax.set_xlabel('General Health')\n",
        "ax.set_ylabel('Count')\n",
        "ax.set_title('Heart Attack Incidence by General Health')\n",
        "\n",
        "# Include the legend\n",
        "ax.legend(title='Had Heart Attack')\n",
        "\n",
        "plt.show()"
      ]
    },
    {
      "cell_type": "code",
      "execution_count": null,
      "metadata": {
        "id": "vyllziX9itR7",
        "colab": {
          "base_uri": "https://localhost:8080/",
          "height": 731
        },
        "outputId": "e3d647a6-1434-49d9-bf87-06544c1cd582"
      },
      "outputs": [
        {
          "output_type": "display_data",
          "data": {
            "text/plain": [
              "<Figure size 1000x600 with 1 Axes>"
            ],
            "image/png": "[encoded data removed]"
          },
          "metadata": {}
        }
      ],
      "source": [
        "# Calculate the counts for each category\n",
        "counts = df_heart.groupby('RaceEthnicityCategory')['HadHeartAttack'].value_counts().unstack()\n",
        "\n",
        "# Calculate the percentages\n",
        "percentages = (counts.T / counts.T.sum()).T * 100\n",
        "\n",
        "# Create a wider bar chart\n",
        "fig, ax = plt.subplots(figsize=(10, 6))  # Adjust the figure size as needed\n",
        "\n",
        "# Set the width of the bars\n",
        "bar_width = 0.4\n",
        "\n",
        "# Plot the 'No' bars\n",
        "no_bars = ax.bar(counts.index, counts['No'], width=bar_width, color='#00BFFF', label='No')\n",
        "\n",
        "# Plot the 'Yes' bars on top of the 'No' bars\n",
        "yes_bars = ax.bar(counts.index, counts['Yes'], width=bar_width, bottom=counts['No'], color='#DC143C', label='Yes')\n",
        "\n",
        "# Annotate the percentages on the bars\n",
        "for bars, percent_values in zip([no_bars, yes_bars], [percentages['No'], percentages['Yes']]):\n",
        "    for bar, percentage in zip(bars, percent_values):\n",
        "        height = bar.get_height()\n",
        "        ax.annotate(f'{percentage:.1f}%',\n",
        "                    xy=(bar.get_x() + bar.get_width() / 2, bar.get_y() + height / 2),\n",
        "                    xytext=(0, 3),  # 3 points vertical offset\n",
        "                    textcoords=\"offset points\",\n",
        "                    ha='center', va='bottom', color='black')\n",
        "\n",
        "# Set labels and title\n",
        "ax.set_xlabel('Race/Ethnicity Category')\n",
        "ax.set_ylabel('Count')\n",
        "ax.set_title('Heart Attack Incidence by Race/Ethnicity Category')\n",
        "\n",
        "# Rotate x-tick labels if they overlap\n",
        "plt.xticks(rotation=45)\n",
        "\n",
        "# Include the legend\n",
        "ax.legend(title='Had Heart Attack')\n",
        "\n",
        "plt.show()"
      ]
    },
    {
      "cell_type": "code",
      "execution_count": null,
      "metadata": {
        "id": "lQ9ACr_JPH3U",
        "colab": {
          "base_uri": "https://localhost:8080/",
          "height": 365
        },
        "outputId": "21eedbfa-d6a6-4c3a-fe82-1fab4af80f68"
      },
      "outputs": [
        {
          "output_type": "error",
          "ename": "NotFittedError",
          "evalue": "This OneHotEncoder instance is not fitted yet. Call 'fit' with appropriate arguments before using this estimator.",
          "traceback": [
            "\u001b[0;31m---------------------------------------------------------------------------\u001b[0m",
            "\u001b[0;31mNotFittedError\u001b[0m                            Traceback (most recent call last)",
            "\u001b[0;32m<ipython-input-20-e84ef5e9ecd7>\u001b[0m in \u001b[0;36m<cell line: 8>\u001b[0;34m()\u001b[0m\n\u001b[1;32m      6\u001b[0m                      'HadKidneyDisease']\n\u001b[1;32m      7\u001b[0m \u001b[0mencoder\u001b[0m \u001b[0;34m=\u001b[0m \u001b[0mOneHotEncoder\u001b[0m\u001b[0;34m(\u001b[0m\u001b[0msparse_output\u001b[0m\u001b[0;34m=\u001b[0m\u001b[0;32mFalse\u001b[0m\u001b[0;34m)\u001b[0m\u001b[0;34m\u001b[0m\u001b[0;34m\u001b[0m\u001b[0m\n\u001b[0;32m----> 8\u001b[0;31m \u001b[0mdf_heart\u001b[0m \u001b[0;34m=\u001b[0m \u001b[0mencoder\u001b[0m\u001b[0;34m.\u001b[0m\u001b[0mtransform\u001b[0m\u001b[0;34m(\u001b[0m\u001b[0mdf_heart\u001b[0m\u001b[0;34m[\u001b[0m\u001b[0mcat_features\u001b[0m\u001b[0;34m]\u001b[0m\u001b[0;34m)\u001b[0m\u001b[0;34m\u001b[0m\u001b[0;34m\u001b[0m\u001b[0m\n\u001b[0m\u001b[1;32m      9\u001b[0m \u001b[0;34m\u001b[0m\u001b[0m\n\u001b[1;32m     10\u001b[0m \u001b[0mnumeric_features\u001b[0m \u001b[0;34m=\u001b[0m \u001b[0;34m[\u001b[0m\u001b[0;34m'BMI'\u001b[0m\u001b[0;34m,\u001b[0m \u001b[0;34m'PhysicalHealthDays'\u001b[0m\u001b[0;34m,\u001b[0m \u001b[0;34m'MentalHealthDays'\u001b[0m\u001b[0;34m,\u001b[0m \u001b[0;34m'SleepHours'\u001b[0m \u001b[0;34m]\u001b[0m\u001b[0;34m\u001b[0m\u001b[0;34m\u001b[0m\u001b[0m\n",
            "\u001b[0;32m/usr/local/lib/python3.10/dist-packages/sklearn/utils/_set_output.py\u001b[0m in \u001b[0;36mwrapped\u001b[0;34m(self, X, *args, **kwargs)\u001b[0m\n\u001b[1;32m    293\u001b[0m     \u001b[0;34m@\u001b[0m\u001b[0mwraps\u001b[0m\u001b[0;34m(\u001b[0m\u001b[0mf\u001b[0m\u001b[0;34m)\u001b[0m\u001b[0;34m\u001b[0m\u001b[0;34m\u001b[0m\u001b[0m\n\u001b[1;32m    294\u001b[0m     \u001b[0;32mdef\u001b[0m \u001b[0mwrapped\u001b[0m\u001b[0;34m(\u001b[0m\u001b[0mself\u001b[0m\u001b[0;34m,\u001b[0m \u001b[0mX\u001b[0m\u001b[0;34m,\u001b[0m \u001b[0;34m*\u001b[0m\u001b[0margs\u001b[0m\u001b[0;34m,\u001b[0m \u001b[0;34m**\u001b[0m\u001b[0mkwargs\u001b[0m\u001b[0;34m)\u001b[0m\u001b[0;34m:\u001b[0m\u001b[0;34m\u001b[0m\u001b[0;34m\u001b[0m\u001b[0m\n\u001b[0;32m--> 295\u001b[0;31m         \u001b[0mdata_to_wrap\u001b[0m \u001b[0;34m=\u001b[0m \u001b[0mf\u001b[0m\u001b[0;34m(\u001b[0m\u001b[0mself\u001b[0m\u001b[0;34m,\u001b[0m \u001b[0mX\u001b[0m\u001b[0;34m,\u001b[0m \u001b[0;34m*\u001b[0m\u001b[0margs\u001b[0m\u001b[0;34m,\u001b[0m \u001b[0;34m**\u001b[0m\u001b[0mkwargs\u001b[0m\u001b[0;34m)\u001b[0m\u001b[0;34m\u001b[0m\u001b[0;34m\u001b[0m\u001b[0m\n\u001b[0m\u001b[1;32m    296\u001b[0m         \u001b[0;32mif\u001b[0m \u001b[0misinstance\u001b[0m\u001b[0;34m(\u001b[0m\u001b[0mdata_to_wrap\u001b[0m\u001b[0;34m,\u001b[0m \u001b[0mtuple\u001b[0m\u001b[0;34m)\u001b[0m\u001b[0;34m:\u001b[0m\u001b[0;34m\u001b[0m\u001b[0;34m\u001b[0m\u001b[0m\n\u001b[1;32m    297\u001b[0m             \u001b[0;31m# only wrap the first output for cross decomposition\u001b[0m\u001b[0;34m\u001b[0m\u001b[0;34m\u001b[0m\u001b[0m\n",
            "\u001b[0;32m/usr/local/lib/python3.10/dist-packages/sklearn/preprocessing/_encoders.py\u001b[0m in \u001b[0;36mtransform\u001b[0;34m(self, X)\u001b[0m\n\u001b[1;32m   1005\u001b[0m             \u001b[0mreturned\u001b[0m\u001b[0;34m.\u001b[0m\u001b[0;34m\u001b[0m\u001b[0;34m\u001b[0m\u001b[0m\n\u001b[1;32m   1006\u001b[0m         \"\"\"\n\u001b[0;32m-> 1007\u001b[0;31m         \u001b[0mcheck_is_fitted\u001b[0m\u001b[0;34m(\u001b[0m\u001b[0mself\u001b[0m\u001b[0;34m)\u001b[0m\u001b[0;34m\u001b[0m\u001b[0;34m\u001b[0m\u001b[0m\n\u001b[0m\u001b[1;32m   1008\u001b[0m         \u001b[0mtransform_output\u001b[0m \u001b[0;34m=\u001b[0m \u001b[0m_get_output_config\u001b[0m\u001b[0;34m(\u001b[0m\u001b[0;34m\"transform\"\u001b[0m\u001b[0;34m,\u001b[0m \u001b[0mestimator\u001b[0m\u001b[0;34m=\u001b[0m\u001b[0mself\u001b[0m\u001b[0;34m)\u001b[0m\u001b[0;34m[\u001b[0m\u001b[0;34m\"dense\"\u001b[0m\u001b[0;34m]\u001b[0m\u001b[0;34m\u001b[0m\u001b[0;34m\u001b[0m\u001b[0m\n\u001b[1;32m   1009\u001b[0m         \u001b[0;32mif\u001b[0m \u001b[0mtransform_output\u001b[0m \u001b[0;34m!=\u001b[0m \u001b[0;34m\"default\"\u001b[0m \u001b[0;32mand\u001b[0m \u001b[0mself\u001b[0m\u001b[0;34m.\u001b[0m\u001b[0msparse_output\u001b[0m\u001b[0;34m:\u001b[0m\u001b[0;34m\u001b[0m\u001b[0;34m\u001b[0m\u001b[0m\n",
            "\u001b[0;32m/usr/local/lib/python3.10/dist-packages/sklearn/utils/validation.py\u001b[0m in \u001b[0;36mcheck_is_fitted\u001b[0;34m(estimator, attributes, msg, all_or_any)\u001b[0m\n\u001b[1;32m   1620\u001b[0m \u001b[0;34m\u001b[0m\u001b[0m\n\u001b[1;32m   1621\u001b[0m     \u001b[0;32mif\u001b[0m \u001b[0;32mnot\u001b[0m \u001b[0m_is_fitted\u001b[0m\u001b[0;34m(\u001b[0m\u001b[0mestimator\u001b[0m\u001b[0;34m,\u001b[0m \u001b[0mattributes\u001b[0m\u001b[0;34m,\u001b[0m \u001b[0mall_or_any\u001b[0m\u001b[0;34m)\u001b[0m\u001b[0;34m:\u001b[0m\u001b[0;34m\u001b[0m\u001b[0;34m\u001b[0m\u001b[0m\n\u001b[0;32m-> 1622\u001b[0;31m         \u001b[0;32mraise\u001b[0m \u001b[0mNotFittedError\u001b[0m\u001b[0;34m(\u001b[0m\u001b[0mmsg\u001b[0m \u001b[0;34m%\u001b[0m \u001b[0;34m{\u001b[0m\u001b[0;34m\"name\"\u001b[0m\u001b[0;34m:\u001b[0m \u001b[0mtype\u001b[0m\u001b[0;34m(\u001b[0m\u001b[0mestimator\u001b[0m\u001b[0;34m)\u001b[0m\u001b[0;34m.\u001b[0m\u001b[0m__name__\u001b[0m\u001b[0;34m}\u001b[0m\u001b[0;34m)\u001b[0m\u001b[0;34m\u001b[0m\u001b[0;34m\u001b[0m\u001b[0m\n\u001b[0m\u001b[1;32m   1623\u001b[0m \u001b[0;34m\u001b[0m\u001b[0m\n\u001b[1;32m   1624\u001b[0m \u001b[0;34m\u001b[0m\u001b[0m\n",
            "\u001b[0;31mNotFittedError\u001b[0m: This OneHotEncoder instance is not fitted yet. Call 'fit' with appropriate arguments before using this estimator."
          ]
        }
      ],
      "source": [
        "cat_features = ['RaceEthnicityCategory', 'AgeCategory', 'GeneralHealth',\\\n",
        "                      'PhysicalActivities','SmokerStatus',\\\n",
        "                     'HadSkinCancer', 'HadStroke',\\\n",
        "                     'Sex', 'DifficultyWalking', 'AlcoholDrinkers',\\\n",
        "                     'HadAsthma','HadDiabetes',\\\n",
        "                     'HadKidneyDisease']\n",
        "encoder = OneHotEncoder(sparse_output=False)\n",
        "df_heart = encoder.transform(df_heart[cat_features])\n",
        "\n",
        "numeric_features = ['BMI', 'PhysicalHealthDays', 'MentalHealthDays', 'SleepHours' ]\n",
        "numeric_corr = df_heart(df_heart[numeric_features]).corr()\n",
        "\n",
        "plt.figure(figsize=(8, 6))\n",
        "mypal = ['#FF5733', '#33FF57', '#3373FF', '#FF33F3', '#B4FFE4']\n",
        "sns.heatmap(numeric_corr, annot=True, cmap=sns.color_palette(mypal), linewidths=0.5)\n",
        "plt.title('Correlation Matrix')\n",
        "plt.show()"
      ]
    },
    {
      "cell_type": "code",
      "execution_count": null,
      "metadata": {
        "id": "dnYvw1KRROH2"
      },
      "outputs": [],
      "source": [
        "numerical_cols = ['BMI', 'PhysicalHealthDays', 'MentalHealthDays', 'SleepHours' ]\n",
        "\n",
        "palette = sns.color_palette(mypal)\n",
        "\n",
        "plt.figure(figsize=(12, 8))\n",
        "for i, column in enumerate(numerical_cols, 1):\n",
        "    plt.subplot(2, 4, i)\n",
        "    sns.boxplot(y=df_heart[column], color=palette[i-1], width=0.5)\n",
        "    plt.axhline(y=df_heart[column].median(), color='red', linestyle='--', linewidth=2)\n",
        "    plt.title(f'Boxplot of {column}', fontsize=12)\n",
        "    plt.grid(axis='y', linestyle='--', alpha=0.7)\n",
        "\n",
        "plt.tight_layout()\n",
        "\n",
        "plt.show()"
      ]
    },
    {
      "cell_type": "code",
      "execution_count": null,
      "metadata": {
        "id": "0_UNbvZQkALn"
      },
      "outputs": [],
      "source": [
        "sns.set_theme(style=\"ticks\")\n",
        "spmat = sns.pairplot(df_heart, hue=\"HadHeartAttack\")\n",
        "plt.show()"
      ]
    },
    {
      "cell_type": "markdown",
      "metadata": {
        "id": "TdbUa2YtnGNd"
      },
      "source": [
        "##  Feature Engieering and Data Cleaning"
      ]
    },
    {
      "cell_type": "markdown",
      "metadata": {
        "id": "1wvOyJ39p8Eg"
      },
      "source": [
        "We will simply drop all missing values as we have large numbers of observations in our dataset"
      ]
    },
    {
      "cell_type": "code",
      "execution_count": null,
      "metadata": {
        "id": "oj9FmW_nrd1Y"
      },
      "outputs": [],
      "source": [
        "print(df_heart.shape)\n",
        "df_heart.isna().sum()"
      ]
    },
    {
      "cell_type": "code",
      "execution_count": null,
      "metadata": {
        "id": "WljVUkVwGTTc"
      },
      "outputs": [],
      "source": [
        "df_heart = df_heart.dropna()"
      ]
    },
    {
      "cell_type": "code",
      "execution_count": null,
      "metadata": {
        "id": "tATnBe4DHi1G"
      },
      "outputs": [],
      "source": [
        "print(df_heart.shape)\n",
        "df_heart.isna().sum()"
      ]
    },
    {
      "cell_type": "markdown",
      "metadata": {
        "id": "Eh45D8fT00zM"
      },
      "source": [
        "## Handling Unbalanced Data"
      ]
    },
    {
      "cell_type": "code",
      "execution_count": null,
      "metadata": {
        "id": "BWqB54MsL3Ve",
        "colab": {
          "base_uri": "https://localhost:8080/",
          "height": 424
        },
        "outputId": "2ed6be5c-7ba0-4090-8221-a8a6b1f031d0"
      },
      "outputs": [
        {
          "output_type": "execute_result",
          "data": {
            "text/plain": [
              "<Axes: ylabel='Type'>"
            ]
          },
          "metadata": {},
          "execution_count": 21
        },
        {
          "output_type": "display_data",
          "data": {
            "text/plain": [
              "<Figure size 640x480 with 1 Axes>"
            ],
            "image/png": "[encoded data removed]"
          },
          "metadata": {}
        }
      ],
      "source": [
        "df_heart.groupby('HadHeartAttack').size().plot(kind='pie',\n",
        "                                       y = \"HadHeartAttack\",\n",
        "                                       label = \"Type\",\n",
        "                                       autopct='%1.1f%%')"
      ]
    },
    {
      "cell_type": "code",
      "execution_count": null,
      "metadata": {
        "id": "tFMtFnqp08--",
        "colab": {
          "base_uri": "https://localhost:8080/"
        },
        "outputId": "22074787-2768-4d53-ca2f-e59ebde227f0"
      },
      "outputs": [
        {
          "output_type": "stream",
          "name": "stdout",
          "text": [
            "(25108, 18)\n",
            "(416959, 18)\n"
          ]
        }
      ],
      "source": [
        "heart_yes = df_heart[df_heart['HadHeartAttack'] == \"Yes\"]\n",
        "heart_no  = df_heart[df_heart['HadHeartAttack'] == \"No\"]\n",
        "print(heart_yes.shape)\n",
        "print(heart_no.shape)"
      ]
    },
    {
      "cell_type": "code",
      "execution_count": null,
      "metadata": {
        "id": "nIJll143K3iJ",
        "colab": {
          "base_uri": "https://localhost:8080/"
        },
        "outputId": "0cb02f6c-aca3-4e2a-a7d1-072c8c1d6c9f"
      },
      "outputs": [
        {
          "output_type": "stream",
          "name": "stdout",
          "text": [
            "(25108, 18)\n",
            "(50216, 18)\n"
          ]
        }
      ],
      "source": [
        "from sklearn.utils import resample\n",
        "no_downsample = resample(heart_no,\n",
        "                         replace = True,\n",
        "                         n_samples = len(heart_yes),\n",
        "                         random_state = 69)\n",
        "print(no_downsample.shape)\n",
        "heart_balanced = pd.concat([no_downsample, heart_yes])\n",
        "heart_balanced.reset_index(drop=True, inplace=True)\n",
        "print(heart_balanced.shape)"
      ]
    },
    {
      "cell_type": "code",
      "execution_count": null,
      "metadata": {
        "id": "k0o57byyRk9_",
        "colab": {
          "base_uri": "https://localhost:8080/",
          "height": 424
        },
        "outputId": "963d4252-6d13-4770-99d5-a0033bc9c877"
      },
      "outputs": [
        {
          "output_type": "execute_result",
          "data": {
            "text/plain": [
              "<Axes: ylabel='Type'>"
            ]
          },
          "metadata": {},
          "execution_count": 24
        },
        {
          "output_type": "display_data",
          "data": {
            "text/plain": [
              "<Figure size 640x480 with 1 Axes>"
            ],
            "image/png": "[encoded data removed]"
          },
          "metadata": {}
        }
      ],
      "source": [
        "heart_balanced.groupby('HadHeartAttack').size().plot(kind='pie',\n",
        "                                       y = \"HadHeartAttack\",\n",
        "                                       label = \"Type\",\n",
        "                                       autopct='%1.1f%%')"
      ]
    },
    {
      "cell_type": "markdown",
      "metadata": {
        "id": "6SwNAU6IvGgQ"
      },
      "source": [
        "## Initial split into test and non-test sets"
      ]
    },
    {
      "cell_type": "code",
      "execution_count": null,
      "metadata": {
        "id": "sgMvk-s1vLjd"
      },
      "outputs": [],
      "source": [
        "from sklearn.model_selection import train_test_split\n",
        "\n",
        "heart_balanced = df_heart.dropna()\n",
        "\n",
        "Heart_other, Heart_test = train_test_split(\n",
        "  heart_balanced,\n",
        "  train_size = 0.75,\n",
        "  random_state = 425, # seed\n",
        "  stratify = heart_balanced.HadHeartAttack\n",
        "  )\n"
      ]
    },
    {
      "cell_type": "code",
      "execution_count": null,
      "metadata": {
        "id": "QPO9v9BEwK0J",
        "colab": {
          "base_uri": "https://localhost:8080/"
        },
        "outputId": "4c36062f-9c41-4b22-be22-6313a2723817"
      },
      "outputs": [
        {
          "output_type": "stream",
          "name": "stdout",
          "text": [
            "Size of training set : 251354 rows , 18 columns\n",
            "Size of test set : 83785 rows , 18 columns\n"
          ]
        }
      ],
      "source": [
        "print (f\"Size of training set : {Heart_other.shape[0]} rows , {Heart_other.shape[1]} columns\")\n",
        "print (f\"Size of test set : {Heart_test.shape[0]} rows , {Heart_test.shape[1]} columns\")"
      ]
    },
    {
      "cell_type": "code",
      "execution_count": null,
      "metadata": {
        "id": "paXXUqet1zJL"
      },
      "outputs": [],
      "source": [
        "cat_features = ['RaceEthnicityCategory', 'AgeCategory', 'GeneralHealth',\\\n",
        "                      'PhysicalActivities','SmokerStatus',\\\n",
        "                     'HadSkinCancer', 'HadStroke',\\\n",
        "                     'Sex', 'DifficultyWalking', 'AlcoholDrinkers',\\\n",
        "                     'HadAsthma','HadDiabetes',\\\n",
        "                     'HadKidneyDisease']\n",
        "num_features = ['PhysicalHealthDays',\t'BMI',\t'MentalHealthDays',\t'SleepHours']\n",
        "features = np.concatenate([num_features, cat_features])\n",
        "#Non-test X and y\n",
        "X_other = Heart_other[features]\n",
        "y_other = Heart_other.HadHeartAttack\n",
        "#Test X and y\n",
        "X_test = Heart_test[features]\n",
        "y_test = Heart_test.HadHeartAttack\n",
        "\n",
        "encoder = OneHotEncoder(sparse_output=False)\n",
        "X_other = encoder.fit_transform(X_other[cat_features])\n",
        "X_test = encoder.transform(X_test[cat_features])"
      ]
    },
    {
      "cell_type": "markdown",
      "metadata": {
        "id": "cvCjvL1ySPjr"
      },
      "source": [
        "## Drift Detection"
      ]
    },
    {
      "cell_type": "markdown",
      "metadata": {
        "id": "1x8NSzJnPojq"
      },
      "source": [
        "## PyCaret"
      ]
    },
    {
      "cell_type": "code",
      "execution_count": null,
      "metadata": {
        "id": "AY_Aq2yCP6SG",
        "colab": {
          "base_uri": "https://localhost:8080/",
          "height": 35
        },
        "outputId": "3fdab525-d4bc-4695-d5d4-7531c8e450d7"
      },
      "outputs": [
        {
          "output_type": "execute_result",
          "data": {
            "text/plain": [
              "'3.3.2'"
            ],
            "application/vnd.google.colaboratory.intrinsic+json": {
              "type": "string"
            }
          },
          "metadata": {},
          "execution_count": 28
        }
      ],
      "source": [
        "from pycaret.utils import version\n",
        "version()"
      ]
    },
    {
      "cell_type": "code",
      "execution_count": null,
      "metadata": {
        "id": "6716vLbcQ_Mx",
        "colab": {
          "base_uri": "https://localhost:8080/",
          "height": 771
        },
        "outputId": "fbb58211-ea2d-4466-80ce-4743b5f1cb7d"
      },
      "outputs": [
        {
          "output_type": "display_data",
          "data": {
            "text/plain": [
              "<pandas.io.formats.style.Styler at 0x7d117ca1c7c0>"
            ],
            "text/html": [
              "<style type=\"text/css\">\n",
              "#T_b9005_row10_col1 {\n",
              "  background-color: lightgreen;\n",
              "}\n",
              "</style>\n",
              "<table id=\"T_b9005\" class=\"dataframe\">\n",
              "  <thead>\n",
              "    <tr>\n",
              "      <th class=\"blank level0\" >&nbsp;</th>\n",
              "      <th id=\"T_b9005_level0_col0\" class=\"col_heading level0 col0\" >Description</th>\n",
              "      <th id=\"T_b9005_level0_col1\" class=\"col_heading level0 col1\" >Value</th>\n",
              "    </tr>\n",
              "  </thead>\n",
              "  <tbody>\n",
              "    <tr>\n",
              "      <th id=\"T_b9005_level0_row0\" class=\"row_heading level0 row0\" >0</th>\n",
              "      <td id=\"T_b9005_row0_col0\" class=\"data row0 col0\" >Session id</td>\n",
              "      <td id=\"T_b9005_row0_col1\" class=\"data row0 col1\" >123</td>\n",
              "    </tr>\n",
              "    <tr>\n",
              "      <th id=\"T_b9005_level0_row1\" class=\"row_heading level0 row1\" >1</th>\n",
              "      <td id=\"T_b9005_row1_col0\" class=\"data row1 col0\" >Target</td>\n",
              "      <td id=\"T_b9005_row1_col1\" class=\"data row1 col1\" >HadHeartAttack</td>\n",
              "    </tr>\n",
              "    <tr>\n",
              "      <th id=\"T_b9005_level0_row2\" class=\"row_heading level0 row2\" >2</th>\n",
              "      <td id=\"T_b9005_row2_col0\" class=\"data row2 col0\" >Target type</td>\n",
              "      <td id=\"T_b9005_row2_col1\" class=\"data row2 col1\" >Binary</td>\n",
              "    </tr>\n",
              "    <tr>\n",
              "      <th id=\"T_b9005_level0_row3\" class=\"row_heading level0 row3\" >3</th>\n",
              "      <td id=\"T_b9005_row3_col0\" class=\"data row3 col0\" >Target mapping</td>\n",
              "      <td id=\"T_b9005_row3_col1\" class=\"data row3 col1\" >No: 0, Yes: 1</td>\n",
              "    </tr>\n",
              "    <tr>\n",
              "      <th id=\"T_b9005_level0_row4\" class=\"row_heading level0 row4\" >4</th>\n",
              "      <td id=\"T_b9005_row4_col0\" class=\"data row4 col0\" >Original data shape</td>\n",
              "      <td id=\"T_b9005_row4_col1\" class=\"data row4 col1\" >(251354, 18)</td>\n",
              "    </tr>\n",
              "    <tr>\n",
              "      <th id=\"T_b9005_level0_row5\" class=\"row_heading level0 row5\" >5</th>\n",
              "      <td id=\"T_b9005_row5_col0\" class=\"data row5 col0\" >Transformed data shape</td>\n",
              "      <td id=\"T_b9005_row5_col1\" class=\"data row5 col1\" >(251354, 44)</td>\n",
              "    </tr>\n",
              "    <tr>\n",
              "      <th id=\"T_b9005_level0_row6\" class=\"row_heading level0 row6\" >6</th>\n",
              "      <td id=\"T_b9005_row6_col0\" class=\"data row6 col0\" >Transformed train set shape</td>\n",
              "      <td id=\"T_b9005_row6_col1\" class=\"data row6 col1\" >(175947, 44)</td>\n",
              "    </tr>\n",
              "    <tr>\n",
              "      <th id=\"T_b9005_level0_row7\" class=\"row_heading level0 row7\" >7</th>\n",
              "      <td id=\"T_b9005_row7_col0\" class=\"data row7 col0\" >Transformed test set shape</td>\n",
              "      <td id=\"T_b9005_row7_col1\" class=\"data row7 col1\" >(75407, 44)</td>\n",
              "    </tr>\n",
              "    <tr>\n",
              "      <th id=\"T_b9005_level0_row8\" class=\"row_heading level0 row8\" >8</th>\n",
              "      <td id=\"T_b9005_row8_col0\" class=\"data row8 col0\" >Numeric features</td>\n",
              "      <td id=\"T_b9005_row8_col1\" class=\"data row8 col1\" >4</td>\n",
              "    </tr>\n",
              "    <tr>\n",
              "      <th id=\"T_b9005_level0_row9\" class=\"row_heading level0 row9\" >9</th>\n",
              "      <td id=\"T_b9005_row9_col0\" class=\"data row9 col0\" >Categorical features</td>\n",
              "      <td id=\"T_b9005_row9_col1\" class=\"data row9 col1\" >13</td>\n",
              "    </tr>\n",
              "    <tr>\n",
              "      <th id=\"T_b9005_level0_row10\" class=\"row_heading level0 row10\" >10</th>\n",
              "      <td id=\"T_b9005_row10_col0\" class=\"data row10 col0\" >Preprocess</td>\n",
              "      <td id=\"T_b9005_row10_col1\" class=\"data row10 col1\" >True</td>\n",
              "    </tr>\n",
              "    <tr>\n",
              "      <th id=\"T_b9005_level0_row11\" class=\"row_heading level0 row11\" >11</th>\n",
              "      <td id=\"T_b9005_row11_col0\" class=\"data row11 col0\" >Imputation type</td>\n",
              "      <td id=\"T_b9005_row11_col1\" class=\"data row11 col1\" >simple</td>\n",
              "    </tr>\n",
              "    <tr>\n",
              "      <th id=\"T_b9005_level0_row12\" class=\"row_heading level0 row12\" >12</th>\n",
              "      <td id=\"T_b9005_row12_col0\" class=\"data row12 col0\" >Numeric imputation</td>\n",
              "      <td id=\"T_b9005_row12_col1\" class=\"data row12 col1\" >mean</td>\n",
              "    </tr>\n",
              "    <tr>\n",
              "      <th id=\"T_b9005_level0_row13\" class=\"row_heading level0 row13\" >13</th>\n",
              "      <td id=\"T_b9005_row13_col0\" class=\"data row13 col0\" >Categorical imputation</td>\n",
              "      <td id=\"T_b9005_row13_col1\" class=\"data row13 col1\" >mode</td>\n",
              "    </tr>\n",
              "    <tr>\n",
              "      <th id=\"T_b9005_level0_row14\" class=\"row_heading level0 row14\" >14</th>\n",
              "      <td id=\"T_b9005_row14_col0\" class=\"data row14 col0\" >Maximum one-hot encoding</td>\n",
              "      <td id=\"T_b9005_row14_col1\" class=\"data row14 col1\" >25</td>\n",
              "    </tr>\n",
              "    <tr>\n",
              "      <th id=\"T_b9005_level0_row15\" class=\"row_heading level0 row15\" >15</th>\n",
              "      <td id=\"T_b9005_row15_col0\" class=\"data row15 col0\" >Encoding method</td>\n",
              "      <td id=\"T_b9005_row15_col1\" class=\"data row15 col1\" >None</td>\n",
              "    </tr>\n",
              "    <tr>\n",
              "      <th id=\"T_b9005_level0_row16\" class=\"row_heading level0 row16\" >16</th>\n",
              "      <td id=\"T_b9005_row16_col0\" class=\"data row16 col0\" >Fold Generator</td>\n",
              "      <td id=\"T_b9005_row16_col1\" class=\"data row16 col1\" >StratifiedKFold</td>\n",
              "    </tr>\n",
              "    <tr>\n",
              "      <th id=\"T_b9005_level0_row17\" class=\"row_heading level0 row17\" >17</th>\n",
              "      <td id=\"T_b9005_row17_col0\" class=\"data row17 col0\" >Fold Number</td>\n",
              "      <td id=\"T_b9005_row17_col1\" class=\"data row17 col1\" >10</td>\n",
              "    </tr>\n",
              "    <tr>\n",
              "      <th id=\"T_b9005_level0_row18\" class=\"row_heading level0 row18\" >18</th>\n",
              "      <td id=\"T_b9005_row18_col0\" class=\"data row18 col0\" >CPU Jobs</td>\n",
              "      <td id=\"T_b9005_row18_col1\" class=\"data row18 col1\" >-1</td>\n",
              "    </tr>\n",
              "    <tr>\n",
              "      <th id=\"T_b9005_level0_row19\" class=\"row_heading level0 row19\" >19</th>\n",
              "      <td id=\"T_b9005_row19_col0\" class=\"data row19 col0\" >Use GPU</td>\n",
              "      <td id=\"T_b9005_row19_col1\" class=\"data row19 col1\" >False</td>\n",
              "    </tr>\n",
              "    <tr>\n",
              "      <th id=\"T_b9005_level0_row20\" class=\"row_heading level0 row20\" >20</th>\n",
              "      <td id=\"T_b9005_row20_col0\" class=\"data row20 col0\" >Log Experiment</td>\n",
              "      <td id=\"T_b9005_row20_col1\" class=\"data row20 col1\" >False</td>\n",
              "    </tr>\n",
              "    <tr>\n",
              "      <th id=\"T_b9005_level0_row21\" class=\"row_heading level0 row21\" >21</th>\n",
              "      <td id=\"T_b9005_row21_col0\" class=\"data row21 col0\" >Experiment Name</td>\n",
              "      <td id=\"T_b9005_row21_col1\" class=\"data row21 col1\" >clf-default-name</td>\n",
              "    </tr>\n",
              "    <tr>\n",
              "      <th id=\"T_b9005_level0_row22\" class=\"row_heading level0 row22\" >22</th>\n",
              "      <td id=\"T_b9005_row22_col0\" class=\"data row22 col0\" >USI</td>\n",
              "      <td id=\"T_b9005_row22_col1\" class=\"data row22 col1\" >d071</td>\n",
              "    </tr>\n",
              "  </tbody>\n",
              "</table>\n"
            ]
          },
          "metadata": {}
        }
      ],
      "source": [
        "from pycaret import classification\n",
        "# classification.setup() performs variaous preprocessing task on the data\n",
        "# Arg1 : data = name of the dataframe\n",
        "# Arg2 : target = name of the Y variable (aka claffication label)\n",
        "classification_setup = classification.setup(data= Heart_other,\n",
        "                                            target='HadHeartAttack',\n",
        "                                            session_id = 123)"
      ]
    },
    {
      "cell_type": "code",
      "execution_count": null,
      "metadata": {
        "id": "qp_7kEsTUsYF",
        "colab": {
          "base_uri": "https://localhost:8080/",
          "height": 621,
          "referenced_widgets": [
            "012274a1ce664790858e8f83419cadd3",
            "760c638af62d46e590a5bcd0585b9fe4",
            "d35f8357fdd54aef8b12f6ddb874f0e1",
            "7ad0ea1588434622a69f88075518ae71",
            "0d1a1fa658d8442d902ea6c761cfc4d5",
            "7c554a9fe0a04bda89a6e64d882c822c",
            "c18844ebb153473c947c23a6328f4249",
            "7e25945c24ff413ea7a802eb5ae55acd",
            "c18a3b068689416eaf59335e6f093cd5",
            "04cbe255daff4489bbd058c4323cd29b",
            "cf6f2490226e458fad1080ee90a57836"
          ]
        },
        "outputId": "d4fc384c-a12c-4812-c61d-353007473d77"
      },
      "outputs": [
        {
          "output_type": "display_data",
          "data": {
            "text/plain": [
              "<IPython.core.display.HTML object>"
            ],
            "text/html": []
          },
          "metadata": {}
        },
        {
          "output_type": "display_data",
          "data": {
            "text/plain": [
              "<pandas.io.formats.style.Styler at 0x7d119ca3b760>"
            ],
            "text/html": [
              "<style type=\"text/css\">\n",
              "#T_f238f th {\n",
              "  text-align: left;\n",
              "}\n",
              "#T_f238f_row0_col0, #T_f238f_row0_col2, #T_f238f_row0_col4, #T_f238f_row0_col5, #T_f238f_row0_col6, #T_f238f_row0_col7, #T_f238f_row1_col0, #T_f238f_row1_col4, #T_f238f_row1_col5, #T_f238f_row1_col6, #T_f238f_row1_col7, #T_f238f_row2_col0, #T_f238f_row2_col1, #T_f238f_row2_col2, #T_f238f_row2_col3, #T_f238f_row2_col4, #T_f238f_row2_col5, #T_f238f_row2_col6, #T_f238f_row2_col7, #T_f238f_row3_col0, #T_f238f_row3_col1, #T_f238f_row3_col2, #T_f238f_row3_col3, #T_f238f_row3_col4, #T_f238f_row3_col5, #T_f238f_row3_col6, #T_f238f_row3_col7, #T_f238f_row4_col0, #T_f238f_row4_col1, #T_f238f_row4_col2, #T_f238f_row4_col3, #T_f238f_row4_col4, #T_f238f_row4_col5, #T_f238f_row4_col6, #T_f238f_row4_col7, #T_f238f_row5_col0, #T_f238f_row5_col1, #T_f238f_row5_col2, #T_f238f_row5_col3, #T_f238f_row5_col4, #T_f238f_row5_col5, #T_f238f_row5_col6, #T_f238f_row5_col7, #T_f238f_row6_col0, #T_f238f_row6_col1, #T_f238f_row6_col2, #T_f238f_row6_col3, #T_f238f_row6_col4, #T_f238f_row6_col5, #T_f238f_row6_col6, #T_f238f_row6_col7, #T_f238f_row7_col0, #T_f238f_row7_col1, #T_f238f_row7_col2, #T_f238f_row7_col3, #T_f238f_row7_col4, #T_f238f_row7_col5, #T_f238f_row7_col6, #T_f238f_row7_col7, #T_f238f_row8_col0, #T_f238f_row8_col1, #T_f238f_row8_col2, #T_f238f_row8_col3, #T_f238f_row8_col4, #T_f238f_row8_col5, #T_f238f_row8_col6, #T_f238f_row8_col7, #T_f238f_row9_col0, #T_f238f_row9_col1, #T_f238f_row9_col2, #T_f238f_row9_col3, #T_f238f_row9_col4, #T_f238f_row9_col7, #T_f238f_row10_col0, #T_f238f_row10_col1, #T_f238f_row10_col2, #T_f238f_row10_col3, #T_f238f_row10_col4, #T_f238f_row10_col5, #T_f238f_row10_col6, #T_f238f_row10_col7, #T_f238f_row11_col0, #T_f238f_row11_col1, #T_f238f_row11_col2, #T_f238f_row11_col3, #T_f238f_row11_col4, #T_f238f_row11_col5, #T_f238f_row11_col6, #T_f238f_row11_col7, #T_f238f_row12_col0, #T_f238f_row12_col1, #T_f238f_row12_col2, #T_f238f_row12_col3, #T_f238f_row12_col4, #T_f238f_row12_col5, #T_f238f_row12_col6, #T_f238f_row12_col7, #T_f238f_row13_col0, #T_f238f_row13_col1, #T_f238f_row13_col2, #T_f238f_row13_col3, #T_f238f_row13_col5, #T_f238f_row13_col6 {\n",
              "  text-align: left;\n",
              "}\n",
              "#T_f238f_row0_col1, #T_f238f_row0_col3, #T_f238f_row1_col1, #T_f238f_row1_col2, #T_f238f_row1_col3, #T_f238f_row9_col5, #T_f238f_row9_col6, #T_f238f_row13_col4, #T_f238f_row13_col7 {\n",
              "  text-align: left;\n",
              "  background-color: yellow;\n",
              "}\n",
              "#T_f238f_row0_col8, #T_f238f_row1_col8, #T_f238f_row2_col8, #T_f238f_row4_col8, #T_f238f_row5_col8, #T_f238f_row6_col8, #T_f238f_row7_col8, #T_f238f_row8_col8, #T_f238f_row9_col8, #T_f238f_row10_col8, #T_f238f_row11_col8, #T_f238f_row12_col8, #T_f238f_row13_col8 {\n",
              "  text-align: left;\n",
              "  background-color: lightgrey;\n",
              "}\n",
              "#T_f238f_row3_col8 {\n",
              "  text-align: left;\n",
              "  background-color: yellow;\n",
              "  background-color: lightgrey;\n",
              "}\n",
              "</style>\n",
              "<table id=\"T_f238f\" class=\"dataframe\">\n",
              "  <thead>\n",
              "    <tr>\n",
              "      <th class=\"blank level0\" >&nbsp;</th>\n",
              "      <th id=\"T_f238f_level0_col0\" class=\"col_heading level0 col0\" >Model</th>\n",
              "      <th id=\"T_f238f_level0_col1\" class=\"col_heading level0 col1\" >Accuracy</th>\n",
              "      <th id=\"T_f238f_level0_col2\" class=\"col_heading level0 col2\" >AUC</th>\n",
              "      <th id=\"T_f238f_level0_col3\" class=\"col_heading level0 col3\" >Recall</th>\n",
              "      <th id=\"T_f238f_level0_col4\" class=\"col_heading level0 col4\" >Prec.</th>\n",
              "      <th id=\"T_f238f_level0_col5\" class=\"col_heading level0 col5\" >F1</th>\n",
              "      <th id=\"T_f238f_level0_col6\" class=\"col_heading level0 col6\" >Kappa</th>\n",
              "      <th id=\"T_f238f_level0_col7\" class=\"col_heading level0 col7\" >MCC</th>\n",
              "      <th id=\"T_f238f_level0_col8\" class=\"col_heading level0 col8\" >TT (Sec)</th>\n",
              "    </tr>\n",
              "  </thead>\n",
              "  <tbody>\n",
              "    <tr>\n",
              "      <th id=\"T_f238f_level0_row0\" class=\"row_heading level0 row0\" >lr</th>\n",
              "      <td id=\"T_f238f_row0_col0\" class=\"data row0 col0\" >Logistic Regression</td>\n",
              "      <td id=\"T_f238f_row0_col1\" class=\"data row0 col1\" >0.9448</td>\n",
              "      <td id=\"T_f238f_row0_col2\" class=\"data row0 col2\" >0.8357</td>\n",
              "      <td id=\"T_f238f_row0_col3\" class=\"data row0 col3\" >0.9448</td>\n",
              "      <td id=\"T_f238f_row0_col4\" class=\"data row0 col4\" >0.9230</td>\n",
              "      <td id=\"T_f238f_row0_col5\" class=\"data row0 col5\" >0.9222</td>\n",
              "      <td id=\"T_f238f_row0_col6\" class=\"data row0 col6\" >0.0718</td>\n",
              "      <td id=\"T_f238f_row0_col7\" class=\"data row0 col7\" >0.1374</td>\n",
              "      <td id=\"T_f238f_row0_col8\" class=\"data row0 col8\" >4.5200</td>\n",
              "    </tr>\n",
              "    <tr>\n",
              "      <th id=\"T_f238f_level0_row1\" class=\"row_heading level0 row1\" >gbc</th>\n",
              "      <td id=\"T_f238f_row1_col0\" class=\"data row1 col0\" >Gradient Boosting Classifier</td>\n",
              "      <td id=\"T_f238f_row1_col1\" class=\"data row1 col1\" >0.9448</td>\n",
              "      <td id=\"T_f238f_row1_col2\" class=\"data row1 col2\" >0.8365</td>\n",
              "      <td id=\"T_f238f_row1_col3\" class=\"data row1 col3\" >0.9448</td>\n",
              "      <td id=\"T_f238f_row1_col4\" class=\"data row1 col4\" >0.9232</td>\n",
              "      <td id=\"T_f238f_row1_col5\" class=\"data row1 col5\" >0.9217</td>\n",
              "      <td id=\"T_f238f_row1_col6\" class=\"data row1 col6\" >0.0638</td>\n",
              "      <td id=\"T_f238f_row1_col7\" class=\"data row1 col7\" >0.1300</td>\n",
              "      <td id=\"T_f238f_row1_col8\" class=\"data row1 col8\" >17.0230</td>\n",
              "    </tr>\n",
              "    <tr>\n",
              "      <th id=\"T_f238f_level0_row2\" class=\"row_heading level0 row2\" >ridge</th>\n",
              "      <td id=\"T_f238f_row2_col0\" class=\"data row2 col0\" >Ridge Classifier</td>\n",
              "      <td id=\"T_f238f_row2_col1\" class=\"data row2 col1\" >0.9446</td>\n",
              "      <td id=\"T_f238f_row2_col2\" class=\"data row2 col2\" >0.8280</td>\n",
              "      <td id=\"T_f238f_row2_col3\" class=\"data row2 col3\" >0.9446</td>\n",
              "      <td id=\"T_f238f_row2_col4\" class=\"data row2 col4\" >0.8923</td>\n",
              "      <td id=\"T_f238f_row2_col5\" class=\"data row2 col5\" >0.9178</td>\n",
              "      <td id=\"T_f238f_row2_col6\" class=\"data row2 col6\" >0.0000</td>\n",
              "      <td id=\"T_f238f_row2_col7\" class=\"data row2 col7\" >0.0000</td>\n",
              "      <td id=\"T_f238f_row2_col8\" class=\"data row2 col8\" >1.7540</td>\n",
              "    </tr>\n",
              "    <tr>\n",
              "      <th id=\"T_f238f_level0_row3\" class=\"row_heading level0 row3\" >dummy</th>\n",
              "      <td id=\"T_f238f_row3_col0\" class=\"data row3 col0\" >Dummy Classifier</td>\n",
              "      <td id=\"T_f238f_row3_col1\" class=\"data row3 col1\" >0.9446</td>\n",
              "      <td id=\"T_f238f_row3_col2\" class=\"data row3 col2\" >0.5000</td>\n",
              "      <td id=\"T_f238f_row3_col3\" class=\"data row3 col3\" >0.9446</td>\n",
              "      <td id=\"T_f238f_row3_col4\" class=\"data row3 col4\" >0.8923</td>\n",
              "      <td id=\"T_f238f_row3_col5\" class=\"data row3 col5\" >0.9178</td>\n",
              "      <td id=\"T_f238f_row3_col6\" class=\"data row3 col6\" >0.0000</td>\n",
              "      <td id=\"T_f238f_row3_col7\" class=\"data row3 col7\" >0.0000</td>\n",
              "      <td id=\"T_f238f_row3_col8\" class=\"data row3 col8\" >1.5690</td>\n",
              "    </tr>\n",
              "    <tr>\n",
              "      <th id=\"T_f238f_level0_row4\" class=\"row_heading level0 row4\" >ada</th>\n",
              "      <td id=\"T_f238f_row4_col0\" class=\"data row4 col0\" >Ada Boost Classifier</td>\n",
              "      <td id=\"T_f238f_row4_col1\" class=\"data row4 col1\" >0.9443</td>\n",
              "      <td id=\"T_f238f_row4_col2\" class=\"data row4 col2\" >0.8364</td>\n",
              "      <td id=\"T_f238f_row4_col3\" class=\"data row4 col3\" >0.9443</td>\n",
              "      <td id=\"T_f238f_row4_col4\" class=\"data row4 col4\" >0.9212</td>\n",
              "      <td id=\"T_f238f_row4_col5\" class=\"data row4 col5\" >0.9231</td>\n",
              "      <td id=\"T_f238f_row4_col6\" class=\"data row4 col6\" >0.0909</td>\n",
              "      <td id=\"T_f238f_row4_col7\" class=\"data row4 col7\" >0.1498</td>\n",
              "      <td id=\"T_f238f_row4_col8\" class=\"data row4 col8\" >5.4200</td>\n",
              "    </tr>\n",
              "    <tr>\n",
              "      <th id=\"T_f238f_level0_row5\" class=\"row_heading level0 row5\" >svm</th>\n",
              "      <td id=\"T_f238f_row5_col0\" class=\"data row5 col0\" >SVM - Linear Kernel</td>\n",
              "      <td id=\"T_f238f_row5_col1\" class=\"data row5 col1\" >0.9439</td>\n",
              "      <td id=\"T_f238f_row5_col2\" class=\"data row5 col2\" >0.7639</td>\n",
              "      <td id=\"T_f238f_row5_col3\" class=\"data row5 col3\" >0.9439</td>\n",
              "      <td id=\"T_f238f_row5_col4\" class=\"data row5 col4\" >0.9115</td>\n",
              "      <td id=\"T_f238f_row5_col5\" class=\"data row5 col5\" >0.9186</td>\n",
              "      <td id=\"T_f238f_row5_col6\" class=\"data row5 col6\" >0.0190</td>\n",
              "      <td id=\"T_f238f_row5_col7\" class=\"data row5 col7\" >0.0445</td>\n",
              "      <td id=\"T_f238f_row5_col8\" class=\"data row5 col8\" >3.3560</td>\n",
              "    </tr>\n",
              "    <tr>\n",
              "      <th id=\"T_f238f_level0_row6\" class=\"row_heading level0 row6\" >xgboost</th>\n",
              "      <td id=\"T_f238f_row6_col0\" class=\"data row6 col0\" >Extreme Gradient Boosting</td>\n",
              "      <td id=\"T_f238f_row6_col1\" class=\"data row6 col1\" >0.9438</td>\n",
              "      <td id=\"T_f238f_row6_col2\" class=\"data row6 col2\" >0.8279</td>\n",
              "      <td id=\"T_f238f_row6_col3\" class=\"data row6 col3\" >0.9438</td>\n",
              "      <td id=\"T_f238f_row6_col4\" class=\"data row6 col4\" >0.9182</td>\n",
              "      <td id=\"T_f238f_row6_col5\" class=\"data row6 col5\" >0.9217</td>\n",
              "      <td id=\"T_f238f_row6_col6\" class=\"data row6 col6\" >0.0711</td>\n",
              "      <td id=\"T_f238f_row6_col7\" class=\"data row6 col7\" >0.1244</td>\n",
              "      <td id=\"T_f238f_row6_col8\" class=\"data row6 col8\" >3.3500</td>\n",
              "    </tr>\n",
              "    <tr>\n",
              "      <th id=\"T_f238f_level0_row7\" class=\"row_heading level0 row7\" >knn</th>\n",
              "      <td id=\"T_f238f_row7_col0\" class=\"data row7 col0\" >K Neighbors Classifier</td>\n",
              "      <td id=\"T_f238f_row7_col1\" class=\"data row7 col1\" >0.9416</td>\n",
              "      <td id=\"T_f238f_row7_col2\" class=\"data row7 col2\" >0.6207</td>\n",
              "      <td id=\"T_f238f_row7_col3\" class=\"data row7 col3\" >0.9416</td>\n",
              "      <td id=\"T_f238f_row7_col4\" class=\"data row7 col4\" >0.9076</td>\n",
              "      <td id=\"T_f238f_row7_col5\" class=\"data row7 col5\" >0.9190</td>\n",
              "      <td id=\"T_f238f_row7_col6\" class=\"data row7 col6\" >0.0402</td>\n",
              "      <td id=\"T_f238f_row7_col7\" class=\"data row7 col7\" >0.0685</td>\n",
              "      <td id=\"T_f238f_row7_col8\" class=\"data row7 col8\" >27.2600</td>\n",
              "    </tr>\n",
              "    <tr>\n",
              "      <th id=\"T_f238f_level0_row8\" class=\"row_heading level0 row8\" >rf</th>\n",
              "      <td id=\"T_f238f_row8_col0\" class=\"data row8 col0\" >Random Forest Classifier</td>\n",
              "      <td id=\"T_f238f_row8_col1\" class=\"data row8 col1\" >0.9408</td>\n",
              "      <td id=\"T_f238f_row8_col2\" class=\"data row8 col2\" >0.7821</td>\n",
              "      <td id=\"T_f238f_row8_col3\" class=\"data row8 col3\" >0.9408</td>\n",
              "      <td id=\"T_f238f_row8_col4\" class=\"data row8 col4\" >0.9065</td>\n",
              "      <td id=\"T_f238f_row8_col5\" class=\"data row8 col5\" >0.9188</td>\n",
              "      <td id=\"T_f238f_row8_col6\" class=\"data row8 col6\" >0.0413</td>\n",
              "      <td id=\"T_f238f_row8_col7\" class=\"data row8 col7\" >0.0662</td>\n",
              "      <td id=\"T_f238f_row8_col8\" class=\"data row8 col8\" >16.6280</td>\n",
              "    </tr>\n",
              "    <tr>\n",
              "      <th id=\"T_f238f_level0_row9\" class=\"row_heading level0 row9\" >lda</th>\n",
              "      <td id=\"T_f238f_row9_col0\" class=\"data row9 col0\" >Linear Discriminant Analysis</td>\n",
              "      <td id=\"T_f238f_row9_col1\" class=\"data row9 col1\" >0.9338</td>\n",
              "      <td id=\"T_f238f_row9_col2\" class=\"data row9 col2\" >0.8280</td>\n",
              "      <td id=\"T_f238f_row9_col3\" class=\"data row9 col3\" >0.9338</td>\n",
              "      <td id=\"T_f238f_row9_col4\" class=\"data row9 col4\" >0.9198</td>\n",
              "      <td id=\"T_f238f_row9_col5\" class=\"data row9 col5\" >0.9257</td>\n",
              "      <td id=\"T_f238f_row9_col6\" class=\"data row9 col6\" >0.2167</td>\n",
              "      <td id=\"T_f238f_row9_col7\" class=\"data row9 col7\" >0.2250</td>\n",
              "      <td id=\"T_f238f_row9_col8\" class=\"data row9 col8\" >2.0620</td>\n",
              "    </tr>\n",
              "    <tr>\n",
              "      <th id=\"T_f238f_level0_row10\" class=\"row_heading level0 row10\" >et</th>\n",
              "      <td id=\"T_f238f_row10_col0\" class=\"data row10 col0\" >Extra Trees Classifier</td>\n",
              "      <td id=\"T_f238f_row10_col1\" class=\"data row10 col1\" >0.9324</td>\n",
              "      <td id=\"T_f238f_row10_col2\" class=\"data row10 col2\" >0.7541</td>\n",
              "      <td id=\"T_f238f_row10_col3\" class=\"data row10 col3\" >0.9324</td>\n",
              "      <td id=\"T_f238f_row10_col4\" class=\"data row10 col4\" >0.9057</td>\n",
              "      <td id=\"T_f238f_row10_col5\" class=\"data row10 col5\" >0.9171</td>\n",
              "      <td id=\"T_f238f_row10_col6\" class=\"data row10 col6\" >0.0751</td>\n",
              "      <td id=\"T_f238f_row10_col7\" class=\"data row10 col7\" >0.0860</td>\n",
              "      <td id=\"T_f238f_row10_col8\" class=\"data row10 col8\" >21.0980</td>\n",
              "    </tr>\n",
              "    <tr>\n",
              "      <th id=\"T_f238f_level0_row11\" class=\"row_heading level0 row11\" >dt</th>\n",
              "      <td id=\"T_f238f_row11_col0\" class=\"data row11 col0\" >Decision Tree Classifier</td>\n",
              "      <td id=\"T_f238f_row11_col1\" class=\"data row11 col1\" >0.9011</td>\n",
              "      <td id=\"T_f238f_row11_col2\" class=\"data row11 col2\" >0.5660</td>\n",
              "      <td id=\"T_f238f_row11_col3\" class=\"data row11 col3\" >0.9011</td>\n",
              "      <td id=\"T_f238f_row11_col4\" class=\"data row11 col4\" >0.9083</td>\n",
              "      <td id=\"T_f238f_row11_col5\" class=\"data row11 col5\" >0.9046</td>\n",
              "      <td id=\"T_f238f_row11_col6\" class=\"data row11 col6\" >0.1220</td>\n",
              "      <td id=\"T_f238f_row11_col7\" class=\"data row11 col7\" >0.1224</td>\n",
              "      <td id=\"T_f238f_row11_col8\" class=\"data row11 col8\" >2.4820</td>\n",
              "    </tr>\n",
              "    <tr>\n",
              "      <th id=\"T_f238f_level0_row12\" class=\"row_heading level0 row12\" >qda</th>\n",
              "      <td id=\"T_f238f_row12_col0\" class=\"data row12 col0\" >Quadratic Discriminant Analysis</td>\n",
              "      <td id=\"T_f238f_row12_col1\" class=\"data row12 col1\" >0.7282</td>\n",
              "      <td id=\"T_f238f_row12_col2\" class=\"data row12 col2\" >0.6115</td>\n",
              "      <td id=\"T_f238f_row12_col3\" class=\"data row12 col3\" >0.7282</td>\n",
              "      <td id=\"T_f238f_row12_col4\" class=\"data row12 col4\" >0.9128</td>\n",
              "      <td id=\"T_f238f_row12_col5\" class=\"data row12 col5\" >0.7870</td>\n",
              "      <td id=\"T_f238f_row12_col6\" class=\"data row12 col6\" >0.0619</td>\n",
              "      <td id=\"T_f238f_row12_col7\" class=\"data row12 col7\" >0.0962</td>\n",
              "      <td id=\"T_f238f_row12_col8\" class=\"data row12 col8\" >2.2240</td>\n",
              "    </tr>\n",
              "    <tr>\n",
              "      <th id=\"T_f238f_level0_row13\" class=\"row_heading level0 row13\" >nb</th>\n",
              "      <td id=\"T_f238f_row13_col0\" class=\"data row13 col0\" >Naive Bayes</td>\n",
              "      <td id=\"T_f238f_row13_col1\" class=\"data row13 col1\" >0.7114</td>\n",
              "      <td id=\"T_f238f_row13_col2\" class=\"data row13 col2\" >0.8119</td>\n",
              "      <td id=\"T_f238f_row13_col3\" class=\"data row13 col3\" >0.7114</td>\n",
              "      <td id=\"T_f238f_row13_col4\" class=\"data row13 col4\" >0.9348</td>\n",
              "      <td id=\"T_f238f_row13_col5\" class=\"data row13 col5\" >0.7896</td>\n",
              "      <td id=\"T_f238f_row13_col6\" class=\"data row13 col6\" >0.1489</td>\n",
              "      <td id=\"T_f238f_row13_col7\" class=\"data row13 col7\" >0.2369</td>\n",
              "      <td id=\"T_f238f_row13_col8\" class=\"data row13 col8\" >1.6750</td>\n",
              "    </tr>\n",
              "  </tbody>\n",
              "</table>\n"
            ]
          },
          "metadata": {}
        },
        {
          "output_type": "display_data",
          "data": {
            "text/plain": [
              "Processing:   0%|          | 0/65 [00:00<?, ?it/s]"
            ],
            "application/vnd.jupyter.widget-view+json": {
              "version_major": 2,
              "version_minor": 0,
              "model_id": "012274a1ce664790858e8f83419cadd3"
            }
          },
          "metadata": {
            "application/vnd.jupyter.widget-view+json": {
              "colab": {
                "custom_widget_manager": {
                  "url": "https://ssl.gstatic.com/colaboratory-static/widgets/colab-cdn-widget-manager/2b70e893a8ba7c0f/manager.min.js"
                }
              }
            }
          }
        },
        {
          "output_type": "display_data",
          "data": {
            "text/plain": [
              "<IPython.core.display.HTML object>"
            ],
            "text/html": []
          },
          "metadata": {}
        },
        {
          "output_type": "execute_result",
          "data": {
            "text/plain": [
              "LogisticRegression(C=1.0, class_weight=None, dual=False, fit_intercept=True,\n",
              "                   intercept_scaling=1, l1_ratio=None, max_iter=1000,\n",
              "                   multi_class='auto', n_jobs=None, penalty='l2',\n",
              "                   random_state=123, solver='lbfgs', tol=0.0001, verbose=0,\n",
              "                   warm_start=False)"
            ],
            "text/html": [
              "<style>#sk-container-id-1 {\n",
              "  /* Definition of color scheme common for light and dark mode */\n",
              "  --sklearn-color-text: black;\n",
              "  --sklearn-color-line: gray;\n",
              "  /* Definition of color scheme for unfitted estimators */\n",
              "  --sklearn-color-unfitted-level-0: #fff5e6;\n",
              "  --sklearn-color-unfitted-level-1: #f6e4d2;\n",
              "  --sklearn-color-unfitted-level-2: #ffe0b3;\n",
              "  --sklearn-color-unfitted-level-3: chocolate;\n",
              "  /* Definition of color scheme for fitted estimators */\n",
              "  --sklearn-color-fitted-level-0: #f0f8ff;\n",
              "  --sklearn-color-fitted-level-1: #d4ebff;\n",
              "  --sklearn-color-fitted-level-2: #b3dbfd;\n",
              "  --sklearn-color-fitted-level-3: cornflowerblue;\n",
              "\n",
              "  /* Specific color for light theme */\n",
              "  --sklearn-color-text-on-default-background: var(--sg-text-color, var(--theme-code-foreground, var(--jp-content-font-color1, black)));\n",
              "  --sklearn-color-background: var(--sg-background-color, var(--theme-background, var(--jp-layout-color0, white)));\n",
              "  --sklearn-color-border-box: var(--sg-text-color, var(--theme-code-foreground, var(--jp-content-font-color1, black)));\n",
              "  --sklearn-color-icon: #696969;\n",
              "\n",
              "  @media (prefers-color-scheme: dark) {\n",
              "    /* Redefinition of color scheme for dark theme */\n",
              "    --sklearn-color-text-on-default-background: var(--sg-text-color, var(--theme-code-foreground, var(--jp-content-font-color1, white)));\n",
              "    --sklearn-color-background: var(--sg-background-color, var(--theme-background, var(--jp-layout-color0, #111)));\n",
              "    --sklearn-color-border-box: var(--sg-text-color, var(--theme-code-foreground, var(--jp-content-font-color1, white)));\n",
              "    --sklearn-color-icon: #878787;\n",
              "  }\n",
              "}\n",
              "\n",
              "#sk-container-id-1 {\n",
              "  color: var(--sklearn-color-text);\n",
              "}\n",
              "\n",
              "#sk-container-id-1 pre {\n",
              "  padding: 0;\n",
              "}\n",
              "\n",
              "#sk-container-id-1 input.sk-hidden--visually {\n",
              "  border: 0;\n",
              "  clip: rect(1px 1px 1px 1px);\n",
              "  clip: rect(1px, 1px, 1px, 1px);\n",
              "  height: 1px;\n",
              "  margin: -1px;\n",
              "  overflow: hidden;\n",
              "  padding: 0;\n",
              "  position: absolute;\n",
              "  width: 1px;\n",
              "}\n",
              "\n",
              "#sk-container-id-1 div.sk-dashed-wrapped {\n",
              "  border: 1px dashed var(--sklearn-color-line);\n",
              "  margin: 0 0.4em 0.5em 0.4em;\n",
              "  box-sizing: border-box;\n",
              "  padding-bottom: 0.4em;\n",
              "  background-color: var(--sklearn-color-background);\n",
              "}\n",
              "\n",
              "#sk-container-id-1 div.sk-container {\n",
              "  /* jupyter's `normalize.less` sets `[hidden] { display: none; }`\n",
              "     but bootstrap.min.css set `[hidden] { display: none !important; }`\n",
              "     so we also need the `!important` here to be able to override the\n",
              "     default hidden behavior on the sphinx rendered scikit-learn.org.\n",
              "     See: https://github.com/scikit-learn/scikit-learn/issues/21755 */\n",
              "  display: inline-block !important;\n",
              "  position: relative;\n",
              "}\n",
              "\n",
              "#sk-container-id-1 div.sk-text-repr-fallback {\n",
              "  display: none;\n",
              "}\n",
              "\n",
              "div.sk-parallel-item,\n",
              "div.sk-serial,\n",
              "div.sk-item {\n",
              "  /* draw centered vertical line to link estimators */\n",
              "  background-image: linear-gradient(var(--sklearn-color-text-on-default-background), var(--sklearn-color-text-on-default-background));\n",
              "  background-size: 2px 100%;\n",
              "  background-repeat: no-repeat;\n",
              "  background-position: center center;\n",
              "}\n",
              "\n",
              "/* Parallel-specific style estimator block */\n",
              "\n",
              "#sk-container-id-1 div.sk-parallel-item::after {\n",
              "  content: \"\";\n",
              "  width: 100%;\n",
              "  border-bottom: 2px solid var(--sklearn-color-text-on-default-background);\n",
              "  flex-grow: 1;\n",
              "}\n",
              "\n",
              "#sk-container-id-1 div.sk-parallel {\n",
              "  display: flex;\n",
              "  align-items: stretch;\n",
              "  justify-content: center;\n",
              "  background-color: var(--sklearn-color-background);\n",
              "  position: relative;\n",
              "}\n",
              "\n",
              "#sk-container-id-1 div.sk-parallel-item {\n",
              "  display: flex;\n",
              "  flex-direction: column;\n",
              "}\n",
              "\n",
              "#sk-container-id-1 div.sk-parallel-item:first-child::after {\n",
              "  align-self: flex-end;\n",
              "  width: 50%;\n",
              "}\n",
              "\n",
              "#sk-container-id-1 div.sk-parallel-item:last-child::after {\n",
              "  align-self: flex-start;\n",
              "  width: 50%;\n",
              "}\n",
              "\n",
              "#sk-container-id-1 div.sk-parallel-item:only-child::after {\n",
              "  width: 0;\n",
              "}\n",
              "\n",
              "/* Serial-specific style estimator block */\n",
              "\n",
              "#sk-container-id-1 div.sk-serial {\n",
              "  display: flex;\n",
              "  flex-direction: column;\n",
              "  align-items: center;\n",
              "  background-color: var(--sklearn-color-background);\n",
              "  padding-right: 1em;\n",
              "  padding-left: 1em;\n",
              "}\n",
              "\n",
              "\n",
              "/* Toggleable style: style used for estimator/Pipeline/ColumnTransformer box that is\n",
              "clickable and can be expanded/collapsed.\n",
              "- Pipeline and ColumnTransformer use this feature and define the default style\n",
              "- Estimators will overwrite some part of the style using the `sk-estimator` class\n",
              "*/\n",
              "\n",
              "/* Pipeline and ColumnTransformer style (default) */\n",
              "\n",
              "#sk-container-id-1 div.sk-toggleable {\n",
              "  /* Default theme specific background. It is overwritten whether we have a\n",
              "  specific estimator or a Pipeline/ColumnTransformer */\n",
              "  background-color: var(--sklearn-color-background);\n",
              "}\n",
              "\n",
              "/* Toggleable label */\n",
              "#sk-container-id-1 label.sk-toggleable__label {\n",
              "  cursor: pointer;\n",
              "  display: block;\n",
              "  width: 100%;\n",
              "  margin-bottom: 0;\n",
              "  padding: 0.5em;\n",
              "  box-sizing: border-box;\n",
              "  text-align: center;\n",
              "}\n",
              "\n",
              "#sk-container-id-1 label.sk-toggleable__label-arrow:before {\n",
              "  /* Arrow on the left of the label */\n",
              "  content: \"▸\";\n",
              "  float: left;\n",
              "  margin-right: 0.25em;\n",
              "  color: var(--sklearn-color-icon);\n",
              "}\n",
              "\n",
              "#sk-container-id-1 label.sk-toggleable__label-arrow:hover:before {\n",
              "  color: var(--sklearn-color-text);\n",
              "}\n",
              "\n",
              "/* Toggleable content - dropdown */\n",
              "\n",
              "#sk-container-id-1 div.sk-toggleable__content {\n",
              "  max-height: 0;\n",
              "  max-width: 0;\n",
              "  overflow: hidden;\n",
              "  text-align: left;\n",
              "  /* unfitted */\n",
              "  background-color: var(--sklearn-color-unfitted-level-0);\n",
              "}\n",
              "\n",
              "#sk-container-id-1 div.sk-toggleable__content.fitted {\n",
              "  /* fitted */\n",
              "  background-color: var(--sklearn-color-fitted-level-0);\n",
              "}\n",
              "\n",
              "#sk-container-id-1 div.sk-toggleable__content pre {\n",
              "  margin: 0.2em;\n",
              "  border-radius: 0.25em;\n",
              "  color: var(--sklearn-color-text);\n",
              "  /* unfitted */\n",
              "  background-color: var(--sklearn-color-unfitted-level-0);\n",
              "}\n",
              "\n",
              "#sk-container-id-1 div.sk-toggleable__content.fitted pre {\n",
              "  /* unfitted */\n",
              "  background-color: var(--sklearn-color-fitted-level-0);\n",
              "}\n",
              "\n",
              "#sk-container-id-1 input.sk-toggleable__control:checked~div.sk-toggleable__content {\n",
              "  /* Expand drop-down */\n",
              "  max-height: 200px;\n",
              "  max-width: 100%;\n",
              "  overflow: auto;\n",
              "}\n",
              "\n",
              "#sk-container-id-1 input.sk-toggleable__control:checked~label.sk-toggleable__label-arrow:before {\n",
              "  content: \"▾\";\n",
              "}\n",
              "\n",
              "/* Pipeline/ColumnTransformer-specific style */\n",
              "\n",
              "#sk-container-id-1 div.sk-label input.sk-toggleable__control:checked~label.sk-toggleable__label {\n",
              "  color: var(--sklearn-color-text);\n",
              "  background-color: var(--sklearn-color-unfitted-level-2);\n",
              "}\n",
              "\n",
              "#sk-container-id-1 div.sk-label.fitted input.sk-toggleable__control:checked~label.sk-toggleable__label {\n",
              "  background-color: var(--sklearn-color-fitted-level-2);\n",
              "}\n",
              "\n",
              "/* Estimator-specific style */\n",
              "\n",
              "/* Colorize estimator box */\n",
              "#sk-container-id-1 div.sk-estimator input.sk-toggleable__control:checked~label.sk-toggleable__label {\n",
              "  /* unfitted */\n",
              "  background-color: var(--sklearn-color-unfitted-level-2);\n",
              "}\n",
              "\n",
              "#sk-container-id-1 div.sk-estimator.fitted input.sk-toggleable__control:checked~label.sk-toggleable__label {\n",
              "  /* fitted */\n",
              "  background-color: var(--sklearn-color-fitted-level-2);\n",
              "}\n",
              "\n",
              "#sk-container-id-1 div.sk-label label.sk-toggleable__label,\n",
              "#sk-container-id-1 div.sk-label label {\n",
              "  /* The background is the default theme color */\n",
              "  color: var(--sklearn-color-text-on-default-background);\n",
              "}\n",
              "\n",
              "/* On hover, darken the color of the background */\n",
              "#sk-container-id-1 div.sk-label:hover label.sk-toggleable__label {\n",
              "  color: var(--sklearn-color-text);\n",
              "  background-color: var(--sklearn-color-unfitted-level-2);\n",
              "}\n",
              "\n",
              "/* Label box, darken color on hover, fitted */\n",
              "#sk-container-id-1 div.sk-label.fitted:hover label.sk-toggleable__label.fitted {\n",
              "  color: var(--sklearn-color-text);\n",
              "  background-color: var(--sklearn-color-fitted-level-2);\n",
              "}\n",
              "\n",
              "/* Estimator label */\n",
              "\n",
              "#sk-container-id-1 div.sk-label label {\n",
              "  font-family: monospace;\n",
              "  font-weight: bold;\n",
              "  display: inline-block;\n",
              "  line-height: 1.2em;\n",
              "}\n",
              "\n",
              "#sk-container-id-1 div.sk-label-container {\n",
              "  text-align: center;\n",
              "}\n",
              "\n",
              "/* Estimator-specific */\n",
              "#sk-container-id-1 div.sk-estimator {\n",
              "  font-family: monospace;\n",
              "  border: 1px dotted var(--sklearn-color-border-box);\n",
              "  border-radius: 0.25em;\n",
              "  box-sizing: border-box;\n",
              "  margin-bottom: 0.5em;\n",
              "  /* unfitted */\n",
              "  background-color: var(--sklearn-color-unfitted-level-0);\n",
              "}\n",
              "\n",
              "#sk-container-id-1 div.sk-estimator.fitted {\n",
              "  /* fitted */\n",
              "  background-color: var(--sklearn-color-fitted-level-0);\n",
              "}\n",
              "\n",
              "/* on hover */\n",
              "#sk-container-id-1 div.sk-estimator:hover {\n",
              "  /* unfitted */\n",
              "  background-color: var(--sklearn-color-unfitted-level-2);\n",
              "}\n",
              "\n",
              "#sk-container-id-1 div.sk-estimator.fitted:hover {\n",
              "  /* fitted */\n",
              "  background-color: var(--sklearn-color-fitted-level-2);\n",
              "}\n",
              "\n",
              "/* Specification for estimator info (e.g. \"i\" and \"?\") */\n",
              "\n",
              "/* Common style for \"i\" and \"?\" */\n",
              "\n",
              ".sk-estimator-doc-link,\n",
              "a:link.sk-estimator-doc-link,\n",
              "a:visited.sk-estimator-doc-link {\n",
              "  float: right;\n",
              "  font-size: smaller;\n",
              "  line-height: 1em;\n",
              "  font-family: monospace;\n",
              "  background-color: var(--sklearn-color-background);\n",
              "  border-radius: 1em;\n",
              "  height: 1em;\n",
              "  width: 1em;\n",
              "  text-decoration: none !important;\n",
              "  margin-left: 1ex;\n",
              "  /* unfitted */\n",
              "  border: var(--sklearn-color-unfitted-level-1) 1pt solid;\n",
              "  color: var(--sklearn-color-unfitted-level-1);\n",
              "}\n",
              "\n",
              ".sk-estimator-doc-link.fitted,\n",
              "a:link.sk-estimator-doc-link.fitted,\n",
              "a:visited.sk-estimator-doc-link.fitted {\n",
              "  /* fitted */\n",
              "  border: var(--sklearn-color-fitted-level-1) 1pt solid;\n",
              "  color: var(--sklearn-color-fitted-level-1);\n",
              "}\n",
              "\n",
              "/* On hover */\n",
              "div.sk-estimator:hover .sk-estimator-doc-link:hover,\n",
              ".sk-estimator-doc-link:hover,\n",
              "div.sk-label-container:hover .sk-estimator-doc-link:hover,\n",
              ".sk-estimator-doc-link:hover {\n",
              "  /* unfitted */\n",
              "  background-color: var(--sklearn-color-unfitted-level-3);\n",
              "  color: var(--sklearn-color-background);\n",
              "  text-decoration: none;\n",
              "}\n",
              "\n",
              "div.sk-estimator.fitted:hover .sk-estimator-doc-link.fitted:hover,\n",
              ".sk-estimator-doc-link.fitted:hover,\n",
              "div.sk-label-container:hover .sk-estimator-doc-link.fitted:hover,\n",
              ".sk-estimator-doc-link.fitted:hover {\n",
              "  /* fitted */\n",
              "  background-color: var(--sklearn-color-fitted-level-3);\n",
              "  color: var(--sklearn-color-background);\n",
              "  text-decoration: none;\n",
              "}\n",
              "\n",
              "/* Span, style for the box shown on hovering the info icon */\n",
              ".sk-estimator-doc-link span {\n",
              "  display: none;\n",
              "  z-index: 9999;\n",
              "  position: relative;\n",
              "  font-weight: normal;\n",
              "  right: .2ex;\n",
              "  padding: .5ex;\n",
              "  margin: .5ex;\n",
              "  width: min-content;\n",
              "  min-width: 20ex;\n",
              "  max-width: 50ex;\n",
              "  color: var(--sklearn-color-text);\n",
              "  box-shadow: 2pt 2pt 4pt #999;\n",
              "  /* unfitted */\n",
              "  background: var(--sklearn-color-unfitted-level-0);\n",
              "  border: .5pt solid var(--sklearn-color-unfitted-level-3);\n",
              "}\n",
              "\n",
              ".sk-estimator-doc-link.fitted span {\n",
              "  /* fitted */\n",
              "  background: var(--sklearn-color-fitted-level-0);\n",
              "  border: var(--sklearn-color-fitted-level-3);\n",
              "}\n",
              "\n",
              ".sk-estimator-doc-link:hover span {\n",
              "  display: block;\n",
              "}\n",
              "\n",
              "/* \"?\"-specific style due to the `<a>` HTML tag */\n",
              "\n",
              "#sk-container-id-1 a.estimator_doc_link {\n",
              "  float: right;\n",
              "  font-size: 1rem;\n",
              "  line-height: 1em;\n",
              "  font-family: monospace;\n",
              "  background-color: var(--sklearn-color-background);\n",
              "  border-radius: 1rem;\n",
              "  height: 1rem;\n",
              "  width: 1rem;\n",
              "  text-decoration: none;\n",
              "  /* unfitted */\n",
              "  color: var(--sklearn-color-unfitted-level-1);\n",
              "  border: var(--sklearn-color-unfitted-level-1) 1pt solid;\n",
              "}\n",
              "\n",
              "#sk-container-id-1 a.estimator_doc_link.fitted {\n",
              "  /* fitted */\n",
              "  border: var(--sklearn-color-fitted-level-1) 1pt solid;\n",
              "  color: var(--sklearn-color-fitted-level-1);\n",
              "}\n",
              "\n",
              "/* On hover */\n",
              "#sk-container-id-1 a.estimator_doc_link:hover {\n",
              "  /* unfitted */\n",
              "  background-color: var(--sklearn-color-unfitted-level-3);\n",
              "  color: var(--sklearn-color-background);\n",
              "  text-decoration: none;\n",
              "}\n",
              "\n",
              "#sk-container-id-1 a.estimator_doc_link.fitted:hover {\n",
              "  /* fitted */\n",
              "  background-color: var(--sklearn-color-fitted-level-3);\n",
              "}\n",
              "</style><div id=\"sk-container-id-1\" class=\"sk-top-container\"><div class=\"sk-text-repr-fallback\"><pre>LogisticRegression(C=1.0, class_weight=None, dual=False, fit_intercept=True,\n",
              "                   intercept_scaling=1, l1_ratio=None, max_iter=1000,\n",
              "                   multi_class=&#x27;auto&#x27;, n_jobs=None, penalty=&#x27;l2&#x27;,\n",
              "                   random_state=123, solver=&#x27;lbfgs&#x27;, tol=0.0001, verbose=0,\n",
              "                   warm_start=False)</pre><b>In a Jupyter environment, please rerun this cell to show the HTML representation or trust the notebook. <br />On GitHub, the HTML representation is unable to render, please try loading this page with nbviewer.org.</b></div><div class=\"sk-container\" hidden><div class=\"sk-item\"><div class=\"sk-estimator fitted sk-toggleable\"><input class=\"sk-toggleable__control sk-hidden--visually\" id=\"sk-estimator-id-1\" type=\"checkbox\" checked><label for=\"sk-estimator-id-1\" class=\"sk-toggleable__label fitted sk-toggleable__label-arrow fitted\">&nbsp;&nbsp;LogisticRegression<a class=\"sk-estimator-doc-link fitted\" rel=\"noreferrer\" target=\"_blank\" href=\"https://scikit-learn.org/1.4/modules/generated/sklearn.linear_model.LogisticRegression.html\">?<span>Documentation for LogisticRegression</span></a><span class=\"sk-estimator-doc-link fitted\">i<span>Fitted</span></span></label><div class=\"sk-toggleable__content fitted\"><pre>LogisticRegression(C=1.0, class_weight=None, dual=False, fit_intercept=True,\n",
              "                   intercept_scaling=1, l1_ratio=None, max_iter=1000,\n",
              "                   multi_class=&#x27;auto&#x27;, n_jobs=None, penalty=&#x27;l2&#x27;,\n",
              "                   random_state=123, solver=&#x27;lbfgs&#x27;, tol=0.0001, verbose=0,\n",
              "                   warm_start=False)</pre></div> </div></div></div></div>"
            ]
          },
          "metadata": {},
          "execution_count": 36
        }
      ],
      "source": [
        "# Following one-line code fits 15 different models\n",
        "# to the training data and reports out 6 model quality metrics\n",
        "# For each model, best parameter choice is made using 10 fold CV\n",
        "# At the end of the run, it highlights the best value of the metric\n",
        "classification.compare_models()"
      ]
    },
    {
      "cell_type": "markdown",
      "metadata": {
        "id": "PTN68w0pM2u7"
      },
      "source": [
        "## Gradient Boosting"
      ]
    },
    {
      "cell_type": "code",
      "execution_count": null,
      "metadata": {
        "id": "WkkhfKqkY_dp"
      },
      "outputs": [],
      "source": [
        "model_gb = classification.create_model('gbc')"
      ]
    },
    {
      "cell_type": "code",
      "execution_count": null,
      "metadata": {
        "id": "nt2za4W6MXnH"
      },
      "outputs": [],
      "source": [
        "classification.plot_model(model_gb, plot = 'auc')"
      ]
    },
    {
      "cell_type": "code",
      "execution_count": null,
      "metadata": {
        "id": "wZJlMlDaMiKt"
      },
      "outputs": [],
      "source": [
        "classification.plot_model(model_gb, plot = 'pr')"
      ]
    },
    {
      "cell_type": "code",
      "execution_count": null,
      "metadata": {
        "id": "LhNwbGiOMrJw"
      },
      "outputs": [],
      "source": [
        "classification.plot_model(model_gb, plot = 'boundary')"
      ]
    },
    {
      "cell_type": "code",
      "execution_count": null,
      "metadata": {
        "id": "eUjZtNltN8at"
      },
      "outputs": [],
      "source": [
        "classification.plot_model(model_gb, plot = 'pr')"
      ]
    },
    {
      "cell_type": "code",
      "execution_count": null,
      "metadata": {
        "id": "e8myQHVmPF2u"
      },
      "outputs": [],
      "source": [
        "classification.plot_model(model_gb, plot = 'vc')"
      ]
    },
    {
      "cell_type": "code",
      "execution_count": null,
      "metadata": {
        "id": "qpAVOJQKS9Gc"
      },
      "outputs": [],
      "source": [
        "classification.plot_model(model_gb, plot = 'feature')"
      ]
    },
    {
      "cell_type": "code",
      "execution_count": null,
      "metadata": {
        "id": "7bo-dwyvTeOo"
      },
      "outputs": [],
      "source": [
        "classification.plot_model(model_gb, plot = 'confusion_matrix')"
      ]
    },
    {
      "cell_type": "markdown",
      "metadata": {
        "id": "PKm1Eu3LdOUY"
      },
      "source": [
        "## Logistic Regression"
      ]
    },
    {
      "cell_type": "code",
      "execution_count": null,
      "metadata": {
        "id": "KvPPdUmlflja"
      },
      "outputs": [],
      "source": [
        "model_lg = classification.create_model('lr')"
      ]
    },
    {
      "cell_type": "code",
      "execution_count": null,
      "metadata": {
        "id": "YX-0GUB1gBIP"
      },
      "outputs": [],
      "source": [
        "classification.plot_model(model_lg, plot = 'auc')"
      ]
    },
    {
      "cell_type": "code",
      "execution_count": null,
      "metadata": {
        "id": "sIE8IDLDZebi"
      },
      "outputs": [],
      "source": [
        "classification.plot_model(model_lg, plot = 'pr')"
      ]
    },
    {
      "cell_type": "code",
      "execution_count": null,
      "metadata": {
        "id": "djEXR7DZgfPc"
      },
      "outputs": [],
      "source": [
        "classification.plot_model(model_lg, plot = 'vc')"
      ]
    },
    {
      "cell_type": "markdown",
      "metadata": {
        "id": "toFt0A0Ckvqn"
      },
      "source": [
        "### XGBoost"
      ]
    },
    {
      "cell_type": "code",
      "execution_count": null,
      "metadata": {
        "id": "Dd5XkwElkujX"
      },
      "outputs": [],
      "source": [
        "model_xgb = classification.create_model('xgboost')"
      ]
    },
    {
      "cell_type": "code",
      "execution_count": null,
      "metadata": {
        "id": "DOlv1mwEk2cA"
      },
      "outputs": [],
      "source": [
        "model_xgb"
      ]
    },
    {
      "cell_type": "code",
      "execution_count": null,
      "metadata": {
        "id": "1Jkmofubk5QJ"
      },
      "outputs": [],
      "source": [
        "#AUC-ROC plot\n",
        "classification.plot_model(model_xgb, plot = 'auc')"
      ]
    },
    {
      "cell_type": "code",
      "execution_count": null,
      "metadata": {
        "id": "1sVsr__nk7qT"
      },
      "outputs": [],
      "source": [
        "#Decision boundary\n",
        "classification.plot_model(model_xgb, plot = 'boundary')"
      ]
    },
    {
      "cell_type": "code",
      "execution_count": null,
      "metadata": {
        "id": "w4hZDvSRk-Jl"
      },
      "outputs": [],
      "source": [
        "#Precision-Recall curve\n",
        "classification.plot_model(model_xgb, plot = 'pr')"
      ]
    },
    {
      "cell_type": "code",
      "execution_count": null,
      "metadata": {
        "id": "GgbFJlRylB66"
      },
      "outputs": [],
      "source": [
        "#Validation Curve\n",
        "classification.plot_model(model_xgb, plot = 'vc')"
      ]
    },
    {
      "cell_type": "code",
      "execution_count": null,
      "metadata": {
        "id": "xiPG9b_glCqG"
      },
      "outputs": [],
      "source": [
        "#Feature importance plot\n",
        "classification.plot_model(model_xgb, plot = 'feature')"
      ]
    },
    {
      "cell_type": "code",
      "execution_count": null,
      "metadata": {
        "id": "W3HZXBXflE69"
      },
      "outputs": [],
      "source": [
        "#Confusion matrix\n",
        "classification.plot_model(model_xgb, plot = 'confusion_matrix')"
      ]
    },
    {
      "cell_type": "code",
      "execution_count": null,
      "metadata": {
        "id": "s5YyxtzJlG9P"
      },
      "outputs": [],
      "source": [
        "# Interpret model\n",
        "classification.interpret_model(model_xgb)\n",
        "# For Xgb model, the plot produces (y= feature, X=Shapely value)"
      ]
    },
    {
      "cell_type": "markdown",
      "metadata": {
        "id": "PMcCHAZYlm-T"
      },
      "source": [
        "###Random Forest"
      ]
    },
    {
      "cell_type": "code",
      "execution_count": null,
      "metadata": {
        "id": "rBEznA2ilh_3"
      },
      "outputs": [],
      "source": [
        "model_rf = classification.create_model('rf')"
      ]
    },
    {
      "cell_type": "code",
      "execution_count": null,
      "metadata": {
        "id": "hoOwz9vTlkfy"
      },
      "outputs": [],
      "source": [
        "model_rf"
      ]
    },
    {
      "cell_type": "code",
      "execution_count": null,
      "metadata": {
        "id": "JAtG6D8Rlqwy"
      },
      "outputs": [],
      "source": [
        "classification.plot_model(model_rf, plot = 'auc')"
      ]
    },
    {
      "cell_type": "code",
      "execution_count": null,
      "metadata": {
        "id": "SRIlav9xls-N"
      },
      "outputs": [],
      "source": [
        "classification.plot_model(model_rf, plot = 'boundary')"
      ]
    },
    {
      "cell_type": "code",
      "execution_count": null,
      "metadata": {
        "id": "HgFxzufuh7Hk"
      },
      "outputs": [],
      "source": [
        "classification.plot_model(model_rf, plot = 'pr')"
      ]
    },
    {
      "cell_type": "code",
      "execution_count": null,
      "metadata": {
        "id": "Q2rwvqxbiAkc"
      },
      "outputs": [],
      "source": [
        "classification.plot_model(model_rf, plot = 'vc')"
      ]
    },
    {
      "cell_type": "code",
      "execution_count": null,
      "metadata": {
        "id": "6I_rqb3DiLmM"
      },
      "outputs": [],
      "source": [
        "classification.plot_model(model_rf, plot = 'feature')"
      ]
    },
    {
      "cell_type": "code",
      "execution_count": null,
      "metadata": {
        "id": "AUJquz6wifk0"
      },
      "outputs": [],
      "source": [
        "#Confusion matrix\n",
        "classification.plot_model(model_rf, plot = 'confusion_matrix')"
      ]
    },
    {
      "cell_type": "code",
      "execution_count": null,
      "metadata": {
        "id": "pw46iVwRmDUN"
      },
      "outputs": [],
      "source": [
        "classification.interpret_model(model_rf)"
      ]
    },
    {
      "cell_type": "markdown",
      "metadata": {
        "id": "4LUNvKm-LJ1x"
      },
      "source": [
        "## SVM"
      ]
    },
    {
      "cell_type": "code",
      "execution_count": null,
      "metadata": {
        "id": "n5fn_7jMkvs3"
      },
      "outputs": [],
      "source": [
        "model_svm = classification.create_model('svm')"
      ]
    },
    {
      "cell_type": "code",
      "execution_count": null,
      "metadata": {
        "id": "iwRjK0KUnoF0"
      },
      "outputs": [],
      "source": [
        "classification.plot_model(model_svm, plot = 'boundary')"
      ]
    },
    {
      "cell_type": "code",
      "execution_count": null,
      "metadata": {
        "id": "EWUZdrvvoDOr"
      },
      "outputs": [],
      "source": [
        "classification.plot_model(model_svm, plot = 'pr')"
      ]
    },
    {
      "cell_type": "code",
      "execution_count": null,
      "metadata": {
        "id": "zGk8gN8boI4r"
      },
      "outputs": [],
      "source": [
        "classification.plot_model(model_svm, plot = 'vc')"
      ]
    },
    {
      "cell_type": "code",
      "execution_count": null,
      "metadata": {
        "id": "pdT-rbs9oMMV"
      },
      "outputs": [],
      "source": [
        "classification.plot_model(model_svm, plot = 'feature')"
      ]
    },
    {
      "cell_type": "code",
      "execution_count": null,
      "metadata": {
        "id": "XFR1MIuloSxk"
      },
      "outputs": [],
      "source": [
        "classification.plot_model(model_svm, plot = 'confusion_matrix')"
      ]
    },
    {
      "cell_type": "markdown",
      "metadata": {
        "id": "KTd8dfEsLNQY"
      },
      "source": [
        "## Decision Tree"
      ]
    },
    {
      "cell_type": "code",
      "execution_count": null,
      "metadata": {
        "id": "hUGlZXmKmdBE"
      },
      "outputs": [],
      "source": [
        "model_dt = classification.create_model('dt')"
      ]
    },
    {
      "cell_type": "code",
      "execution_count": null,
      "metadata": {
        "id": "hR_EytOMpebJ"
      },
      "outputs": [],
      "source": [
        "classification.plot_model(model_dt, plot = 'auc')"
      ]
    },
    {
      "cell_type": "code",
      "execution_count": null,
      "metadata": {
        "id": "5yVJtmXMperK"
      },
      "outputs": [],
      "source": [
        "classification.plot_model(model_dt, plot = 'boundary')"
      ]
    },
    {
      "cell_type": "code",
      "execution_count": null,
      "metadata": {
        "id": "w4cjruxCpe0S"
      },
      "outputs": [],
      "source": [
        "classification.plot_model(model_dt, plot = 'pr')"
      ]
    },
    {
      "cell_type": "code",
      "execution_count": null,
      "metadata": {
        "id": "vHPEFQRFpe7G"
      },
      "outputs": [],
      "source": [
        "classification.plot_model(model_dt, plot = 'vc')"
      ]
    },
    {
      "cell_type": "code",
      "execution_count": null,
      "metadata": {
        "id": "2ayQW8GApfAg"
      },
      "outputs": [],
      "source": [
        "classification.plot_model(model_dt, plot = 'feature')"
      ]
    },
    {
      "cell_type": "code",
      "execution_count": null,
      "metadata": {
        "id": "VIJoR895pyBs"
      },
      "outputs": [],
      "source": [
        "classification.plot_model(model_dt, plot = 'confusion_matrix')"
      ]
    },
    {
      "cell_type": "code",
      "execution_count": null,
      "metadata": {
        "id": "7nRZULAOm4NJ"
      },
      "outputs": [],
      "source": [
        "classification.interpret_model(model_dt)"
      ]
    },
    {
      "cell_type": "markdown",
      "metadata": {
        "id": "QPhR8Q_kr2Nb"
      },
      "source": [
        "## Building Ensemble Model"
      ]
    },
    {
      "cell_type": "markdown",
      "metadata": {
        "id": "yC3Be9TcsdoN"
      },
      "source": [
        "### Bagging Based Ensemble"
      ]
    },
    {
      "cell_type": "code",
      "execution_count": null,
      "metadata": {
        "id": "F66WjM3zr7k4"
      },
      "outputs": [],
      "source": [
        "from sklearn.ensemble import BaggingClassifier\n",
        "from sklearn.linear_model import LogisticRegression"
      ]
    },
    {
      "cell_type": "code",
      "execution_count": null,
      "metadata": {
        "id": "vF-dixdss0Vz"
      },
      "outputs": [],
      "source": [
        "bagged_model = BaggingClassifier(LogisticRegression(solver='liblinear'),\n",
        "                                 max_samples = 150, max_features = 5,\n",
        "                                 bootstrap = True, bootstrap_features = True,\n",
        "                                 oob_score = True,\n",
        "                                 random_state = 42\n",
        "                                 )"
      ]
    },
    {
      "cell_type": "code",
      "execution_count": null,
      "metadata": {
        "id": "erdXJtQZtLz0"
      },
      "outputs": [],
      "source": [
        "bagged_model.fit(X_other,y_other)"
      ]
    },
    {
      "cell_type": "code",
      "execution_count": null,
      "metadata": {
        "id": "dSmZb7rC0q98"
      },
      "outputs": [],
      "source": [
        "bagged_model.oob_score_"
      ]
    },
    {
      "cell_type": "code",
      "execution_count": null,
      "metadata": {
        "id": "VMPruP3A0yWU"
      },
      "outputs": [],
      "source": [
        "# Run the model on the test data\n",
        "\n",
        "# Binary prediction from the model\n",
        "y_test_pred = bagged_model.predict(X_test)\n",
        "\n",
        "# predicted probabilities form the model\n",
        "y_test_pred_prob = bagged_model.predict_proba(X_test)"
      ]
    },
    {
      "cell_type": "code",
      "execution_count": null,
      "metadata": {
        "id": "DPCNTpD509T3"
      },
      "outputs": [],
      "source": [
        "from sklearn import metrics\n",
        "from sklearn.metrics import classification_report"
      ]
    },
    {
      "cell_type": "code",
      "execution_count": null,
      "metadata": {
        "id": "kZE7-8nh0_8g"
      },
      "outputs": [],
      "source": [
        "target_names = ['Yes','No']\n",
        "print(classification_report(y_test, y_test_pred, target_names=target_names))"
      ]
    },
    {
      "cell_type": "code",
      "execution_count": null,
      "metadata": {
        "id": "sKJwkGEG1G6r"
      },
      "outputs": [],
      "source": [
        "#Confusion matrix\n",
        "cnf_matrix = metrics.confusion_matrix(y_test, y_test_pred)\n",
        "cnf_matrix = pd.DataFrame(cnf_matrix)\n",
        "cnf_matrix.columns = ['predicted_no_Heart_Attack', 'predicted_Had_Heart_Attack']\n",
        "cnf_matrix.index = ['true_no_Heart_Attack', 'true_Had_Heart_Attack']\n",
        "cnf_matrix"
      ]
    },
    {
      "cell_type": "markdown",
      "metadata": {
        "id": "5EQiBf591nQF"
      },
      "source": [
        "### Voting Classifiers"
      ]
    },
    {
      "cell_type": "code",
      "execution_count": null,
      "metadata": {
        "id": "6KhoBWNn1rPn"
      },
      "outputs": [],
      "source": [
        "from sklearn.ensemble import  VotingClassifier\n",
        "from sklearn.naive_bayes import GaussianNB\n",
        "# Linear Support vector machine for classification\n",
        "from sklearn.svm import LinearSVC"
      ]
    },
    {
      "cell_type": "code",
      "execution_count": null,
      "metadata": {
        "id": "Y_8_ELRZ-5KR"
      },
      "outputs": [],
      "source": [
        "# Voting classifiers\n",
        "clf_LR = LogisticRegression(random_state=42)\n",
        "clf_GNB = GaussianNB()\n",
        "clf_SVM = LinearSVC()\n"
      ]
    },
    {
      "cell_type": "code",
      "execution_count": null,
      "metadata": {
        "id": "Npu1Kns5_hWJ"
      },
      "outputs": [],
      "source": [
        "# Define the ensemble model\n",
        "ensmb1 = VotingClassifier(estimators=[('lr', clf_LR),\n",
        "                                     ('gnb', clf_GNB),\n",
        "                                     ('svm', clf_SVM)],\n",
        "                         voting='hard')\n",
        "\n",
        "# Fit the ensemble model\n",
        "ensmb1 = ensmb1.fit(X_other,y_other)"
      ]
    },
    {
      "cell_type": "code",
      "execution_count": null,
      "metadata": {
        "id": "ztEf5zLEAPsn"
      },
      "outputs": [],
      "source": [
        "y_test_pred = ensmb1.predict(X_test)"
      ]
    },
    {
      "cell_type": "code",
      "execution_count": null,
      "metadata": {
        "id": "7wFRAKuuAeCa"
      },
      "outputs": [],
      "source": [
        "from sklearn.metrics import classification_report\n",
        "target_names = ['Yes','No']\n",
        "print(classification_report(y_test, y_test_pred, target_names=target_names))"
      ]
    },
    {
      "cell_type": "code",
      "execution_count": null,
      "metadata": {
        "id": "5s9141OvAxnB"
      },
      "outputs": [],
      "source": [
        "from sklearn import metrics\n",
        "cnf_matrix = metrics.confusion_matrix(y_test, y_test_pred)\n",
        "cnf_matrix = pd.DataFrame(cnf_matrix)\n",
        "cnf_matrix.columns = ['predicted_no_Heart_Attack', 'predicted_Had_Heart_Attack']\n",
        "cnf_matrix.index = ['true_no_Heart_Attack', 'true_Had_Heart_Attack']\n",
        "cnf_matrix"
      ]
    },
    {
      "cell_type": "markdown",
      "metadata": {
        "id": "w2Wqq5HmrbZ_"
      },
      "source": [
        "## Final Fitting to the Test Data"
      ]
    },
    {
      "cell_type": "markdown",
      "metadata": {
        "id": "WGhCrVp6r36r"
      },
      "source": [
        "### Gradient Boosting"
      ]
    },
    {
      "cell_type": "code",
      "execution_count": null,
      "metadata": {
        "id": "KJtYb-yvreg5"
      },
      "outputs": [],
      "source": [
        "predictionsGB = classification.predict_model(model_gb, data=Heart_test)\n",
        "predictionsGB"
      ]
    },
    {
      "cell_type": "markdown",
      "metadata": {
        "id": "N5dZFdYUs32b"
      },
      "source": [
        "### Logistic Regression"
      ]
    },
    {
      "cell_type": "code",
      "execution_count": null,
      "metadata": {
        "id": "xGqBYw9Vriyx"
      },
      "outputs": [],
      "source": [
        "predictionsLOG = classification.predict_model(model_lg, data=Heart_test)\n",
        "predictionsLOG"
      ]
    },
    {
      "cell_type": "markdown",
      "metadata": {
        "id": "bme6c6H7tRun"
      },
      "source": [
        "### Voting Classifiers"
      ]
    },
    {
      "cell_type": "code",
      "execution_count": null,
      "metadata": {
        "id": "Pf0M0AuPtVsf"
      },
      "outputs": [],
      "source": [
        "y_test_pred = ensmb1.predict(X_test)\n",
        "from sklearn.metrics import classification_report\n",
        "target_names = ['Yes','No']\n",
        "print(classification_report(y_test, y_test_pred, target_names=target_names))"
      ]
    },
    {
      "cell_type": "code",
      "execution_count": null,
      "metadata": {
        "id": "IbkLoXtstliD"
      },
      "outputs": [],
      "source": [
        "from sklearn import metrics\n",
        "cnf_matrix = metrics.confusion_matrix(y_test, y_test_pred)\n",
        "cnf_matrix = pd.DataFrame(cnf_matrix)\n",
        "cnf_matrix.columns = ['predicted_no_Heart_Attack', 'predicted_Had_Heart_Attack']\n",
        "cnf_matrix.index = ['true_no_Heart_Attack', 'true_Had_Heart_Attack']\n",
        "cnf_matrix"
      ]
    },
    {
      "cell_type": "markdown",
      "metadata": {
        "id": "AqEsPID8tu4i"
      },
      "source": [
        "### XGboost"
      ]
    },
    {
      "cell_type": "code",
      "execution_count": null,
      "metadata": {
        "id": "8scMUQO3twTU"
      },
      "outputs": [],
      "source": [
        "predictionsXG = classification.predict_model(model_xgb, data=Heart_test)\n",
        "predictionsXG"
      ]
    }
  ],
  "metadata": {
    "colab": {
      "provenance": []
    },
    "kernelspec": {
      "display_name": "Python 3",
      "name": "python3"
    },
    "language_info": {
      "name": "python"
    },
    "widgets": {
      "application/vnd.jupyter.widget-state+json": {
        "012274a1ce664790858e8f83419cadd3": {
          "model_module": "@jupyter-widgets/controls",
          "model_name": "HBoxModel",
          "model_module_version": "1.5.0",
          "state": {
            "_dom_classes": [],
            "_model_module": "@jupyter-widgets/controls",
            "_model_module_version": "1.5.0",
            "_model_name": "HBoxModel",
            "_view_count": null,
            "_view_module": "@jupyter-widgets/controls",
            "_view_module_version": "1.5.0",
            "_view_name": "HBoxView",
            "box_style": "",
            "children": [
              "IPY_MODEL_760c638af62d46e590a5bcd0585b9fe4",
              "IPY_MODEL_d35f8357fdd54aef8b12f6ddb874f0e1",
              "IPY_MODEL_7ad0ea1588434622a69f88075518ae71"
            ],
            "layout": "IPY_MODEL_0d1a1fa658d8442d902ea6c761cfc4d5"
          }
        },
        "760c638af62d46e590a5bcd0585b9fe4": {
          "model_module": "@jupyter-widgets/controls",
          "model_name": "HTMLModel",
          "model_module_version": "1.5.0",
          "state": {
            "_dom_classes": [],
            "_model_module": "@jupyter-widgets/controls",
            "_model_module_version": "1.5.0",
            "_model_name": "HTMLModel",
            "_view_count": null,
            "_view_module": "@jupyter-widgets/controls",
            "_view_module_version": "1.5.0",
            "_view_name": "HTMLView",
            "description": "",
            "description_tooltip": null,
            "layout": "IPY_MODEL_7c554a9fe0a04bda89a6e64d882c822c",
            "placeholder": "​",
            "style": "IPY_MODEL_c18844ebb153473c947c23a6328f4249",
            "value": "Processing: 100%"
          }
        },
        "d35f8357fdd54aef8b12f6ddb874f0e1": {
          "model_module": "@jupyter-widgets/controls",
          "model_name": "FloatProgressModel",
          "model_module_version": "1.5.0",
          "state": {
            "_dom_classes": [],
            "_model_module": "@jupyter-widgets/controls",
            "_model_module_version": "1.5.0",
            "_model_name": "FloatProgressModel",
            "_view_count": null,
            "_view_module": "@jupyter-widgets/controls",
            "_view_module_version": "1.5.0",
            "_view_name": "ProgressView",
            "bar_style": "",
            "description": "",
            "description_tooltip": null,
            "layout": "IPY_MODEL_7e25945c24ff413ea7a802eb5ae55acd",
            "max": 65,
            "min": 0,
            "orientation": "horizontal",
            "style": "IPY_MODEL_c18a3b068689416eaf59335e6f093cd5",
            "value": 65
          }
        },
        "7ad0ea1588434622a69f88075518ae71": {
          "model_module": "@jupyter-widgets/controls",
          "model_name": "HTMLModel",
          "model_module_version": "1.5.0",
          "state": {
            "_dom_classes": [],
            "_model_module": "@jupyter-widgets/controls",
            "_model_module_version": "1.5.0",
            "_model_name": "HTMLModel",
            "_view_count": null,
            "_view_module": "@jupyter-widgets/controls",
            "_view_module_version": "1.5.0",
            "_view_name": "HTMLView",
            "description": "",
            "description_tooltip": null,
            "layout": "IPY_MODEL_04cbe255daff4489bbd058c4323cd29b",
            "placeholder": "​",
            "style": "IPY_MODEL_cf6f2490226e458fad1080ee90a57836",
            "value": " 65/65 [19:03&lt;00:00,  6.35s/it]"
          }
        },
        "0d1a1fa658d8442d902ea6c761cfc4d5": {
          "model_module": "@jupyter-widgets/base",
          "model_name": "LayoutModel",
          "model_module_version": "1.2.0",
          "state": {
            "_model_module": "@jupyter-widgets/base",
            "_model_module_version": "1.2.0",
            "_model_name": "LayoutModel",
            "_view_count": null,
            "_view_module": "@jupyter-widgets/base",
            "_view_module_version": "1.2.0",
            "_view_name": "LayoutView",
            "align_content": null,
            "align_items": null,
            "align_self": null,
            "border": null,
            "bottom": null,
            "display": null,
            "flex": null,
            "flex_flow": null,
            "grid_area": null,
            "grid_auto_columns": null,
            "grid_auto_flow": null,
            "grid_auto_rows": null,
            "grid_column": null,
            "grid_gap": null,
            "grid_row": null,
            "grid_template_areas": null,
            "grid_template_columns": null,
            "grid_template_rows": null,
            "height": null,
            "justify_content": null,
            "justify_items": null,
            "left": null,
            "margin": null,
            "max_height": null,
            "max_width": null,
            "min_height": null,
            "min_width": null,
            "object_fit": null,
            "object_position": null,
            "order": null,
            "overflow": null,
            "overflow_x": null,
            "overflow_y": null,
            "padding": null,
            "right": null,
            "top": null,
            "visibility": "hidden",
            "width": null
          }
        },
        "7c554a9fe0a04bda89a6e64d882c822c": {
          "model_module": "@jupyter-widgets/base",
          "model_name": "LayoutModel",
          "model_module_version": "1.2.0",
          "state": {
            "_model_module": "@jupyter-widgets/base",
            "_model_module_version": "1.2.0",
            "_model_name": "LayoutModel",
            "_view_count": null,
            "_view_module": "@jupyter-widgets/base",
            "_view_module_version": "1.2.0",
            "_view_name": "LayoutView",
            "align_content": null,
            "align_items": null,
            "align_self": null,
            "border": null,
            "bottom": null,
            "display": null,
            "flex": null,
            "flex_flow": null,
            "grid_area": null,
            "grid_auto_columns": null,
            "grid_auto_flow": null,
            "grid_auto_rows": null,
            "grid_column": null,
            "grid_gap": null,
            "grid_row": null,
            "grid_template_areas": null,
            "grid_template_columns": null,
            "grid_template_rows": null,
            "height": null,
            "justify_content": null,
            "justify_items": null,
            "left": null,
            "margin": null,
            "max_height": null,
            "max_width": null,
            "min_height": null,
            "min_width": null,
            "object_fit": null,
            "object_position": null,
            "order": null,
            "overflow": null,
            "overflow_x": null,
            "overflow_y": null,
            "padding": null,
            "right": null,
            "top": null,
            "visibility": null,
            "width": null
          }
        },
        "c18844ebb153473c947c23a6328f4249": {
          "model_module": "@jupyter-widgets/controls",
          "model_name": "DescriptionStyleModel",
          "model_module_version": "1.5.0",
          "state": {
            "_model_module": "@jupyter-widgets/controls",
            "_model_module_version": "1.5.0",
            "_model_name": "DescriptionStyleModel",
            "_view_count": null,
            "_view_module": "@jupyter-widgets/base",
            "_view_module_version": "1.2.0",
            "_view_name": "StyleView",
            "description_width": ""
          }
        },
        "7e25945c24ff413ea7a802eb5ae55acd": {
          "model_module": "@jupyter-widgets/base",
          "model_name": "LayoutModel",
          "model_module_version": "1.2.0",
          "state": {
            "_model_module": "@jupyter-widgets/base",
            "_model_module_version": "1.2.0",
            "_model_name": "LayoutModel",
            "_view_count": null,
            "_view_module": "@jupyter-widgets/base",
            "_view_module_version": "1.2.0",
            "_view_name": "LayoutView",
            "align_content": null,
            "align_items": null,
            "align_self": null,
            "border": null,
            "bottom": null,
            "display": null,
            "flex": null,
            "flex_flow": null,
            "grid_area": null,
            "grid_auto_columns": null,
            "grid_auto_flow": null,
            "grid_auto_rows": null,
            "grid_column": null,
            "grid_gap": null,
            "grid_row": null,
            "grid_template_areas": null,
            "grid_template_columns": null,
            "grid_template_rows": null,
            "height": null,
            "justify_content": null,
            "justify_items": null,
            "left": null,
            "margin": null,
            "max_height": null,
            "max_width": null,
            "min_height": null,
            "min_width": null,
            "object_fit": null,
            "object_position": null,
            "order": null,
            "overflow": null,
            "overflow_x": null,
            "overflow_y": null,
            "padding": null,
            "right": null,
            "top": null,
            "visibility": null,
            "width": null
          }
        },
        "c18a3b068689416eaf59335e6f093cd5": {
          "model_module": "@jupyter-widgets/controls",
          "model_name": "ProgressStyleModel",
          "model_module_version": "1.5.0",
          "state": {
            "_model_module": "@jupyter-widgets/controls",
            "_model_module_version": "1.5.0",
            "_model_name": "ProgressStyleModel",
            "_view_count": null,
            "_view_module": "@jupyter-widgets/base",
            "_view_module_version": "1.2.0",
            "_view_name": "StyleView",
            "bar_color": null,
            "description_width": ""
          }
        },
        "04cbe255daff4489bbd058c4323cd29b": {
          "model_module": "@jupyter-widgets/base",
          "model_name": "LayoutModel",
          "model_module_version": "1.2.0",
          "state": {
            "_model_module": "@jupyter-widgets/base",
            "_model_module_version": "1.2.0",
            "_model_name": "LayoutModel",
            "_view_count": null,
            "_view_module": "@jupyter-widgets/base",
            "_view_module_version": "1.2.0",
            "_view_name": "LayoutView",
            "align_content": null,
            "align_items": null,
            "align_self": null,
            "border": null,
            "bottom": null,
            "display": null,
            "flex": null,
            "flex_flow": null,
            "grid_area": null,
            "grid_auto_columns": null,
            "grid_auto_flow": null,
            "grid_auto_rows": null,
            "grid_column": null,
            "grid_gap": null,
            "grid_row": null,
            "grid_template_areas": null,
            "grid_template_columns": null,
            "grid_template_rows": null,
            "height": null,
            "justify_content": null,
            "justify_items": null,
            "left": null,
            "margin": null,
            "max_height": null,
            "max_width": null,
            "min_height": null,
            "min_width": null,
            "object_fit": null,
            "object_position": null,
            "order": null,
            "overflow": null,
            "overflow_x": null,
            "overflow_y": null,
            "padding": null,
            "right": null,
            "top": null,
            "visibility": null,
            "width": null
          }
        },
        "cf6f2490226e458fad1080ee90a57836": {
          "model_module": "@jupyter-widgets/controls",
          "model_name": "DescriptionStyleModel",
          "model_module_version": "1.5.0",
          "state": {
            "_model_module": "@jupyter-widgets/controls",
            "_model_module_version": "1.5.0",
            "_model_name": "DescriptionStyleModel",
            "_view_count": null,
            "_view_module": "@jupyter-widgets/base",
            "_view_module_version": "1.2.0",
            "_view_name": "StyleView",
            "description_width": ""
          }
        }
      }
    }
  },
  "nbformat": 4,
  "nbformat_minor": 0
}